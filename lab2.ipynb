{
 "cells": [
  {
   "cell_type": "code",
   "execution_count": 99,
   "metadata": {
    "collapsed": true
   },
   "outputs": [],
   "source": [
    "from cmdstanpy import CmdStanModel\n",
    "import pandas as pd\n",
    "import arviz as az\n",
    "import numpy as np\n",
    "import matplotlib.pyplot as plt\n",
    "import scipy.stats as stats"
   ]
  },
  {
   "cell_type": "markdown",
   "source": [
    "Exercise 1 - Generated Quantities Block"
   ],
   "metadata": {
    "collapsed": false,
    "pycharm": {
     "name": "#%% md\n"
    }
   }
  },
  {
   "cell_type": "code",
   "execution_count": 100,
   "outputs": [
    {
     "name": "stderr",
     "output_type": "stream",
     "text": [
      "INFO:cmdstanpy:found newer exe file, not recompiling\n"
     ]
    }
   ],
   "source": [
    "gen_quant = CmdStanModel(stan_file='code_1.stan')"
   ],
   "metadata": {
    "collapsed": false,
    "pycharm": {
     "name": "#%%\n"
    }
   }
  },
  {
   "cell_type": "code",
   "execution_count": 101,
   "outputs": [
    {
     "name": "stderr",
     "output_type": "stream",
     "text": [
      "INFO:cmdstanpy:CmdStan start processing\n",
      "chain 1 |\u001B[34m██████████\u001B[0m| 00:00 Sampling completed"
     ]
    },
    {
     "name": "stdout",
     "output_type": "stream",
     "text": [
      "                                                                                "
     ]
    },
    {
     "name": "stderr",
     "output_type": "stream",
     "text": [
      "\n",
      "INFO:cmdstanpy:CmdStan done processing.\n"
     ]
    },
    {
     "name": "stdout",
     "output_type": "stream",
     "text": [
      "\n"
     ]
    }
   ],
   "source": [
    "#F-number of letters in first name (F=5)\n",
    "F = 5\n",
    "L = 6\n",
    "samples = gen_quant.sample(data={'M':F},\n",
    "                            fixed_param=True,\n",
    "                            iter_sampling=1000,\n",
    "                            iter_warmup=0,\n",
    "                            chains = 1)"
   ],
   "metadata": {
    "collapsed": false,
    "pycharm": {
     "name": "#%%\n"
    }
   }
  },
  {
   "cell_type": "code",
   "execution_count": 102,
   "outputs": [
    {
     "data": {
      "text/plain": "          Mean  MCSE  StdDev   5%  50%    95%  N_Eff   N_Eff/s  R_hat\nname                                                                 \nlp__         0   NaN       0  0.0    0    0.0    NaN       NaN    NaN\nlambda      97   2.3      71  8.2   83  230.0  940.0  120000.0    1.0\ny_sim[1]    96   2.4      72  8.0   83  231.0  937.0  117133.0    1.0\ny_sim[2]    97   2.3      72  8.0   84  233.0  940.0  117547.0    1.0\ny_sim[3]    97   2.3      72  8.0   85  231.0  951.0  118930.0    1.0\ny_sim[4]    97   2.3      72  8.0   84  233.0  945.0  118093.0    1.0\ny_sim[5]    96   2.3      72  8.0   83  234.0  945.0  118147.0    1.0",
      "text/html": "<div>\n<style scoped>\n    .dataframe tbody tr th:only-of-type {\n        vertical-align: middle;\n    }\n\n    .dataframe tbody tr th {\n        vertical-align: top;\n    }\n\n    .dataframe thead th {\n        text-align: right;\n    }\n</style>\n<table border=\"1\" class=\"dataframe\">\n  <thead>\n    <tr style=\"text-align: right;\">\n      <th></th>\n      <th>Mean</th>\n      <th>MCSE</th>\n      <th>StdDev</th>\n      <th>5%</th>\n      <th>50%</th>\n      <th>95%</th>\n      <th>N_Eff</th>\n      <th>N_Eff/s</th>\n      <th>R_hat</th>\n    </tr>\n    <tr>\n      <th>name</th>\n      <th></th>\n      <th></th>\n      <th></th>\n      <th></th>\n      <th></th>\n      <th></th>\n      <th></th>\n      <th></th>\n      <th></th>\n    </tr>\n  </thead>\n  <tbody>\n    <tr>\n      <th>lp__</th>\n      <td>0</td>\n      <td>NaN</td>\n      <td>0</td>\n      <td>0.0</td>\n      <td>0</td>\n      <td>0.0</td>\n      <td>NaN</td>\n      <td>NaN</td>\n      <td>NaN</td>\n    </tr>\n    <tr>\n      <th>lambda</th>\n      <td>97</td>\n      <td>2.3</td>\n      <td>71</td>\n      <td>8.2</td>\n      <td>83</td>\n      <td>230.0</td>\n      <td>940.0</td>\n      <td>120000.0</td>\n      <td>1.0</td>\n    </tr>\n    <tr>\n      <th>y_sim[1]</th>\n      <td>96</td>\n      <td>2.4</td>\n      <td>72</td>\n      <td>8.0</td>\n      <td>83</td>\n      <td>231.0</td>\n      <td>937.0</td>\n      <td>117133.0</td>\n      <td>1.0</td>\n    </tr>\n    <tr>\n      <th>y_sim[2]</th>\n      <td>97</td>\n      <td>2.3</td>\n      <td>72</td>\n      <td>8.0</td>\n      <td>84</td>\n      <td>233.0</td>\n      <td>940.0</td>\n      <td>117547.0</td>\n      <td>1.0</td>\n    </tr>\n    <tr>\n      <th>y_sim[3]</th>\n      <td>97</td>\n      <td>2.3</td>\n      <td>72</td>\n      <td>8.0</td>\n      <td>85</td>\n      <td>231.0</td>\n      <td>951.0</td>\n      <td>118930.0</td>\n      <td>1.0</td>\n    </tr>\n    <tr>\n      <th>y_sim[4]</th>\n      <td>97</td>\n      <td>2.3</td>\n      <td>72</td>\n      <td>8.0</td>\n      <td>84</td>\n      <td>233.0</td>\n      <td>945.0</td>\n      <td>118093.0</td>\n      <td>1.0</td>\n    </tr>\n    <tr>\n      <th>y_sim[5]</th>\n      <td>96</td>\n      <td>2.3</td>\n      <td>72</td>\n      <td>8.0</td>\n      <td>83</td>\n      <td>234.0</td>\n      <td>945.0</td>\n      <td>118147.0</td>\n      <td>1.0</td>\n    </tr>\n  </tbody>\n</table>\n</div>"
     },
     "execution_count": 102,
     "metadata": {},
     "output_type": "execute_result"
    }
   ],
   "source": [
    "samples.summary()"
   ],
   "metadata": {
    "collapsed": false,
    "pycharm": {
     "name": "#%%\n"
    }
   }
  },
  {
   "cell_type": "code",
   "execution_count": 124,
   "outputs": [
    {
     "data": {
      "text/plain": "   lp__  accept_stat__    lambda  y_sim[1]  y_sim[2]  y_sim[3]  y_sim[4]  \\\n0   0.0            0.0   37.8015      34.0      37.0      35.0      50.0   \n1   0.0            0.0   45.3258      45.0      50.0      52.0      41.0   \n2   0.0            0.0  103.8980     103.0     107.0     110.0      95.0   \n3   0.0            0.0   45.5604      41.0      40.0      50.0      50.0   \n4   0.0            0.0   88.4262      87.0      83.0      96.0      84.0   \n\n   y_sim[5]  \n0      40.0  \n1      47.0  \n2     111.0  \n3      39.0  \n4      83.0  ",
      "text/html": "<div>\n<style scoped>\n    .dataframe tbody tr th:only-of-type {\n        vertical-align: middle;\n    }\n\n    .dataframe tbody tr th {\n        vertical-align: top;\n    }\n\n    .dataframe thead th {\n        text-align: right;\n    }\n</style>\n<table border=\"1\" class=\"dataframe\">\n  <thead>\n    <tr style=\"text-align: right;\">\n      <th></th>\n      <th>lp__</th>\n      <th>accept_stat__</th>\n      <th>lambda</th>\n      <th>y_sim[1]</th>\n      <th>y_sim[2]</th>\n      <th>y_sim[3]</th>\n      <th>y_sim[4]</th>\n      <th>y_sim[5]</th>\n    </tr>\n  </thead>\n  <tbody>\n    <tr>\n      <th>0</th>\n      <td>0.0</td>\n      <td>0.0</td>\n      <td>37.8015</td>\n      <td>34.0</td>\n      <td>37.0</td>\n      <td>35.0</td>\n      <td>50.0</td>\n      <td>40.0</td>\n    </tr>\n    <tr>\n      <th>1</th>\n      <td>0.0</td>\n      <td>0.0</td>\n      <td>45.3258</td>\n      <td>45.0</td>\n      <td>50.0</td>\n      <td>52.0</td>\n      <td>41.0</td>\n      <td>47.0</td>\n    </tr>\n    <tr>\n      <th>2</th>\n      <td>0.0</td>\n      <td>0.0</td>\n      <td>103.8980</td>\n      <td>103.0</td>\n      <td>107.0</td>\n      <td>110.0</td>\n      <td>95.0</td>\n      <td>111.0</td>\n    </tr>\n    <tr>\n      <th>3</th>\n      <td>0.0</td>\n      <td>0.0</td>\n      <td>45.5604</td>\n      <td>41.0</td>\n      <td>40.0</td>\n      <td>50.0</td>\n      <td>50.0</td>\n      <td>39.0</td>\n    </tr>\n    <tr>\n      <th>4</th>\n      <td>0.0</td>\n      <td>0.0</td>\n      <td>88.4262</td>\n      <td>87.0</td>\n      <td>83.0</td>\n      <td>96.0</td>\n      <td>84.0</td>\n      <td>83.0</td>\n    </tr>\n  </tbody>\n</table>\n</div>"
     },
     "execution_count": 124,
     "metadata": {},
     "output_type": "execute_result"
    }
   ],
   "source": [
    "df = samples.draws_pd()\n",
    "df.head()"
   ],
   "metadata": {
    "collapsed": false,
    "pycharm": {
     "name": "#%%\n"
    }
   }
  },
  {
   "cell_type": "code",
   "execution_count": 127,
   "outputs": [
    {
     "data": {
      "text/plain": "array([[<AxesSubplot:title={'center':'y_sim[5]'}>]], dtype=object)"
     },
     "execution_count": 127,
     "metadata": {},
     "output_type": "execute_result"
    },
    {
     "data": {
      "text/plain": "<Figure size 432x288 with 1 Axes>",
      "image/png": "[encoded data removed]"
     },
     "metadata": {
      "needs_background": "light"
     },
     "output_type": "display_data"
    },
    {
     "data": {
      "text/plain": "<Figure size 432x288 with 1 Axes>",
      "image/png": "[encoded data removed]"
     },
     "metadata": {
      "needs_background": "light"
     },
     "output_type": "display_data"
    },
    {
     "data": {
      "text/plain": "<Figure size 432x288 with 1 Axes>",
      "image/png": "[encoded data removed]"
     },
     "metadata": {
      "needs_background": "light"
     },
     "output_type": "display_data"
    },
    {
     "data": {
      "text/plain": "<Figure size 432x288 with 1 Axes>",
      "image/png": "[encoded data removed]"
     },
     "metadata": {
      "needs_background": "light"
     },
     "output_type": "display_data"
    },
    {
     "data": {
      "text/plain": "<Figure size 432x288 with 1 Axes>",
      "image/png": "[encoded data removed]"
     },
     "metadata": {
      "needs_background": "light"
     },
     "output_type": "display_data"
    }
   ],
   "source": [
    "df.hist(column='y_sim[1]', bins=30)\n",
    "df.hist(column='y_sim[2]', bins=30)\n",
    "df.hist(column='y_sim[3]', bins=30)\n",
    "df.hist(column='y_sim[4]', bins=30)\n",
    "df.hist(column='y_sim[5]', bins=30)"
   ],
   "metadata": {
    "collapsed": false,
    "pycharm": {
     "name": "#%%\n"
    }
   }
  },
  {
   "cell_type": "code",
   "execution_count": 128,
   "outputs": [
    {
     "data": {
      "text/plain": "array([[<AxesSubplot:title={'center':'lambda'}>]], dtype=object)"
     },
     "execution_count": 128,
     "metadata": {},
     "output_type": "execute_result"
    },
    {
     "data": {
      "text/plain": "<Figure size 432x288 with 1 Axes>",
      "image/png": "[encoded data removed]"
     },
     "metadata": {
      "needs_background": "light"
     },
     "output_type": "display_data"
    }
   ],
   "source": [
    "df.hist(column='lambda', bins=30)"
   ],
   "metadata": {
    "collapsed": false,
    "pycharm": {
     "name": "#%%\n"
    }
   }
  },
  {
   "cell_type": "markdown",
   "source": [
    "Exercise 2 - Constraints on the data"
   ],
   "metadata": {
    "collapsed": false,
    "pycharm": {
     "name": "#%% md\n"
    }
   }
  },
  {
   "cell_type": "code",
   "execution_count": 106,
   "outputs": [
    {
     "name": "stderr",
     "output_type": "stream",
     "text": [
      "INFO:cmdstanpy:found newer exe file, not recompiling\n"
     ]
    }
   ],
   "source": [
    "bern1 = CmdStanModel(stan_file='code_2.stan')"
   ],
   "metadata": {
    "collapsed": false,
    "pycharm": {
     "name": "#%%\n"
    }
   }
  },
  {
   "cell_type": "code",
   "execution_count": 107,
   "outputs": [
    {
     "name": "stderr",
     "output_type": "stream",
     "text": [
      "INFO:cmdstanpy:CmdStan start processing\n",
      "chain 1 |\u001B[33m          \u001B[0m| 00:00 Status\n",
      "chain 2 |\u001B[33m          \u001B[0m| 00:00 Status\u001B[A\n",
      "\n",
      "chain 3 |\u001B[33m          \u001B[0m| 00:00 Status\u001B[A\u001B[A\n",
      "\n",
      "\n",
      "chain 1 |\u001B[34m██████████\u001B[0m| 00:00 Sampling completed\n",
      "chain 2 |\u001B[34m██████████\u001B[0m| 00:00 Sampling completed\n",
      "chain 3 |\u001B[34m██████████\u001B[0m| 00:00 Sampling completed\n",
      "chain 4 |\u001B[34m██████████\u001B[0m| 00:00 Sampling completed"
     ]
    },
    {
     "name": "stdout",
     "output_type": "stream",
     "text": [
      "                                                                                                                                                                                                                                                                                                                                "
     ]
    },
    {
     "name": "stderr",
     "output_type": "stream",
     "text": [
      "\n",
      "INFO:cmdstanpy:CmdStan done processing.\n"
     ]
    },
    {
     "name": "stdout",
     "output_type": "stream",
     "text": [
      "\n"
     ]
    }
   ],
   "source": [
    "samp_bern1 = bern1.sample(data={'N':2, 'y':[0,1]})"
   ],
   "metadata": {
    "collapsed": false,
    "pycharm": {
     "name": "#%%\n"
    }
   }
  },
  {
   "cell_type": "code",
   "execution_count": 108,
   "outputs": [
    {
     "name": "stderr",
     "output_type": "stream",
     "text": [
      "INFO:cmdstanpy:found newer exe file, not recompiling\n",
      "INFO:cmdstanpy:CmdStan start processing\n",
      "chain 1 |\u001B[33m          \u001B[0m| 00:00 Status\n",
      "chain 2 |\u001B[33m          \u001B[0m| 00:00 Status\u001B[A\n",
      "\n",
      "chain 3 |\u001B[33m          \u001B[0m| 00:00 Status\u001B[A\u001B[A\n",
      "\n",
      "\n",
      "chain 4 |\u001B[33m          \u001B[0m| 00:00 Status\u001B[A\u001B[A\u001B[A\n",
      "\n",
      "\n",
      "chain 1 |\u001B[34m██████████\u001B[0m| 00:00 Sampling completed2000 [ 90%]  (Sampling)\u001B[A\u001B[A\u001B[A\n",
      "\n",
      "chain 2 |\u001B[34m██████████\u001B[0m| 00:00 Sampling completed\u001B[A\n",
      "\n",
      "\n",
      "chain 3 |\u001B[34m██████████\u001B[0m| 00:00 Sampling completed\u001B[A\u001B[A\n",
      "chain 4 |\u001B[34m██████████\u001B[0m| 00:00 Sampling completed                       "
     ]
    },
    {
     "name": "stdout",
     "output_type": "stream",
     "text": [
      "                                                                                                                                                                                                                                                                                                                                "
     ]
    },
    {
     "name": "stderr",
     "output_type": "stream",
     "text": [
      "\n",
      "INFO:cmdstanpy:CmdStan done processing.\n"
     ]
    },
    {
     "name": "stdout",
     "output_type": "stream",
     "text": [
      "\n"
     ]
    }
   ],
   "source": [
    "bern2 = CmdStanModel(stan_file='code_3.stan')\n",
    "samp_bern2 = bern2.sample(data={'N':2, 'y':[0,1]})"
   ],
   "metadata": {
    "collapsed": false,
    "pycharm": {
     "name": "#%%\n"
    }
   }
  },
  {
   "cell_type": "code",
   "execution_count": 109,
   "outputs": [
    {
     "data": {
      "text/plain": "<Figure size 432x288 with 2 Axes>",
      "image/png": "[encoded data removed]"
     },
     "metadata": {
      "needs_background": "light"
     },
     "output_type": "display_data"
    }
   ],
   "source": [
    "theta1 = samp_bern1.stan_variable('theta')\n",
    "theta2 = samp_bern2.stan_variable('theta')\n",
    "df = pd.DataFrame({'theta1': theta1, 'theta2':theta2})\n",
    "df.plot.hist(subplots=True)\n",
    "plt.show()"
   ],
   "metadata": {
    "collapsed": false,
    "pycharm": {
     "name": "#%%\n"
    }
   }
  },
  {
   "cell_type": "markdown",
   "source": [
    "Exercise 3 - Constraints on parameters"
   ],
   "metadata": {
    "collapsed": false,
    "pycharm": {
     "name": "#%% md\n"
    }
   }
  },
  {
   "cell_type": "markdown",
   "source": [
    "a) unconstrained declaration for theta(code_4.stan)"
   ],
   "metadata": {
    "collapsed": false,
    "pycharm": {
     "name": "#%% md\n"
    }
   }
  },
  {
   "cell_type": "code",
   "execution_count": 110,
   "outputs": [
    {
     "name": "stderr",
     "output_type": "stream",
     "text": [
      "\n",
      "chain 2 |\u001B[34m██████████\u001B[0m| 00:00 Sampling completed                       \n",
      "chain 3 |\u001B[34m██████████\u001B[0m| 00:00 Sampling completed                       \n",
      "chain 4 |\u001B[34m██████████\u001B[0m| 00:00 Sampling completed                       "
     ]
    },
    {
     "name": "stdout",
     "output_type": "stream",
     "text": [
      "                                                                                                                                                                                                                                                                                                                                "
     ]
    },
    {
     "name": "stderr",
     "output_type": "stream",
     "text": [
      "\n",
      "INFO:cmdstanpy:CmdStan done processing.\n"
     ]
    },
    {
     "name": "stdout",
     "output_type": "stream",
     "text": [
      "\n"
     ]
    },
    {
     "data": {
      "text/plain": "\"Processing csv files: /home/agata/PycharmProjects/test1/samples/code_4-20220314203836_1.csv, /home/agata/PycharmProjects/test1/samples/code_4-20220314203836_2.csv, /home/agata/PycharmProjects/test1/samples/code_4-20220314203836_3.csv, /home/agata/PycharmProjects/test1/samples/code_4-20220314203836_4.csv\\n\\nChecking sampler transitions treedepth.\\nTreedepth satisfactory for all transitions.\\n\\nChecking sampler transitions for divergences.\\n9489 of 24000 (39.54%) transitions ended with a divergence.\\nThese divergent transitions indicate that HMC is not fully able to explore the posterior distribution.\\nTry increasing adapt delta closer to 1.\\nIf this doesn't remove all divergences, try to reparameterize the model.\\n\\nChecking E-BFMI - sampler transitions HMC potential energy.\\nE-BFMI satisfactory.\\n\\nEffective sample size satisfactory.\\n\\nSplit R-hat values satisfactory all parameters.\\n\\nProcessing complete.\\n\""
     },
     "execution_count": 85,
     "metadata": {},
     "output_type": "execute_result"
    },
    {
     "name": "stderr",
     "output_type": "stream",
     "text": [
      "INFO:cmdstanpy:found newer exe file, not recompiling\n",
      "INFO:cmdstanpy:CmdStan start processing\n",
      "chain 1 |\u001B[33m          \u001B[0m| 00:00 Status\n",
      "chain 2 |\u001B[33m          \u001B[0m| 00:00 Status\u001B[A\n",
      "\n",
      "chain 3 |\u001B[33m          \u001B[0m| 00:00 Status\u001B[A\u001B[A\n",
      "\n",
      "\n",
      "chain 1 |\u001B[34m███       \u001B[0m| 00:00 Iteration: 1900 / 7000 [ 27%]  (Sampling)\n",
      "\n",
      "chain 3 |\u001B[34m███▌      \u001B[0m| 00:00 Iteration: 2300 / 7000 [ 32%]  (Sampling)\u001B[A\u001B[A\n",
      "chain 2 |\u001B[34m███▍      \u001B[0m| 00:00 Iteration: 2200 / 7000 [ 31%]  (Sampling)\u001B[A\n",
      "\n",
      "\n",
      "chain 1 |\u001B[34m██████    \u001B[0m| 00:00 Iteration: 4100 / 7000 [ 58%]  (Sampling)\u001B[A\u001B[A\u001B[A\n",
      "\n",
      "chain 3 |\u001B[34m████████▊ \u001B[0m| 00:00 Iteration: 6000 / 7000 [ 85%]  (Sampling)\u001B[A\u001B[A\n",
      "\n",
      "\n",
      "chain 4 |\u001B[34m████▊     \u001B[0m| 00:00 Iteration: 3200 / 7000 [ 45%]  (Sampling)\u001B[A\u001B[A\u001B[A\n",
      "chain 1 |\u001B[34m██████████\u001B[0m| 00:00 Sampling completed                       \u001B[A\n",
      "chain 2 |\u001B[34m██████████\u001B[0m| 00:00 Sampling completed                       \n",
      "chain 3 |\u001B[34m██████████\u001B[0m| 00:00 Sampling completed                       \n",
      "chain 4 |\u001B[34m██████████\u001B[0m| 00:00 Sampling completed                       "
     ]
    },
    {
     "name": "stdout",
     "output_type": "stream",
     "text": [
      "                                                                                                                                                                                                                                                "
     ]
    },
    {
     "name": "stderr",
     "output_type": "stream",
     "text": [
      "\n"
     ]
    },
    {
     "name": "stdout",
     "output_type": "stream",
     "text": [
      "                                                                                "
     ]
    },
    {
     "name": "stderr",
     "output_type": "stream",
     "text": [
      "INFO:cmdstanpy:CmdStan done processing.\n"
     ]
    },
    {
     "name": "stdout",
     "output_type": "stream",
     "text": [
      "\n"
     ]
    },
    {
     "data": {
      "text/plain": "\"Processing csv files: /home/agata/PycharmProjects/test1/samples/code_4-20220314203844_1.csv, /home/agata/PycharmProjects/test1/samples/code_4-20220314203844_2.csv, /home/agata/PycharmProjects/test1/samples/code_4-20220314203844_3.csv, /home/agata/PycharmProjects/test1/samples/code_4-20220314203844_4.csv\\n\\nChecking sampler transitions treedepth.\\nTreedepth satisfactory for all transitions.\\n\\nChecking sampler transitions for divergences.\\n9489 of 24000 (39.54%) transitions ended with a divergence.\\nThese divergent transitions indicate that HMC is not fully able to explore the posterior distribution.\\nTry increasing adapt delta closer to 1.\\nIf this doesn't remove all divergences, try to reparameterize the model.\\n\\nChecking E-BFMI - sampler transitions HMC potential energy.\\nE-BFMI satisfactory.\\n\\nEffective sample size satisfactory.\\n\\nSplit R-hat values satisfactory all parameters.\\n\\nProcessing complete.\\n\""
     },
     "execution_count": 110,
     "metadata": {},
     "output_type": "execute_result"
    }
   ],
   "source": [
    "model_gm1 = CmdStanModel(stan_file='code_4.stan')\n",
    "out_gamma1 = model_gm1.sample(output_dir='samples',iter_sampling=6000,iter_warmup=1000, seed=4838282)\n",
    "out_gamma1.diagnose()"
   ],
   "metadata": {
    "collapsed": false,
    "pycharm": {
     "name": "#%%\n"
    }
   }
  },
  {
   "cell_type": "code",
   "execution_count": 131,
   "outputs": [
    {
     "data": {
      "text/plain": "<Figure size 432x288 with 1 Axes>",
      "image/png": "[encoded data removed]"
     },
     "metadata": {
      "needs_background": "light"
     },
     "output_type": "display_data"
    }
   ],
   "source": [
    "N=500\n",
    "xs = np.linspace(0,8,N)\n",
    "pdfs = stats.gamma.pdf(xs, 1.25, scale = 1 / 1.25)\n",
    "\n",
    "plt.plot(xs, pdfs, linewidth=2)\n",
    "\n",
    "## add histogram of theta samples with 160 bins\n",
    "theta_uc = out_gamma1.stan_variable('theta')\n",
    "plt.hist(theta_uc, bins=160, density = True)\n",
    "\n",
    "plt.gca().set_xlabel(\"theta\")\n",
    "plt.gca().set_ylabel(\"Probability Density Function\")\n",
    "plt.show()"
   ],
   "metadata": {
    "collapsed": false,
    "pycharm": {
     "name": "#%%\n"
    }
   }
  },
  {
   "cell_type": "markdown",
   "source": [
    "b) constrained declaration for theta (code_5.stan)"
   ],
   "metadata": {
    "collapsed": false,
    "pycharm": {
     "name": "#%% md\n"
    }
   }
  },
  {
   "cell_type": "code",
   "execution_count": 112,
   "outputs": [
    {
     "name": "stderr",
     "output_type": "stream",
     "text": [
      "INFO:cmdstanpy:found newer exe file, not recompiling\n",
      "INFO:cmdstanpy:CmdStan start processing\n",
      "chain 1 |\u001B[33m          \u001B[0m| 00:00 Status\n",
      "chain 2 |\u001B[33m          \u001B[0m| 00:00 Status\u001B[A\n",
      "\n",
      "chain 3 |\u001B[33m          \u001B[0m| 00:00 Status\u001B[A\u001B[A\n",
      "\n",
      "\n",
      "chain 1 |\u001B[34m████▋     \u001B[0m| 00:00 Iteration: 3100 / 7000 [ 44%]  (Sampling)\n",
      "chain 2 |\u001B[34m████▌     \u001B[0m| 00:00 Iteration: 3000 / 7000 [ 42%]  (Sampling)\u001B[A\n",
      "\n",
      "chain 3 |\u001B[34m███▉      \u001B[0m| 00:00 Iteration: 2500 / 7000 [ 35%]  (Sampling)\u001B[A\u001B[A\n",
      "\n",
      "\n",
      "chain 1 |\u001B[34m█████████▍\u001B[0m| 00:00 Iteration: 6500 / 7000 [ 92%]  (Sampling)A\u001B[A\u001B[A\n",
      "\n",
      "chain 3 |\u001B[34m███████▊  \u001B[0m| 00:00 Iteration: 5300 / 7000 [ 75%]  (Sampling)\u001B[A\u001B[A\n",
      "\n",
      "\n",
      "chain 1 |\u001B[34m██████████\u001B[0m| 00:00 Sampling completed                       \u001B[A\u001B[A\u001B[A\n",
      "\n",
      "chain 2 |\u001B[34m██████████\u001B[0m| 00:00 Sampling completed                       \u001B[A\n",
      "chain 3 |\u001B[34m██████████\u001B[0m| 00:00 Sampling completed                       \n",
      "chain 4 |\u001B[34m██████████\u001B[0m| 00:00 Sampling completed                       "
     ]
    },
    {
     "name": "stdout",
     "output_type": "stream",
     "text": [
      "                                                                                                                                                                                                                                                                                                                                "
     ]
    },
    {
     "name": "stderr",
     "output_type": "stream",
     "text": [
      "\n",
      "INFO:cmdstanpy:CmdStan done processing.\n"
     ]
    },
    {
     "name": "stdout",
     "output_type": "stream",
     "text": [
      "\n"
     ]
    },
    {
     "data": {
      "text/plain": "\"Processing csv files: /home/agata/PycharmProjects/test1/samples/code_5-20220314203838_1.csv, /home/agata/PycharmProjects/test1/samples/code_5-20220314203838_2.csv, /home/agata/PycharmProjects/test1/samples/code_5-20220314203838_3.csv, /home/agata/PycharmProjects/test1/samples/code_5-20220314203838_4.csv\\n\\nChecking sampler transitions treedepth.\\nTreedepth satisfactory for all transitions.\\n\\nChecking sampler transitions for divergences.\\n2 of 24000 (0.01%) transitions ended with a divergence.\\nThese divergent transitions indicate that HMC is not fully able to explore the posterior distribution.\\nTry increasing adapt delta closer to 1.\\nIf this doesn't remove all divergences, try to reparameterize the model.\\n\\nChecking E-BFMI - sampler transitions HMC potential energy.\\nE-BFMI satisfactory.\\n\\nEffective sample size satisfactory.\\n\\nSplit R-hat values satisfactory all parameters.\\n\\nProcessing complete.\\n\""
     },
     "execution_count": 87,
     "metadata": {},
     "output_type": "execute_result"
    },
    {
     "name": "stderr",
     "output_type": "stream",
     "text": [
      "INFO:cmdstanpy:found newer exe file, not recompiling\n",
      "INFO:cmdstanpy:CmdStan start processing\n",
      "chain 1 |\u001B[33m          \u001B[0m| 00:00 Status\n",
      "chain 2 |\u001B[33m          \u001B[0m| 00:00 Status\u001B[A\n",
      "\n",
      "chain 3 |\u001B[33m          \u001B[0m| 00:00 Status\u001B[A\u001B[A\n",
      "\n",
      "\n",
      "chain 1 |\u001B[34m█████▊    \u001B[0m| 00:00 Iteration: 3900 / 7000 [ 55%]  (Sampling)\n",
      "chain 2 |\u001B[34m████▋     \u001B[0m| 00:00 Iteration: 3100 / 7000 [ 44%]  (Sampling)\u001B[A\n",
      "\n",
      "chain 3 |\u001B[34m████▊     \u001B[0m| 00:00 Iteration: 3200 / 7000 [ 45%]  (Sampling)\u001B[A\u001B[A\n",
      "\n",
      "\n",
      "chain 4 |\u001B[34m███▉      \u001B[0m| 00:00 Iteration: 2500 / 7000 [ 35%]  (Sampling)\u001B[A\u001B[A\u001B[A\n",
      "chain 2 |\u001B[34m█████████▌\u001B[0m| 00:00 Iteration: 6600 / 7000 [ 94%]  (Sampling)\u001B[A\n",
      "\n",
      "chain 3 |\u001B[34m█████████▋\u001B[0m| 00:00 Iteration: 6700 / 7000 [ 95%]  (Sampling)\u001B[A\u001B[A\n",
      "\n",
      "\n",
      "chain 1 |\u001B[34m██████████\u001B[0m| 00:00 Sampling completed                       \u001B[A\u001B[A\u001B[A\n",
      "chain 2 |\u001B[34m██████████\u001B[0m| 00:00 Sampling completed                       \n",
      "chain 3 |\u001B[34m██████████\u001B[0m| 00:00 Sampling completed                       \n",
      "chain 4 |\u001B[34m██████████\u001B[0m| 00:00 Sampling completed                       "
     ]
    },
    {
     "name": "stdout",
     "output_type": "stream",
     "text": [
      "                                                                                                                                                                                                                                                                                                                                "
     ]
    },
    {
     "name": "stderr",
     "output_type": "stream",
     "text": [
      "\n",
      "INFO:cmdstanpy:CmdStan done processing.\n"
     ]
    },
    {
     "name": "stdout",
     "output_type": "stream",
     "text": [
      "\n"
     ]
    },
    {
     "data": {
      "text/plain": "\"Processing csv files: /home/agata/PycharmProjects/test1/samples/code_5-20220314203846_1.csv, /home/agata/PycharmProjects/test1/samples/code_5-20220314203846_2.csv, /home/agata/PycharmProjects/test1/samples/code_5-20220314203846_3.csv, /home/agata/PycharmProjects/test1/samples/code_5-20220314203846_4.csv\\n\\nChecking sampler transitions treedepth.\\nTreedepth satisfactory for all transitions.\\n\\nChecking sampler transitions for divergences.\\n2 of 24000 (0.01%) transitions ended with a divergence.\\nThese divergent transitions indicate that HMC is not fully able to explore the posterior distribution.\\nTry increasing adapt delta closer to 1.\\nIf this doesn't remove all divergences, try to reparameterize the model.\\n\\nChecking E-BFMI - sampler transitions HMC potential energy.\\nE-BFMI satisfactory.\\n\\nEffective sample size satisfactory.\\n\\nSplit R-hat values satisfactory all parameters.\\n\\nProcessing complete.\\n\""
     },
     "execution_count": 112,
     "metadata": {},
     "output_type": "execute_result"
    }
   ],
   "source": [
    "model_gm2 = CmdStanModel(stan_file='code_5.stan')\n",
    "out_gamma2 = model_gm2.sample(output_dir='samples',iter_sampling=6000,iter_warmup=1000, seed=4838282)\n",
    "out_gamma2.diagnose()"
   ],
   "metadata": {
    "collapsed": false,
    "pycharm": {
     "name": "#%%\n"
    }
   }
  },
  {
   "cell_type": "code",
   "execution_count": 132,
   "outputs": [
    {
     "data": {
      "text/plain": "<Figure size 432x288 with 1 Axes>",
      "image/png": "[encoded data removed]"
     },
     "metadata": {
      "needs_background": "light"
     },
     "output_type": "display_data"
    }
   ],
   "source": [
    "N=500\n",
    "xs = np.linspace(0,8,N)\n",
    "pdfs = stats.gamma.pdf(xs, 1.25, scale = 1 / 1.25)\n",
    "\n",
    "plt.plot(xs, pdfs, linewidth=2)\n",
    "\n",
    "## add histogram of theta samples from the second model with 160 bins\n",
    "theta_wc = out_gamma2.stan_variable('theta')\n",
    "plt.hist(theta_wc, bins=160, density = True)\n",
    "\n",
    "plt.gca().set_xlabel(\"theta\")\n",
    "plt.gca().set_ylabel(\"Probability Density Function\")\n",
    "plt.show()"
   ],
   "metadata": {
    "collapsed": false,
    "pycharm": {
     "name": "#%%\n"
    }
   }
  },
  {
   "cell_type": "markdown",
   "source": [
    "Exercise 4 - functions and different functionalities of stan"
   ],
   "metadata": {
    "collapsed": false,
    "pycharm": {
     "name": "#%% md\n"
    }
   }
  },
  {
   "cell_type": "code",
   "execution_count": 114,
   "outputs": [
    {
     "name": "stderr",
     "output_type": "stream",
     "text": [
      "INFO:cmdstanpy:found newer exe file, not recompiling\n",
      "INFO:cmdstanpy:CmdStan start processing\n",
      "chain 1 |\u001B[33m██████████\u001B[0m| 00:00 Sampling completed"
     ]
    },
    {
     "name": "stdout",
     "output_type": "stream",
     "text": [
      "                                                                                "
     ]
    },
    {
     "name": "stderr",
     "output_type": "stream",
     "text": [
      "\n",
      "INFO:cmdstanpy:CmdStan done processing.\n"
     ]
    },
    {
     "name": "stdout",
     "output_type": "stream",
     "text": [
      "\n"
     ]
    },
    {
     "name": "stderr",
     "output_type": "stream",
     "text": [
      "INFO:cmdstanpy:found newer exe file, not recompiling\n",
      "INFO:cmdstanpy:CmdStan start processing\n",
      "chain 1 |\u001B[34m██████████\u001B[0m| 00:00 Sampling completed"
     ]
    },
    {
     "name": "stdout",
     "output_type": "stream",
     "text": [
      "                                                                                "
     ]
    },
    {
     "name": "stderr",
     "output_type": "stream",
     "text": [
      "\n",
      "INFO:cmdstanpy:CmdStan done processing.\n"
     ]
    },
    {
     "name": "stdout",
     "output_type": "stream",
     "text": [
      "\n"
     ]
    }
   ],
   "source": [
    "model_tune = CmdStanModel(stan_file='code_6.stan')\n",
    "\n",
    "F = 5# number of letters in the first name\n",
    "L = 6# number of letters in the last name\n",
    "y0 = 1# initial guess for the equation solving\n",
    "\n",
    "data={'y_guess':[y0],\n",
    "        'theta':[(F+L)/2]}\n",
    "tunes = model_tune.sample(data=data, fixed_param=True, iter_sampling=1, iter_warmup=0, chains = 1)"
   ],
   "metadata": {
    "collapsed": false,
    "pycharm": {
     "name": "#%%\n"
    }
   }
  },
  {
   "cell_type": "code",
   "execution_count": 133,
   "outputs": [
    {
     "data": {
      "text/plain": "   lp__  accept_stat__    sigma\n0   0.0            0.0  2.13523",
      "text/html": "<div>\n<style scoped>\n    .dataframe tbody tr th:only-of-type {\n        vertical-align: middle;\n    }\n\n    .dataframe tbody tr th {\n        vertical-align: top;\n    }\n\n    .dataframe thead th {\n        text-align: right;\n    }\n</style>\n<table border=\"1\" class=\"dataframe\">\n  <thead>\n    <tr style=\"text-align: right;\">\n      <th></th>\n      <th>lp__</th>\n      <th>accept_stat__</th>\n      <th>sigma</th>\n    </tr>\n  </thead>\n  <tbody>\n    <tr>\n      <th>0</th>\n      <td>0.0</td>\n      <td>0.0</td>\n      <td>2.13523</td>\n    </tr>\n  </tbody>\n</table>\n</div>"
     },
     "execution_count": 133,
     "metadata": {},
     "output_type": "execute_result"
    }
   ],
   "source": [
    "tunes.draws_pd().head()"
   ],
   "metadata": {
    "collapsed": false,
    "pycharm": {
     "name": "#%%\n"
    }
   }
  },
  {
   "cell_type": "markdown",
   "source": [
    "Exercise 5 - different methods of defining models"
   ],
   "metadata": {
    "collapsed": false,
    "pycharm": {
     "name": "#%% md\n"
    }
   }
  },
  {
   "cell_type": "code",
   "execution_count": 116,
   "outputs": [
    {
     "name": "stderr",
     "output_type": "stream",
     "text": [
      "INFO:cmdstanpy:found newer exe file, not recompiling\n",
      "INFO:cmdstanpy:found newer exe file, not recompiling\n"
     ]
    }
   ],
   "source": [
    "model_samp_st = CmdStanModel(stan_file='code_7.stan')"
   ],
   "metadata": {
    "collapsed": false,
    "pycharm": {
     "name": "#%%\n"
    }
   }
  },
  {
   "cell_type": "code",
   "execution_count": 117,
   "outputs": [
    {
     "name": "stderr",
     "output_type": "stream",
     "text": [
      "INFO:cmdstanpy:found newer exe file, not recompiling\n",
      "INFO:cmdstanpy:found newer exe file, not recompiling\n"
     ]
    }
   ],
   "source": [
    "model_log_target = CmdStanModel(stan_file='code_8.stan')"
   ],
   "metadata": {
    "collapsed": false,
    "pycharm": {
     "name": "#%%\n"
    }
   }
  },
  {
   "cell_type": "code",
   "execution_count": 118,
   "outputs": [
    {
     "name": "stderr",
     "output_type": "stream",
     "text": [
      "INFO:cmdstanpy:found newer exe file, not recompiling\n",
      "INFO:cmdstanpy:found newer exe file, not recompiling\n"
     ]
    }
   ],
   "source": [
    "model_log_target_ind = CmdStanModel(stan_file='code_9.stan')"
   ],
   "metadata": {
    "collapsed": false,
    "pycharm": {
     "name": "#%%\n"
    }
   }
  },
  {
   "cell_type": "code",
   "execution_count": 119,
   "outputs": [
    {
     "name": "stderr",
     "output_type": "stream",
     "text": [
      "INFO:cmdstanpy:CmdStan start processing\n",
      "chain 1 |\u001B[33m          \u001B[0m| 00:00 Status\n",
      "chain 2 |\u001B[33m          \u001B[0m| 00:00 Status\u001B[A\n",
      "\n",
      "chain 3 |\u001B[33m          \u001B[0m| 00:00 Status\u001B[A\u001B[A\n",
      "\n",
      "\n",
      "chain 1 |\u001B[34m██████████\u001B[0m| 00:00 Iteration: 1900 / 2000 [ 95%]  (Sampling)\n",
      "chain 2 |\u001B[34m██████▎   \u001B[0m| 00:00 Iteration: 1100 / 2000 [ 55%]  (Sampling)\u001B[A\n",
      "\n",
      "chain 3 |\u001B[33m▉         \u001B[0m| 00:00 Iteration:    1 / 2000 [  0%]  (Warmup)\u001B[A\u001B[A\n",
      "\n",
      "\n",
      "chain 1 |\u001B[34m██████████\u001B[0m| 00:00 Sampling completed                       A\u001B[A\u001B[A\n",
      "chain 2 |\u001B[34m██████████\u001B[0m| 00:00 Sampling completed                       \n",
      "chain 3 |\u001B[34m██████████\u001B[0m| 00:00 Sampling completed                     \n",
      "chain 4 |\u001B[34m██████████\u001B[0m| 00:00 Sampling completed                     "
     ]
    },
    {
     "name": "stdout",
     "output_type": "stream",
     "text": [
      "                                                                                                                                                                                                                                                "
     ]
    },
    {
     "name": "stderr",
     "output_type": "stream",
     "text": [
      "\n"
     ]
    },
    {
     "name": "stdout",
     "output_type": "stream",
     "text": [
      "                                                                                "
     ]
    },
    {
     "name": "stderr",
     "output_type": "stream",
     "text": [
      "INFO:cmdstanpy:CmdStan done processing.\n"
     ]
    },
    {
     "name": "stdout",
     "output_type": "stream",
     "text": [
      "\n"
     ]
    },
    {
     "name": "stderr",
     "output_type": "stream",
     "text": [
      "INFO:cmdstanpy:CmdStan start processing\n",
      "chain 1 |\u001B[33m          \u001B[0m| 00:00 Status\n",
      "chain 2 |\u001B[33m          \u001B[0m| 00:00 Status\u001B[A\n",
      "\n",
      "chain 3 |\u001B[33m          \u001B[0m| 00:00 Status\u001B[A\u001B[A\n",
      "\n",
      "\n",
      "chain 1 |\u001B[34m██████████\u001B[0m| 00:00 Iteration: 1900 / 2000 [ 95%]  (Sampling)\n",
      "chain 2 |\u001B[34m██████▊   \u001B[0m| 00:00 Iteration: 1200 / 2000 [ 60%]  (Sampling)\u001B[A\n",
      "\n",
      "chain 3 |\u001B[34m████████▏ \u001B[0m| 00:00 Iteration: 1500 / 2000 [ 75%]  (Sampling)\u001B[A\u001B[A\n",
      "\n",
      "\n",
      "chain 1 |\u001B[34m██████████\u001B[0m| 00:00 Sampling completed                       \u001B[A\u001B[A\u001B[A\n",
      "chain 2 |\u001B[34m██████████\u001B[0m| 00:00 Sampling completed                       \n",
      "chain 3 |\u001B[34m██████████\u001B[0m| 00:00 Sampling completed                       \n",
      "chain 4 |\u001B[34m██████████\u001B[0m| 00:00 Sampling completed                       "
     ]
    },
    {
     "name": "stdout",
     "output_type": "stream",
     "text": [
      "                                                                                                                                                                                                                                                                                                                                "
     ]
    },
    {
     "name": "stderr",
     "output_type": "stream",
     "text": [
      "\n",
      "INFO:cmdstanpy:CmdStan done processing.\n"
     ]
    },
    {
     "name": "stdout",
     "output_type": "stream",
     "text": [
      "\n"
     ]
    }
   ],
   "source": [
    "F=5\n",
    "data = {'N': F}\n",
    "seed = 15011999#integer, your date of birth in the DDMMYYYY format without leading zero (or if you are GPRD weary, use any other date you wish)\n",
    "result_1 = model_samp_st.sample(data=data,seed=seed)"
   ],
   "metadata": {
    "collapsed": false,
    "pycharm": {
     "name": "#%%\n"
    }
   }
  },
  {
   "cell_type": "code",
   "execution_count": 120,
   "outputs": [
    {
     "name": "stderr",
     "output_type": "stream",
     "text": [
      "INFO:cmdstanpy:CmdStan start processing\n",
      "chain 1 |\u001B[33m          \u001B[0m| 00:00 Status\n",
      "chain 2 |\u001B[33m          \u001B[0m| 00:00 Status\u001B[A\n",
      "\n",
      "chain 3 |\u001B[33m          \u001B[0m| 00:00 Status\u001B[A\u001B[A\n",
      "\n",
      "\n",
      "chain 1 |\u001B[34m███████▎  \u001B[0m| 00:00 Iteration: 1300 / 2000 [ 65%]  (Sampling)\n",
      "\n",
      "chain 3 |\u001B[34m████████▋ \u001B[0m| 00:00 Iteration: 1600 / 2000 [ 80%]  (Sampling)\u001B[A\u001B[A\n",
      "chain 2 |\u001B[33m████      \u001B[0m| 00:00 Iteration:  700 / 2000 [ 35%]  (Warmup)\u001B[A\n",
      "\n",
      "\n",
      "chain 1 |\u001B[34m██████████\u001B[0m| 00:00 Sampling completed                       A\u001B[A\u001B[A\n",
      "chain 2 |\u001B[34m██████████\u001B[0m| 00:00 Sampling completed                     \n",
      "chain 3 |\u001B[34m██████████\u001B[0m| 00:00 Sampling completed                       \n",
      "chain 4 |\u001B[34m██████████\u001B[0m| 00:00 Sampling completed                     "
     ]
    },
    {
     "name": "stdout",
     "output_type": "stream",
     "text": [
      "                                                                                                                                                                                                                                                                                                                                "
     ]
    },
    {
     "name": "stderr",
     "output_type": "stream",
     "text": [
      "\n",
      "INFO:cmdstanpy:CmdStan done processing.\n"
     ]
    },
    {
     "name": "stdout",
     "output_type": "stream",
     "text": [
      "\n"
     ]
    },
    {
     "name": "stderr",
     "output_type": "stream",
     "text": [
      "INFO:cmdstanpy:CmdStan start processing\n",
      "chain 1 |\u001B[33m          \u001B[0m| 00:00 Status\n",
      "chain 2 |\u001B[33m          \u001B[0m| 00:00 Status\u001B[A\n",
      "\n",
      "chain 3 |\u001B[33m          \u001B[0m| 00:00 Status\u001B[A\u001B[A\n",
      "\n",
      "\n",
      "chain 4 |\u001B[33m          \u001B[0m| 00:00 Status\u001B[A\u001B[A\u001B[A\n",
      "chain 1 |\u001B[33m▍         \u001B[0m| 00:00 Statusion: 1300 / 2000 [ 65%]  (Sampling)\u001B[A\n",
      "\n",
      "\n",
      "chain 4 |\u001B[33m██▋       \u001B[0m| 00:00 Iteration:  400 / 2000 [ 20%]  (Warmup)\u001B[A\u001B[A\u001B[A\n",
      "\n",
      "chain 1 |\u001B[34m██████████\u001B[0m| 00:00 Sampling completed2000 [ 70%]  (Sampling)\u001B[A\u001B[A\n",
      "chain 2 |\u001B[34m██████████\u001B[0m| 00:00 Sampling completed                       \n",
      "chain 3 |\u001B[34m██████████\u001B[0m| 00:00 Sampling completed                       \n",
      "\n",
      "\n",
      "\n",
      "chain 4 |\u001B[34m██████████\u001B[0m| 00:00 Sampling completed                     \u001B[A\u001B[A\u001B[A"
     ]
    },
    {
     "name": "stdout",
     "output_type": "stream",
     "text": [
      "                                                                                                                                                                                                                                                                                                                                "
     ]
    },
    {
     "name": "stderr",
     "output_type": "stream",
     "text": [
      "\n",
      "INFO:cmdstanpy:CmdStan done processing.\n"
     ]
    },
    {
     "name": "stdout",
     "output_type": "stream",
     "text": [
      "\n"
     ]
    }
   ],
   "source": [
    "F=5\n",
    "data = {'N': F}\n",
    "seed = 15011999\n",
    "result_2 = model_log_target.sample(data=data, seed=seed)"
   ],
   "metadata": {
    "collapsed": false,
    "pycharm": {
     "name": "#%%\n"
    }
   }
  },
  {
   "cell_type": "code",
   "execution_count": 121,
   "outputs": [
    {
     "name": "stderr",
     "output_type": "stream",
     "text": [
      "INFO:cmdstanpy:CmdStan start processing\n",
      "chain 1 |\u001B[33m          \u001B[0m| 00:00 Status\n",
      "chain 2 |\u001B[33m          \u001B[0m| 00:00 Status\u001B[A\n",
      "\n",
      "chain 3 |\u001B[33m          \u001B[0m| 00:00 Status\u001B[A\u001B[A\n",
      "\n",
      "\n",
      "chain 1 |\u001B[34m███████▎  \u001B[0m| 00:00 Iteration: 1300 / 2000 [ 65%]  (Sampling)\n",
      "\n",
      "chain 3 |\u001B[34m██████▎   \u001B[0m| 00:00 Iteration: 1100 / 2000 [ 55%]  (Sampling)\u001B[A\u001B[A\n",
      "chain 2 |\u001B[34m█████▉    \u001B[0m| 00:00 Iteration: 1001 / 2000 [ 50%]  (Sampling)\u001B[A\n",
      "\n",
      "\n",
      "chain 1 |\u001B[34m██████████\u001B[0m| 00:00 Sampling completed                       A\u001B[A\u001B[A\n",
      "chain 2 |\u001B[34m██████████\u001B[0m| 00:00 Sampling completed                       \n",
      "chain 3 |\u001B[34m██████████\u001B[0m| 00:00 Sampling completed                       \n",
      "chain 4 |\u001B[34m██████████\u001B[0m| 00:00 Sampling completed                     "
     ]
    },
    {
     "name": "stdout",
     "output_type": "stream",
     "text": [
      "                                                                                "
     ]
    },
    {
     "name": "stderr",
     "output_type": "stream",
     "text": [
      "\n"
     ]
    },
    {
     "name": "stdout",
     "output_type": "stream",
     "text": [
      "                                                                                                                                                                                                                                                "
     ]
    },
    {
     "name": "stderr",
     "output_type": "stream",
     "text": [
      "INFO:cmdstanpy:CmdStan done processing.\n"
     ]
    },
    {
     "name": "stdout",
     "output_type": "stream",
     "text": [
      "\n"
     ]
    },
    {
     "name": "stderr",
     "output_type": "stream",
     "text": [
      "INFO:cmdstanpy:CmdStan start processing\n",
      "chain 1 |\u001B[33m          \u001B[0m| 00:00 Status\n",
      "chain 2 |\u001B[33m          \u001B[0m| 00:00 Status\u001B[A\n",
      "\n",
      "chain 3 |\u001B[33m          \u001B[0m| 00:00 Status\u001B[A\u001B[A\n",
      "\n",
      "\n",
      "chain 1 |\u001B[34m███████▋  \u001B[0m| 00:00 Iteration: 1400 / 2000 [ 70%]  (Sampling)\n",
      "chain 2 |\u001B[34m███████▎  \u001B[0m| 00:00 Iteration: 1300 / 2000 [ 65%]  (Sampling)\u001B[A\n",
      "\n",
      "chain 3 |\u001B[33m█▎        \u001B[0m| 00:00 Iteration:  100 / 2000 [  5%]  (Warmup)\u001B[A\u001B[A\n",
      "\n",
      "\n",
      "chain 4 |\u001B[33m█▎        \u001B[0m| 00:00 Iteration:  100 / 2000 [  5%]  (Warmup)\u001B[A\u001B[A\u001B[A\n",
      "\n",
      "\n",
      "chain 1 |\u001B[34m██████████\u001B[0m| 00:00 Sampling completed                       \u001B[A\u001B[A\u001B[A\n",
      "chain 2 |\u001B[34m██████████\u001B[0m| 00:00 Sampling completed                       \n",
      "\n",
      "\n",
      "chain 3 |\u001B[34m██████████\u001B[0m| 00:00 Sampling completed                     \u001B[A\u001B[A\n",
      "chain 4 |\u001B[34m██████████\u001B[0m| 00:00 Sampling completed                       "
     ]
    },
    {
     "name": "stdout",
     "output_type": "stream",
     "text": [
      "                                                                                                                                                                                                                                                                                                                                "
     ]
    },
    {
     "name": "stderr",
     "output_type": "stream",
     "text": [
      "\n",
      "INFO:cmdstanpy:CmdStan done processing.\n"
     ]
    },
    {
     "name": "stdout",
     "output_type": "stream",
     "text": [
      "\n"
     ]
    }
   ],
   "source": [
    "F=5\n",
    "data = {'N': F}\n",
    "seed = 15011999\n",
    "result_3 = model_log_target_ind.sample(data=data, seed=seed)"
   ],
   "metadata": {
    "collapsed": false,
    "pycharm": {
     "name": "#%%\n"
    }
   }
  },
  {
   "cell_type": "code",
   "execution_count": 134,
   "outputs": [
    {
     "data": {
      "text/plain": "<Figure size 1490.4x662.4 with 6 Axes>",
      "image/png": "[encoded data removed]"
     },
     "metadata": {
      "needs_background": "light"
     },
     "output_type": "display_data"
    }
   ],
   "source": [
    "az.plot_density([result_1,result_2,result_3])\n",
    "plt.show()"
   ],
   "metadata": {
    "collapsed": false,
    "pycharm": {
     "name": "#%%\n"
    }
   }
  },
  {
   "cell_type": "markdown",
   "source": [
    "Exercise 6 - generated quantities post sampling"
   ],
   "metadata": {
    "collapsed": false,
    "pycharm": {
     "name": "#%% md\n"
    }
   }
  },
  {
   "cell_type": "code",
   "execution_count": 136,
   "outputs": [
    {
     "name": "stderr",
     "output_type": "stream",
     "text": [
      "INFO:cmdstanpy:found newer exe file, not recompiling\n",
      "INFO:cmdstanpy:Chain [1] start processing\n",
      "INFO:cmdstanpy:Chain [2] start processing\n",
      "INFO:cmdstanpy:Chain [1] done processing\n",
      "INFO:cmdstanpy:Chain [3] start processing\n",
      "INFO:cmdstanpy:Chain [2] done processing\n",
      "INFO:cmdstanpy:Chain [4] start processing\n",
      "INFO:cmdstanpy:Chain [3] done processing\n",
      "INFO:cmdstanpy:Chain [4] done processing\n"
     ]
    },
    {
     "data": {
      "text/plain": "array([[<AxesSubplot:title={'center':'mean_y'}>]], dtype=object)"
     },
     "execution_count": 136,
     "metadata": {},
     "output_type": "execute_result"
    },
    {
     "data": {
      "text/plain": "<Figure size 432x288 with 1 Axes>",
      "image/png": "[encoded data removed]"
     },
     "metadata": {
      "needs_background": "light"
     },
     "output_type": "display_data"
    }
   ],
   "source": [
    "model_gq = CmdStanModel(stan_file='code_10.stan')\n",
    "# fill in with chosen result from previous excercise\n",
    "mean_of_y = model_gq.generate_quantities(data=data,\n",
    "                                        mcmc_sample = result_1)\n",
    "# investigate the output and plot histogram of mean_y variableŌ\n",
    "\n",
    "df_6 = mean_of_y.draws_pd()\n",
    "df_6.hist(column = 'mean_y',bins =40)"
   ],
   "metadata": {
    "collapsed": false,
    "pycharm": {
     "name": "#%%\n"
    }
   }
  },
  {
   "cell_type": "code",
   "execution_count": 123,
   "outputs": [],
   "source": [],
   "metadata": {
    "collapsed": false,
    "pycharm": {
     "name": "#%%\n"
    }
   }
  }
 ],
 "metadata": {
  "kernelspec": {
   "display_name": "Python 3",
   "language": "python",
   "name": "python3"
  },
  "language_info": {
   "codemirror_mode": {
    "name": "ipython",
    "version": 2
   },
   "file_extension": ".py",
   "mimetype": "text/x-python",
   "name": "python",
   "nbconvert_exporter": "python",
   "pygments_lexer": "ipython2",
   "version": "2.7.6"
  }
 },
 "nbformat": 4,
 "nbformat_minor": 0
}