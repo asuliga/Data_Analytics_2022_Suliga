{
 "cells": [
  {
   "cell_type": "code",
   "execution_count": 54,
   "metadata": {
    "collapsed": true
   },
   "outputs": [],
   "source": [
    "from cmdstanpy import CmdStanModel\n",
    "import numpy as np\n",
    "import matplotlib.pyplot as plt"
   ]
  },
  {
   "cell_type": "code",
   "execution_count": 55,
   "outputs": [
    {
     "name": "stderr",
     "output_type": "stream",
     "text": [
      "INFO:cmdstanpy:found newer exe file, not recompiling\n"
     ]
    }
   ],
   "source": [
    "data_genetator = CmdStanModel(stan_file = 'generate_data.stan')"
   ],
   "metadata": {
    "collapsed": false,
    "pycharm": {
     "name": "#%%\n"
    }
   }
  },
  {
   "cell_type": "code",
   "execution_count": 56,
   "outputs": [
    {
     "name": "stderr",
     "output_type": "stream",
     "text": [
      "INFO:cmdstanpy:CmdStan start processing\n"
     ]
    },
    {
     "name": "stdout",
     "output_type": "stream",
     "text": [
      "2006990506\n"
     ]
    },
    {
     "name": "stderr",
     "output_type": "stream",
     "text": [
      "chain 1 |\u001B[34m██████████\u001B[0m| 00:00 Sampling completed"
     ]
    },
    {
     "name": "stdout",
     "output_type": "stream",
     "text": [
      "                                                                                "
     ]
    },
    {
     "name": "stderr",
     "output_type": "stream",
     "text": [
      "\n",
      "INFO:cmdstanpy:CmdStan done processing.\n"
     ]
    },
    {
     "name": "stdout",
     "output_type": "stream",
     "text": [
      "\n"
     ]
    }
   ],
   "source": [
    "I= 5\n",
    "N= 6\n",
    "DoB= 200699\n",
    "seed=int(DoB*1e4+100*I+N)\n",
    "print(seed)\n",
    "generated_data = data_genetator.sample(chains=1, iter_sampling=1, iter_warmup=0, fixed_param=True,seed=seed)"
   ],
   "metadata": {
    "collapsed": false,
    "pycharm": {
     "name": "#%%\n"
    }
   }
  },
  {
   "cell_type": "markdown",
   "source": [
    "Coefficients of linear model"
   ],
   "metadata": {
    "collapsed": false,
    "pycharm": {
     "name": "#%% md\n"
    }
   }
  },
  {
   "cell_type": "code",
   "execution_count": 57,
   "outputs": [
    {
     "data": {
      "text/plain": "<matplotlib.patches.StepPatch at 0x7f9a3f1c4580>"
     },
     "execution_count": 57,
     "metadata": {},
     "output_type": "execute_result"
    },
    {
     "data": {
      "text/plain": "<Figure size 432x288 with 1 Axes>",
      "image/png": "[encoded data removed]"
     },
     "metadata": {
      "needs_background": "light"
     },
     "output_type": "display_data"
    }
   ],
   "source": [
    "beta_s = generated_data.stan_variable('beta')\n",
    "plt.stairs(generated_data.stan_variable('beta')[0])"
   ],
   "metadata": {
    "collapsed": false,
    "pycharm": {
     "name": "#%%\n"
    }
   }
  },
  {
   "cell_type": "markdown",
   "source": [
    "Model 1 - uniform prior for beta"
   ],
   "metadata": {
    "collapsed": false,
    "pycharm": {
     "name": "#%% md\n"
    }
   }
  },
  {
   "cell_type": "code",
   "execution_count": 58,
   "outputs": [
    {
     "name": "stderr",
     "output_type": "stream",
     "text": [
      "INFO:cmdstanpy:found newer exe file, not recompiling\n"
     ]
    }
   ],
   "source": [
    "model_uniform = CmdStanModel(stan_file = 'model1.stan')"
   ],
   "metadata": {
    "collapsed": false,
    "pycharm": {
     "name": "#%%\n"
    }
   }
  },
  {
   "cell_type": "code",
   "execution_count": 59,
   "outputs": [],
   "source": [
    "data_for_inference = {'N':100,\n",
    "                      'M':200,\n",
    "                      'X':generated_data.stan_variable('X')[0],\n",
    "                      'y':generated_data.stan_variable('y')[0]\n",
    "                      }"
   ],
   "metadata": {
    "collapsed": false,
    "pycharm": {
     "name": "#%%\n"
    }
   }
  },
  {
   "cell_type": "code",
   "execution_count": 60,
   "outputs": [
    {
     "name": "stderr",
     "output_type": "stream",
     "text": [
      "INFO:cmdstanpy:CmdStan start processing\n",
      "chain 1 |\u001B[33m          \u001B[0m| 00:00 Status\n",
      "chain 2 |\u001B[33m          \u001B[0m| 00:00 Status\u001B[A\n",
      "\n",
      "chain 3 |\u001B[33m          \u001B[0m| 00:00 Status\u001B[A\u001B[A\n",
      "\n",
      "\n",
      "chain 4 |\u001B[33m          \u001B[0m| 00:00 Status\u001B[A\u001B[A\u001B[A\n",
      "chain 2 |\u001B[33m▉         \u001B[0m| 00:06 Iteration:    1 / 2000 [  0%]  (Warmup)\u001B[A\n",
      "\n",
      "\n",
      "chain 1 |\u001B[33m▉         \u001B[0m| 00:07 Iteration:    1 / 2000 [  0%]  (Warmup)\u001B[A\u001B[A\u001B[A\n",
      "\n",
      "chain 3 |\u001B[33m▉         \u001B[0m| 00:08 Iteration:    1 / 2000 [  0%]  (Warmup)\u001B[A\u001B[A\n",
      "\n",
      "\n",
      "chain 1 |\u001B[33m█▎        \u001B[0m| 00:16 Iteration:  100 / 2000 [  5%]  (Warmup)\u001B[A\u001B[A\u001B[A\n",
      "chain 2 |\u001B[33m█▎        \u001B[0m| 00:17 Iteration:  100 / 2000 [  5%]  (Warmup)\u001B[A\n",
      "\n",
      "chain 1 |\u001B[33m█▊        \u001B[0m| 00:23 Iteration:  200 / 2000 [ 10%]  (Warmup)\u001B[A\u001B[A\n",
      "\n",
      "\n",
      "chain 4 |\u001B[33m█▊        \u001B[0m| 00:24 Iteration:  200 / 2000 [ 10%]  (Warmup)\u001B[A\u001B[A\u001B[A\n",
      "chain 2 |\u001B[33m█▊        \u001B[0m| 00:26 Iteration:  200 / 2000 [ 10%]  (Warmup)\u001B[A\n",
      "\n",
      "chain 1 |\u001B[33m██▎       \u001B[0m| 00:30 Iteration:  300 / 2000 [ 15%]  (Warmup)\u001B[A\u001B[A\n",
      "\n",
      "\n",
      "chain 4 |\u001B[33m██▎       \u001B[0m| 00:31 Iteration:  300 / 2000 [ 15%]  (Warmup)\u001B[A\u001B[A\u001B[A\n",
      "chain 2 |\u001B[33m██▎       \u001B[0m| 00:34 Iteration:  300 / 2000 [ 15%]  (Warmup)\u001B[A\n",
      "\n",
      "chain 1 |\u001B[33m██▋       \u001B[0m| 00:37 Iteration:  400 / 2000 [ 20%]  (Warmup)\u001B[A\u001B[A\n",
      "\n",
      "\n",
      "chain 4 |\u001B[33m██▋       \u001B[0m| 00:37 Iteration:  400 / 2000 [ 20%]  (Warmup)\u001B[A\u001B[A\u001B[A\n",
      "chain 2 |\u001B[33m██▋       \u001B[0m| 00:44 Iteration:  400 / 2000 [ 20%]  (Warmup)\u001B[A\n",
      "\n",
      "chain 1 |\u001B[33m███▏      \u001B[0m| 00:45 Iteration:  500 / 2000 [ 25%]  (Warmup)\u001B[A\u001B[A\n",
      "\n",
      "\n",
      "chain 4 |\u001B[33m███▏      \u001B[0m| 00:46 Iteration:  500 / 2000 [ 25%]  (Warmup)\u001B[A\u001B[A\u001B[A\n",
      "chain 2 |\u001B[33m███▏      \u001B[0m| 00:51 Iteration:  500 / 2000 [ 25%]  (Warmup)\u001B[A\n",
      "\n",
      "chain 1 |\u001B[33m███▋      \u001B[0m| 00:53 Iteration:  600 / 2000 [ 30%]  (Warmup)\u001B[A\u001B[A\n",
      "\n",
      "\n",
      "chain 4 |\u001B[33m███▋      \u001B[0m| 00:53 Iteration:  600 / 2000 [ 30%]  (Warmup)\u001B[A\u001B[A\u001B[A\n",
      "chain 2 |\u001B[33m███▋      \u001B[0m| 00:58 Iteration:  600 / 2000 [ 30%]  (Warmup)\u001B[A\n",
      "\n",
      "chain 3 |\u001B[33m███▋      \u001B[0m| 00:58 Iteration:  600 / 2000 [ 30%]  (Warmup)\u001B[A\u001B[A\n",
      "\n",
      "\n",
      "chain 1 |\u001B[33m████      \u001B[0m| 01:00 Iteration:  700 / 2000 [ 35%]  (Warmup)\u001B[A\u001B[A\u001B[A\n",
      "chain 2 |\u001B[33m████      \u001B[0m| 01:05 Iteration:  700 / 2000 [ 35%]  (Warmup)\u001B[A\n",
      "\n",
      "chain 1 |\u001B[33m████▌     \u001B[0m| 01:06 Iteration:  800 / 2000 [ 40%]  (Warmup)\u001B[A\u001B[A\n",
      "\n",
      "\n",
      "chain 4 |\u001B[33m████▌     \u001B[0m| 01:06 Iteration:  800 / 2000 [ 40%]  (Warmup)\u001B[A\u001B[A\u001B[A\n",
      "chain 2 |\u001B[33m████▌     \u001B[0m| 01:11 Iteration:  800 / 2000 [ 40%]  (Warmup)\u001B[A\n",
      "\n",
      "chain 1 |\u001B[33m█████     \u001B[0m| 01:13 Iteration:  900 / 2000 [ 45%]  (Warmup)\u001B[A\u001B[A\n",
      "\n",
      "\n",
      "chain 4 |\u001B[33m█████     \u001B[0m| 01:13 Iteration:  900 / 2000 [ 45%]  (Warmup)\u001B[A\u001B[A\u001B[A\n",
      "chain 2 |\u001B[33m█████     \u001B[0m| 01:17 Iteration:  900 / 2000 [ 45%]  (Warmup)\u001B[A\n",
      "\n",
      "chain 1 |\u001B[34m█████▉    \u001B[0m| 01:19 Iteration: 1001 / 2000 [ 50%]  (Sampling)A\u001B[A\n",
      "\n",
      "\n",
      "chain 4 |\u001B[34m█████▉    \u001B[0m| 01:20 Iteration: 1001 / 2000 [ 50%]  (Sampling)\u001B[A\u001B[A\u001B[A\n",
      "chain 2 |\u001B[34m█████▉    \u001B[0m| 01:24 Iteration: 1001 / 2000 [ 50%]  (Sampling)\u001B[A\n",
      "\n",
      "chain 1 |\u001B[34m██████▎   \u001B[0m| 01:26 Iteration: 1100 / 2000 [ 55%]  (Sampling)\u001B[A\u001B[A\n",
      "\n",
      "\n",
      "chain 4 |\u001B[34m██████▎   \u001B[0m| 01:27 Iteration: 1100 / 2000 [ 55%]  (Sampling)\u001B[A\u001B[A\u001B[A\n",
      "chain 2 |\u001B[34m██████▎   \u001B[0m| 01:30 Iteration: 1100 / 2000 [ 55%]  (Sampling)\u001B[A\n",
      "\n",
      "chain 1 |\u001B[34m██████▊   \u001B[0m| 01:33 Iteration: 1200 / 2000 [ 60%]  (Sampling)\u001B[A\u001B[A\n",
      "\n",
      "\n",
      "chain 4 |\u001B[34m██████▊   \u001B[0m| 01:34 Iteration: 1200 / 2000 [ 60%]  (Sampling)\u001B[A\u001B[A\u001B[A\n",
      "chain 2 |\u001B[34m██████▊   \u001B[0m| 01:37 Iteration: 1200 / 2000 [ 60%]  (Sampling)\u001B[A\n",
      "\n",
      "chain 1 |\u001B[34m███████▎  \u001B[0m| 01:39 Iteration: 1300 / 2000 [ 65%]  (Sampling)\u001B[A\u001B[A\n",
      "\n",
      "\n",
      "chain 4 |\u001B[34m███████▎  \u001B[0m| 01:41 Iteration: 1300 / 2000 [ 65%]  (Sampling)\u001B[A\u001B[A\u001B[A\n",
      "chain 2 |\u001B[34m███████▎  \u001B[0m| 01:43 Iteration: 1300 / 2000 [ 65%]  (Sampling)\u001B[A\n",
      "\n",
      "chain 1 |\u001B[34m███████▋  \u001B[0m| 01:46 Iteration: 1400 / 2000 [ 70%]  (Sampling)\u001B[A\u001B[A\n",
      "\n",
      "\n",
      "chain 4 |\u001B[34m███████▋  \u001B[0m| 01:48 Iteration: 1400 / 2000 [ 70%]  (Sampling)\u001B[A\u001B[A\u001B[A\n",
      "chain 2 |\u001B[34m███████▋  \u001B[0m| 01:50 Iteration: 1400 / 2000 [ 70%]  (Sampling)\u001B[A\n",
      "\n",
      "chain 1 |\u001B[34m████████▏ \u001B[0m| 01:53 Iteration: 1500 / 2000 [ 75%]  (Sampling)\u001B[A\u001B[A\n",
      "\n",
      "\n",
      "chain 4 |\u001B[34m████████▏ \u001B[0m| 01:55 Iteration: 1500 / 2000 [ 75%]  (Sampling)\u001B[A\u001B[A\u001B[A\n",
      "chain 2 |\u001B[34m████████▏ \u001B[0m| 01:56 Iteration: 1500 / 2000 [ 75%]  (Sampling)\u001B[A\n",
      "\n",
      "chain 1 |\u001B[34m████████▋ \u001B[0m| 01:59 Iteration: 1600 / 2000 [ 80%]  (Sampling)\u001B[A\u001B[A\n",
      "\n",
      "\n",
      "chain 4 |\u001B[34m████████▋ \u001B[0m| 02:02 Iteration: 1600 / 2000 [ 80%]  (Sampling)\u001B[A\u001B[A\u001B[A\n",
      "chain 2 |\u001B[34m████████▋ \u001B[0m| 02:03 Iteration: 1600 / 2000 [ 80%]  (Sampling)\u001B[A\n",
      "\n",
      "chain 1 |\u001B[34m█████████ \u001B[0m| 02:06 Iteration: 1700 / 2000 [ 85%]  (Sampling)\u001B[A\u001B[A\n",
      "\n",
      "\n",
      "chain 4 |\u001B[34m█████████ \u001B[0m| 02:08 Iteration: 1700 / 2000 [ 85%]  (Sampling)\u001B[A\u001B[A\u001B[A\n",
      "chain 2 |\u001B[34m█████████ \u001B[0m| 02:10 Iteration: 1700 / 2000 [ 85%]  (Sampling)\u001B[A\n",
      "\n",
      "chain 1 |\u001B[34m█████████▌\u001B[0m| 02:12 Iteration: 1800 / 2000 [ 90%]  (Sampling)\u001B[A\u001B[A\n",
      "\n",
      "\n",
      "chain 4 |\u001B[34m█████████▌\u001B[0m| 02:15 Iteration: 1800 / 2000 [ 90%]  (Sampling)\u001B[A\u001B[A\u001B[A\n",
      "chain 2 |\u001B[34m█████████▌\u001B[0m| 02:16 Iteration: 1800 / 2000 [ 90%]  (Sampling)\u001B[A\n",
      "\n",
      "chain 1 |\u001B[34m██████████\u001B[0m| 02:19 Iteration: 1900 / 2000 [ 95%]  (Sampling)\u001B[A\u001B[A\n",
      "\n",
      "\n",
      "chain 4 |\u001B[34m██████████\u001B[0m| 02:22 Iteration: 1900 / 2000 [ 95%]  (Sampling)\u001B[A\u001B[A\u001B[A\n",
      "chain 2 |\u001B[34m██████████\u001B[0m| 02:22 Iteration: 1900 / 2000 [ 95%]  (Sampling)\u001B[A\n",
      "\n",
      "chain 1 |\u001B[34m██████████\u001B[0m| 02:24 Sampling completed                       \u001B[A\u001B[A\n",
      "chain 2 |\u001B[34m██████████\u001B[0m| 02:24 Sampling completed                       \n",
      "chain 3 |\u001B[34m██████████\u001B[0m| 02:24 Sampling completed                       \n",
      "chain 4 |\u001B[34m██████████\u001B[0m| 02:24 Sampling completed                       "
     ]
    },
    {
     "name": "stdout",
     "output_type": "stream",
     "text": [
      "                                                                                                                                                                                                                                                                                                                                "
     ]
    },
    {
     "name": "stderr",
     "output_type": "stream",
     "text": [
      "\n",
      "INFO:cmdstanpy:CmdStan done processing.\n"
     ]
    },
    {
     "name": "stdout",
     "output_type": "stream",
     "text": [
      "\n"
     ]
    }
   ],
   "source": [
    "fit_unf = model_uniform.sample(data=data_for_inference,seed=seed)"
   ],
   "metadata": {
    "collapsed": false,
    "pycharm": {
     "name": "#%%\n"
    }
   }
  },
  {
   "cell_type": "code",
   "execution_count": 61,
   "outputs": [
    {
     "name": "stdout",
     "output_type": "stream",
     "text": [
      "Processing csv files: /tmp/tmpi6dtn17k/model1-20220403125403_1.csv, /tmp/tmpi6dtn17k/model1-20220403125403_2.csv, /tmp/tmpi6dtn17k/model1-20220403125403_3.csv, /tmp/tmpi6dtn17k/model1-20220403125403_4.csv\n",
      "\n",
      "Checking sampler transitions treedepth.\n",
      "3999 of 4000 (99.97%) transitions hit the maximum treedepth limit of 10, or 2^10 leapfrog steps.\n",
      "Trajectories that are prematurely terminated due to this limit will result in slow exploration.\n",
      "For optimal performance, increase this limit.\n",
      "\n",
      "Checking sampler transitions for divergences.\n",
      "1 of 4000 (0.03%) transitions ended with a divergence.\n",
      "These divergent transitions indicate that HMC is not fully able to explore the posterior distribution.\n",
      "Try increasing adapt delta closer to 1.\n",
      "If this doesn't remove all divergences, try to reparameterize the model.\n",
      "\n",
      "Checking E-BFMI - sampler transitions HMC potential energy.\n",
      "The E-BFMI, 0.06, is below the nominal threshold of 0.30 which suggests that HMC may have trouble exploring the target distribution.\n",
      "If possible, try to reparameterize the model.\n",
      "\n",
      "The following parameters had fewer than 0.001 effective draws per transition:\n",
      "  beta[1], beta[2], beta[3], beta[4], beta[5], beta[6], beta[7], beta[8], beta[9], beta[10], beta[11], beta[12], beta[13], beta[14], beta[15], beta[16], beta[17], beta[18], beta[19], beta[20], beta[21], beta[22], beta[23], beta[24], beta[25], beta[26], beta[27], beta[28], beta[29], beta[30], beta[31], beta[32], beta[33], beta[34], beta[35], beta[36], beta[37], beta[38], beta[39], beta[40], beta[41], beta[42], beta[43], beta[44], beta[45], beta[46], beta[47], beta[48], beta[49], beta[50], beta[51], beta[52], beta[53], beta[54], beta[55], beta[56], beta[57], beta[58], beta[59], beta[60], beta[61], beta[62], beta[63], beta[64], beta[65], beta[66], beta[67], beta[68], beta[69], beta[70], beta[71], beta[72], beta[73], beta[74], beta[75], beta[76], beta[77], beta[78], beta[79], beta[80], beta[81], beta[82], beta[83], beta[84], beta[85], beta[86], beta[87], beta[88], beta[89], beta[90], beta[91], beta[92], beta[93], beta[94], beta[95], beta[96], beta[97], beta[98], beta[99], beta[100], beta[101], beta[102], beta[103], beta[104], beta[105], beta[106], beta[107], beta[108], beta[109], beta[110], beta[111], beta[112], beta[113], beta[114], beta[115], beta[116], beta[117], beta[118], beta[119], beta[120], beta[121], beta[122], beta[123], beta[124], beta[125], beta[126], beta[127], beta[128], beta[129], beta[130], beta[131], beta[132], beta[133], beta[134], beta[135], beta[136], beta[137], beta[138], beta[139], beta[140], beta[141], beta[142], beta[143], beta[144], beta[145], beta[146], beta[147], beta[148], beta[149], beta[150], beta[151], beta[152], beta[153], beta[154], beta[155], beta[156], beta[157], beta[158], beta[159], beta[160], beta[161], beta[162], beta[163], beta[164], beta[165], beta[166], beta[167], beta[168], beta[169], beta[170], beta[171], beta[172], beta[173], beta[174], beta[175], beta[176], beta[177], beta[178], beta[180], beta[181], beta[182], beta[183], beta[184], beta[185], beta[186], beta[187], beta[188], beta[189], beta[190], beta[191], beta[192], beta[193], beta[194], beta[195], beta[196], beta[197], beta[198], beta[199], beta[200], sigma\n",
      "Such low values indicate that the effective sample size estimators may be biased high and actual performance may be substantially lower than quoted.\n",
      "\n",
      "The following parameters had split R-hat greater than 1.05:\n",
      "  beta[1], beta[2], beta[3], beta[4], beta[5], beta[6], beta[7], beta[8], beta[9], beta[10], beta[11], beta[12], beta[13], beta[14], beta[15], beta[16], beta[17], beta[18], beta[19], beta[20], beta[21], beta[22], beta[23], beta[24], beta[25], beta[26], beta[27], beta[28], beta[29], beta[30], beta[31], beta[32], beta[33], beta[34], beta[35], beta[36], beta[37], beta[38], beta[39], beta[40], beta[41], beta[42], beta[43], beta[44], beta[45], beta[46], beta[47], beta[48], beta[49], beta[50], beta[51], beta[52], beta[53], beta[54], beta[55], beta[56], beta[57], beta[58], beta[59], beta[60], beta[61], beta[62], beta[63], beta[64], beta[65], beta[66], beta[67], beta[68], beta[69], beta[70], beta[71], beta[72], beta[73], beta[74], beta[75], beta[76], beta[77], beta[78], beta[79], beta[80], beta[81], beta[82], beta[83], beta[84], beta[85], beta[86], beta[87], beta[88], beta[89], beta[90], beta[91], beta[92], beta[93], beta[94], beta[95], beta[96], beta[97], beta[98], beta[99], beta[100], beta[101], beta[102], beta[103], beta[104], beta[105], beta[106], beta[107], beta[108], beta[109], beta[110], beta[111], beta[112], beta[113], beta[114], beta[115], beta[116], beta[117], beta[118], beta[119], beta[120], beta[121], beta[122], beta[123], beta[124], beta[125], beta[126], beta[127], beta[128], beta[129], beta[130], beta[131], beta[132], beta[133], beta[134], beta[135], beta[136], beta[137], beta[138], beta[139], beta[140], beta[141], beta[142], beta[143], beta[144], beta[145], beta[146], beta[147], beta[148], beta[149], beta[150], beta[151], beta[152], beta[153], beta[154], beta[155], beta[156], beta[157], beta[158], beta[159], beta[160], beta[161], beta[162], beta[163], beta[164], beta[165], beta[166], beta[167], beta[168], beta[169], beta[170], beta[171], beta[172], beta[173], beta[174], beta[175], beta[176], beta[177], beta[178], beta[179], beta[180], beta[181], beta[182], beta[183], beta[184], beta[185], beta[186], beta[187], beta[188], beta[189], beta[190], beta[191], beta[192], beta[193], beta[194], beta[195], beta[196], beta[197], beta[198], beta[199], beta[200], alpha, sigma\n",
      "Such high values indicate incomplete mixing and biased estimation.\n",
      "You should consider regularizating your model with additional prior information or a more effective parameterization.\n",
      "\n",
      "Processing complete.\n",
      "\n"
     ]
    }
   ],
   "source": [
    "print(fit_unf.diagnose())"
   ],
   "metadata": {
    "collapsed": false,
    "pycharm": {
     "name": "#%%\n"
    }
   }
  },
  {
   "cell_type": "code",
   "execution_count": 62,
   "outputs": [
    {
     "data": {
      "text/plain": "<Figure size 504x288 with 1 Axes>",
      "image/png": "[encoded data removed]"
     },
     "metadata": {
      "needs_background": "light"
     },
     "output_type": "display_data"
    }
   ],
   "source": [
    "fit_beta = fit_unf.stan_variable('beta')\n",
    "x_list = [i for i in range (len(fit_beta))]\n",
    "max_height = []\n",
    "min_height = []\n",
    "\n",
    "five_quantile = []\n",
    "twofive_quantile = []\n",
    "fifty_quantile = []\n",
    "sevenFive_quantile = []\n",
    "nineFive_qantile = []\n",
    "for vector in fit_beta:\n",
    "    five_quantile.append(np.percentile(vector,5))\n",
    "    twofive_quantile.append(np.percentile(vector,25))\n",
    "    fifty_quantile.append(np.percentile(vector,50))\n",
    "    sevenFive_quantile.append(np.percentile(vector,75))\n",
    "    nineFive_qantile.append(np.percentile(vector,95))\n",
    "    max_height.append(np.max(vector))\n",
    "    min_height.append(np.min(vector))\n",
    "\n",
    "fig, axes = plt.subplots(1,1,figsize=(7,4))\n",
    "plt.scatter(x_list, max_height, color = 'm')\n",
    "plt.scatter(x_list, min_height, color = 'k')\n",
    "plt.scatter(x_list, five_quantile, color = 'r')\n",
    "plt.scatter(x_list, twofive_quantile, color = 'g')\n",
    "plt.scatter(x_list, fifty_quantile,  color = 'y')\n",
    "plt.scatter(x_list, sevenFive_quantile, color = 'b')\n",
    "plt.scatter(x_list, nineFive_qantile,  color = 'c')\n",
    "plt.legend(['max','min','5%','25%','50%','75%','95%'])\n",
    "plt.grid()"
   ],
   "metadata": {
    "collapsed": false,
    "pycharm": {
     "name": "#%%\n"
    }
   }
  },
  {
   "cell_type": "markdown",
   "source": [
    "Substract true values from fitted betas and make the same plot (residues)"
   ],
   "metadata": {
    "collapsed": false,
    "pycharm": {
     "name": "#%% md\n"
    }
   }
  },
  {
   "cell_type": "code",
   "execution_count": 63,
   "outputs": [
    {
     "data": {
      "text/plain": "<Figure size 504x288 with 1 Axes>",
      "image/png": "[encoded data removed]"
     },
     "metadata": {
      "needs_background": "light"
     },
     "output_type": "display_data"
    }
   ],
   "source": [
    "result = fit_beta - beta_s\n",
    "max_height = []\n",
    "min_height = []\n",
    "\n",
    "five_quantile = []\n",
    "twofive_quantile = []\n",
    "fifty_quantile = []\n",
    "sevenFive_quantile = []\n",
    "nineFive_qantile = []\n",
    "for vector in result:\n",
    "    five_quantile.append(np.percentile(vector,5))\n",
    "    twofive_quantile.append(np.percentile(vector,25))\n",
    "    fifty_quantile.append(np.percentile(vector,50))\n",
    "    sevenFive_quantile.append(np.percentile(vector,75))\n",
    "    nineFive_qantile.append(np.percentile(vector,95))\n",
    "    max_height.append(np.max(vector))\n",
    "    min_height.append(np.min(vector))\n",
    "\n",
    "fig, axes = plt.subplots(1,1,figsize=(7,4))\n",
    "plt.scatter(x_list, max_height, color = 'm')\n",
    "plt.scatter(x_list, min_height, color = 'k')\n",
    "plt.scatter(x_list, five_quantile, color = 'r')\n",
    "plt.scatter(x_list, twofive_quantile, color = 'g')\n",
    "plt.scatter(x_list, fifty_quantile,  color = 'y')\n",
    "plt.scatter(x_list, sevenFive_quantile, color = 'b')\n",
    "plt.scatter(x_list, nineFive_qantile,  color = 'c')\n",
    "plt.legend(['max','min','5%','25%','50%','75%','95%'])\n",
    "plt.grid()"
   ],
   "metadata": {
    "collapsed": false,
    "pycharm": {
     "name": "#%%\n"
    }
   }
  },
  {
   "cell_type": "markdown",
   "source": [
    "Model 2 - Narrow weakly informative prior"
   ],
   "metadata": {
    "collapsed": false,
    "pycharm": {
     "name": "#%% md\n"
    }
   }
  },
  {
   "cell_type": "code",
   "execution_count": 64,
   "outputs": [
    {
     "name": "stderr",
     "output_type": "stream",
     "text": [
      "INFO:cmdstanpy:found newer exe file, not recompiling\n"
     ]
    }
   ],
   "source": [
    "model_reg = CmdStanModel(stan_file = 'model2.stan')"
   ],
   "metadata": {
    "collapsed": false,
    "pycharm": {
     "name": "#%%\n"
    }
   }
  },
  {
   "cell_type": "code",
   "execution_count": 65,
   "outputs": [
    {
     "name": "stderr",
     "output_type": "stream",
     "text": [
      "INFO:cmdstanpy:CmdStan start processing\n",
      "chain 1 |\u001B[33m          \u001B[0m| 00:00 Status\n",
      "chain 2 |\u001B[33m          \u001B[0m| 00:00 Status\u001B[A\n",
      "\n",
      "chain 3 |\u001B[33m          \u001B[0m| 00:00 Status\u001B[A\u001B[A\n",
      "\n",
      "\n",
      "chain 4 |\u001B[33m          \u001B[0m| 00:00 Status\u001B[A\u001B[A\u001B[A\n",
      "\n",
      "chain 3 |\u001B[33m▉         \u001B[0m| 00:00 Iteration:    1 / 2000 [  0%]  (Warmup)\u001B[A\u001B[A\n",
      "chain 2 |\u001B[33m▉         \u001B[0m| 00:00 Iteration:    1 / 2000 [  0%]  (Warmup)\u001B[A\n",
      "\n",
      "\n",
      "chain 1 |\u001B[33m▉         \u001B[0m| 00:00 Iteration:    1 / 2000 [  0%]  (Warmup)\u001B[A\u001B[A\u001B[A\n",
      "\n",
      "chain 3 |\u001B[33m█▎        \u001B[0m| 00:00 Iteration:  100 / 2000 [  5%]  (Warmup)\u001B[A\u001B[A\n",
      "chain 1 |\u001B[33m█▎        \u001B[0m| 00:00 Iteration:  100 / 2000 [  5%]  (Warmup)\u001B[A\n",
      "\n",
      "\n",
      "chain 4 |\u001B[33m█▎        \u001B[0m| 00:00 Iteration:  100 / 2000 [  5%]  (Warmup)\u001B[A\u001B[A\u001B[A\n",
      "\n",
      "chain 3 |\u001B[33m█▊        \u001B[0m| 00:00 Iteration:  200 / 2000 [ 10%]  (Warmup)\u001B[A\u001B[A\n",
      "chain 1 |\u001B[33m█▊        \u001B[0m| 00:00 Iteration:  200 / 2000 [ 10%]  (Warmup)\u001B[A\n",
      "chain 2 |\u001B[33m██▎       \u001B[0m| 00:00 Iteration:  300 / 2000 [ 15%]  (Warmup)\u001B[A\n",
      "\n",
      "\n",
      "chain 4 |\u001B[33m█▊        \u001B[0m| 00:00 Iteration:  200 / 2000 [ 10%]  (Warmup)\u001B[A\u001B[A\u001B[A\n",
      "\n",
      "chain 1 |\u001B[33m██▎       \u001B[0m| 00:01 Iteration:  300 / 2000 [ 15%]  (Warmup)\u001B[A\u001B[A\n",
      "chain 2 |\u001B[33m██▋       \u001B[0m| 00:01 Iteration:  400 / 2000 [ 20%]  (Warmup)\u001B[A\n",
      "\n",
      "\n",
      "chain 4 |\u001B[33m██▎       \u001B[0m| 00:01 Iteration:  300 / 2000 [ 15%]  (Warmup)\u001B[A\u001B[A\u001B[A\n",
      "\n",
      "chain 1 |\u001B[33m██▋       \u001B[0m| 00:01 Iteration:  400 / 2000 [ 20%]  (Warmup)\u001B[A\u001B[A\n",
      "\n",
      "\n",
      "chain 4 |\u001B[33m██▋       \u001B[0m| 00:01 Iteration:  400 / 2000 [ 20%]  (Warmup)\u001B[A\u001B[A\u001B[A\n",
      "chain 1 |\u001B[33m███▏      \u001B[0m| 00:01 Iteration:  500 / 2000 [ 25%]  (Warmup)\u001B[A\n",
      "\n",
      "chain 3 |\u001B[33m███▏      \u001B[0m| 00:01 Iteration:  500 / 2000 [ 25%]  (Warmup)\u001B[A\u001B[A\n",
      "\n",
      "\n",
      "chain 4 |\u001B[33m███▋      \u001B[0m| 00:01 Iteration:  600 / 2000 [ 30%]  (Warmup)\u001B[A\u001B[A\u001B[A\n",
      "\n",
      "chain 3 |\u001B[33m███▋      \u001B[0m| 00:01 Iteration:  600 / 2000 [ 30%]  (Warmup)\u001B[A\u001B[A\n",
      "chain 1 |\u001B[33m████      \u001B[0m| 00:01 Iteration:  700 / 2000 [ 35%]  (Warmup)\u001B[A\n",
      "\n",
      "\n",
      "chain 4 |\u001B[33m████      \u001B[0m| 00:01 Iteration:  700 / 2000 [ 35%]  (Warmup)\u001B[A\u001B[A\u001B[A\n",
      "chain 2 |\u001B[33m█████     \u001B[0m| 00:01 Iteration:  900 / 2000 [ 45%]  (Warmup)\u001B[A\n",
      "\n",
      "chain 1 |\u001B[33m████▌     \u001B[0m| 00:01 Iteration:  800 / 2000 [ 40%]  (Warmup)\u001B[A\u001B[A\n",
      "\n",
      "\n",
      "chain 4 |\u001B[33m████▌     \u001B[0m| 00:01 Iteration:  800 / 2000 [ 40%]  (Warmup)\u001B[A\u001B[A\u001B[A\n",
      "chain 1 |\u001B[33m█████     \u001B[0m| 00:01 Iteration:  900 / 2000 [ 45%]  (Warmup)g)\u001B[A\n",
      "\n",
      "\n",
      "chain 4 |\u001B[33m█████     \u001B[0m| 00:01 Iteration:  900 / 2000 [ 45%]  (Warmup)\u001B[A\u001B[A\u001B[A\n",
      "\n",
      "chain 1 |\u001B[34m█████▉    \u001B[0m| 00:01 Iteration: 1001 / 2000 [ 50%]  (Sampling)A\u001B[A\n",
      "\n",
      "chain 3 |\u001B[33m█████     \u001B[0m| 00:01 Iteration:  900 / 2000 [ 45%]  (Warmup)\u001B[A\u001B[A\n",
      "\n",
      "\n",
      "chain 4 |\u001B[34m█████▉    \u001B[0m| 00:01 Iteration: 1001 / 2000 [ 50%]  (Sampling)\u001B[A\u001B[A\u001B[A\n",
      "chain 2 |\u001B[34m██████▊   \u001B[0m| 00:01 Iteration: 1200 / 2000 [ 60%]  (Sampling)\u001B[A\n",
      "\n",
      "chain 1 |\u001B[34m██████▊   \u001B[0m| 00:02 Iteration: 1200 / 2000 [ 60%]  (Sampling)\u001B[A\u001B[A\n",
      "\n",
      "\n",
      "chain 4 |\u001B[34m██████▊   \u001B[0m| 00:02 Iteration: 1200 / 2000 [ 60%]  (Sampling)\u001B[A\u001B[A\u001B[A\n",
      "\n",
      "chain 3 |\u001B[34m██████▎   \u001B[0m| 00:02 Iteration: 1100 / 2000 [ 55%]  (Sampling)\u001B[A\u001B[A\n",
      "chain 1 |\u001B[34m███████▎  \u001B[0m| 00:02 Iteration: 1300 / 2000 [ 65%]  (Sampling)\u001B[A\n",
      "\n",
      "\n",
      "chain 4 |\u001B[34m███████▎  \u001B[0m| 00:02 Iteration: 1300 / 2000 [ 65%]  (Sampling)\u001B[A\u001B[A\u001B[A\n",
      "chain 1 |\u001B[34m███████▋  \u001B[0m| 00:02 Iteration: 1400 / 2000 [ 70%]  (Sampling)\u001B[A\n",
      "\n",
      "chain 3 |\u001B[34m██████▊   \u001B[0m| 00:02 Iteration: 1200 / 2000 [ 60%]  (Sampling)\u001B[A\u001B[A\n",
      "\n",
      "\n",
      "chain 1 |\u001B[34m████████▏ \u001B[0m| 00:02 Iteration: 1500 / 2000 [ 75%]  (Sampling)\u001B[A\u001B[A\u001B[A\n",
      "chain 2 |\u001B[34m████████▋ \u001B[0m| 00:02 Iteration: 1600 / 2000 [ 80%]  (Sampling)\u001B[A\n",
      "\n",
      "\n",
      "chain 4 |\u001B[34m████████▏ \u001B[0m| 00:02 Iteration: 1500 / 2000 [ 75%]  (Sampling)\u001B[A\u001B[A\u001B[A\n",
      "\n",
      "chain 1 |\u001B[34m████████▋ \u001B[0m| 00:02 Iteration: 1600 / 2000 [ 80%]  (Sampling)\u001B[A\u001B[A\n",
      "chain 2 |\u001B[34m█████████ \u001B[0m| 00:02 Iteration: 1700 / 2000 [ 85%]  (Sampling)\u001B[A\n",
      "\n",
      "\n",
      "chain 1 |\u001B[34m█████████ \u001B[0m| 00:02 Iteration: 1700 / 2000 [ 85%]  (Sampling)\u001B[A\u001B[A\u001B[A\n",
      "\n",
      "chain 3 |\u001B[34m███████▋  \u001B[0m| 00:02 Iteration: 1400 / 2000 [ 70%]  (Sampling)\u001B[A\u001B[A\n",
      "chain 2 |\u001B[34m█████████▌\u001B[0m| 00:02 Iteration: 1800 / 2000 [ 90%]  (Sampling)\u001B[A\n",
      "\n",
      "\n",
      "chain 1 |\u001B[34m█████████▌\u001B[0m| 00:02 Iteration: 1800 / 2000 [ 90%]  (Sampling)\u001B[A\u001B[A\u001B[A\n",
      "\n",
      "chain 3 |\u001B[34m████████▏ \u001B[0m| 00:02 Iteration: 1500 / 2000 [ 75%]  (Sampling)\u001B[A\u001B[A\n",
      "chain 1 |\u001B[34m██████████\u001B[0m| 00:02 Iteration: 1900 / 2000 [ 95%]  (Sampling)\u001B[A\n",
      "\n",
      "\n",
      "chain 4 |\u001B[34m█████████▌\u001B[0m| 00:02 Iteration: 1800 / 2000 [ 90%]  (Sampling)\u001B[A\u001B[A\u001B[A\n",
      "\n",
      "chain 3 |\u001B[34m████████▋ \u001B[0m| 00:03 Iteration: 1600 / 2000 [ 80%]  (Sampling)\u001B[A\u001B[A\n",
      "\n",
      "\n",
      "chain 4 |\u001B[34m██████████\u001B[0m| 00:03 Iteration: 1900 / 2000 [ 95%]  (Sampling)\u001B[A\u001B[A\u001B[A\n",
      "\n",
      "chain 3 |\u001B[34m█████████ \u001B[0m| 00:03 Iteration: 1700 / 2000 [ 85%]  (Sampling)\u001B[A\u001B[A\n",
      "\n",
      "chain 1 |\u001B[34m██████████\u001B[0m| 00:03 Sampling completed                       \u001B[A\u001B[A\n",
      "chain 2 |\u001B[34m██████████\u001B[0m| 00:03 Sampling completed                       \n",
      "chain 3 |\u001B[34m██████████\u001B[0m| 00:03 Sampling completed                       \n",
      "chain 4 |\u001B[34m██████████\u001B[0m| 00:03 Sampling completed                       "
     ]
    },
    {
     "name": "stdout",
     "output_type": "stream",
     "text": [
      "                                                                                                                                                                                                                                                                                                                                "
     ]
    },
    {
     "name": "stderr",
     "output_type": "stream",
     "text": [
      "\n",
      "INFO:cmdstanpy:CmdStan done processing.\n"
     ]
    },
    {
     "name": "stdout",
     "output_type": "stream",
     "text": [
      "\n"
     ]
    }
   ],
   "source": [
    "fit_reg = model_reg.sample(data=data_for_inference,seed=seed)"
   ],
   "metadata": {
    "collapsed": false,
    "pycharm": {
     "name": "#%%\n"
    }
   }
  },
  {
   "cell_type": "code",
   "execution_count": 66,
   "outputs": [
    {
     "name": "stdout",
     "output_type": "stream",
     "text": [
      "Processing csv files: /tmp/tmpi6dtn17k/model2-20220403125635_1.csv, /tmp/tmpi6dtn17k/model2-20220403125635_2.csv, /tmp/tmpi6dtn17k/model2-20220403125635_3.csv, /tmp/tmpi6dtn17k/model2-20220403125635_4.csv\n",
      "\n",
      "Checking sampler transitions treedepth.\n",
      "Treedepth satisfactory for all transitions.\n",
      "\n",
      "Checking sampler transitions for divergences.\n",
      "No divergent transitions found.\n",
      "\n",
      "Checking E-BFMI - sampler transitions HMC potential energy.\n",
      "E-BFMI satisfactory.\n",
      "\n",
      "Effective sample size satisfactory.\n",
      "\n",
      "Split R-hat values satisfactory all parameters.\n",
      "\n",
      "Processing complete, no problems detected.\n",
      "\n"
     ]
    }
   ],
   "source": [
    "print(fit_reg.diagnose())"
   ],
   "metadata": {
    "collapsed": false,
    "pycharm": {
     "name": "#%%\n"
    }
   }
  },
  {
   "cell_type": "code",
   "execution_count": 67,
   "outputs": [
    {
     "data": {
      "text/plain": "<Figure size 504x288 with 1 Axes>",
      "image/png": "[encoded data removed]"
     },
     "metadata": {
      "needs_background": "light"
     },
     "output_type": "display_data"
    }
   ],
   "source": [
    "fit_beta = fit_reg.stan_variable('beta')\n",
    "x_list = [i for i in range (len(fit_beta))]\n",
    "max_height = []\n",
    "min_height = []\n",
    "\n",
    "five_quantile = []\n",
    "twofive_quantile = []\n",
    "fifty_quantile = []\n",
    "sevenFive_quantile = []\n",
    "nineFive_qantile = []\n",
    "for vector in fit_beta:\n",
    "    five_quantile.append(np.percentile(vector,5))\n",
    "    twofive_quantile.append(np.percentile(vector,25))\n",
    "    fifty_quantile.append(np.percentile(vector,50))\n",
    "    sevenFive_quantile.append(np.percentile(vector,75))\n",
    "    nineFive_qantile.append(np.percentile(vector,95))\n",
    "    max_height.append(np.max(vector))\n",
    "    min_height.append(np.min(vector))\n",
    "\n",
    "fig, axes = plt.subplots(1,1,figsize=(7,4))\n",
    "plt.scatter(x_list, max_height, color = 'm')\n",
    "plt.scatter(x_list, min_height, color = 'k')\n",
    "plt.scatter(x_list, five_quantile, color = 'r')\n",
    "plt.scatter(x_list, twofive_quantile, color = 'g')\n",
    "plt.scatter(x_list, fifty_quantile,  color = 'y')\n",
    "plt.scatter(x_list, sevenFive_quantile, color = 'b')\n",
    "plt.scatter(x_list, nineFive_qantile,  color = 'c')\n",
    "plt.legend(['max','min','5%','25%','50%','75%','95%'])\n",
    "plt.grid()"
   ],
   "metadata": {
    "collapsed": false,
    "pycharm": {
     "name": "#%%\n"
    }
   }
  },
  {
   "cell_type": "code",
   "execution_count": 68,
   "outputs": [
    {
     "data": {
      "text/plain": "<Figure size 504x288 with 1 Axes>",
      "image/png": "[encoded data removed]"
     },
     "metadata": {
      "needs_background": "light"
     },
     "output_type": "display_data"
    }
   ],
   "source": [
    "result = fit_beta - beta_s\n",
    "max_height = []\n",
    "min_height = []\n",
    "\n",
    "five_quantile = []\n",
    "twofive_quantile = []\n",
    "fifty_quantile = []\n",
    "sevenFive_quantile = []\n",
    "nineFive_qantile = []\n",
    "for vector in result:\n",
    "    five_quantile.append(np.percentile(vector,5))\n",
    "    twofive_quantile.append(np.percentile(vector,25))\n",
    "    fifty_quantile.append(np.percentile(vector,50))\n",
    "    sevenFive_quantile.append(np.percentile(vector,75))\n",
    "    nineFive_qantile.append(np.percentile(vector,95))\n",
    "    max_height.append(np.max(vector))\n",
    "    min_height.append(np.min(vector))\n",
    "\n",
    "fig, axes = plt.subplots(1,1,figsize=(7,4))\n",
    "plt.scatter(x_list, max_height, color = 'm')\n",
    "plt.scatter(x_list, min_height, color = 'k')\n",
    "plt.scatter(x_list, five_quantile, color = 'r')\n",
    "plt.scatter(x_list, twofive_quantile, color = 'g')\n",
    "plt.scatter(x_list, fifty_quantile,  color = 'y')\n",
    "plt.scatter(x_list, sevenFive_quantile, color = 'b')\n",
    "plt.scatter(x_list, nineFive_qantile,  color = 'c')\n",
    "plt.legend(['max','min','5%','25%','50%','75%','95%'])\n",
    "plt.grid()"
   ],
   "metadata": {
    "collapsed": false,
    "pycharm": {
     "name": "#%%\n"
    }
   }
  },
  {
   "cell_type": "markdown",
   "source": [
    "Model 3 - Sparsity enforcing prior"
   ],
   "metadata": {
    "collapsed": false,
    "pycharm": {
     "name": "#%% md\n"
    }
   }
  },
  {
   "cell_type": "code",
   "execution_count": 69,
   "outputs": [
    {
     "name": "stderr",
     "output_type": "stream",
     "text": [
      "INFO:cmdstanpy:found newer exe file, not recompiling\n"
     ]
    }
   ],
   "source": [
    "model_lap = CmdStanModel(stan_file = 'model3.stan')"
   ],
   "metadata": {
    "collapsed": false,
    "pycharm": {
     "name": "#%%\n"
    }
   }
  },
  {
   "cell_type": "code",
   "execution_count": 70,
   "outputs": [
    {
     "name": "stderr",
     "output_type": "stream",
     "text": [
      "INFO:cmdstanpy:CmdStan start processing\n",
      "chain 1 |\u001B[33m          \u001B[0m| 00:00 Status\n",
      "chain 2 |\u001B[33m          \u001B[0m| 00:00 Status\u001B[A\n",
      "\n",
      "chain 3 |\u001B[33m          \u001B[0m| 00:00 Status\u001B[A\u001B[A\n",
      "\n",
      "\n",
      "chain 4 |\u001B[33m          \u001B[0m| 00:00 Status\u001B[A\u001B[A\u001B[A\n",
      "\n",
      "chain 1 |\u001B[33m▉         \u001B[0m| 00:05 Iteration:    1 / 2000 [  0%]  (Warmup)\u001B[A\u001B[A\n",
      "\n",
      "\n",
      "chain 4 |\u001B[33m▉         \u001B[0m| 00:06 Iteration:    1 / 2000 [  0%]  (Warmup)\u001B[A\u001B[A\u001B[A\n",
      "chain 2 |\u001B[33m▉         \u001B[0m| 00:07 Iteration:    1 / 2000 [  0%]  (Warmup)\u001B[A\n",
      "\n",
      "\n",
      "chain 4 |\u001B[33m█▎        \u001B[0m| 00:11 Iteration:  100 / 2000 [  5%]  (Warmup)\u001B[A\u001B[A\u001B[A\n",
      "chain 1 |\u001B[33m█▎        \u001B[0m| 00:15 Iteration:  100 / 2000 [  5%]  (Warmup)\u001B[A\n",
      "\n",
      "\n",
      "chain 4 |\u001B[33m█▊        \u001B[0m| 00:17 Iteration:  200 / 2000 [ 10%]  (Warmup)\u001B[A\u001B[A\u001B[A\n",
      "chain 2 |\u001B[33m█▊        \u001B[0m| 00:23 Iteration:  200 / 2000 [ 10%]  (Warmup)\u001B[A\n",
      "\n",
      "\n",
      "chain 1 |\u001B[33m█▊        \u001B[0m| 00:25 Iteration:  200 / 2000 [ 10%]  (Warmup)\u001B[A\u001B[A\u001B[A\n",
      "\n",
      "chain 3 |\u001B[33m█▎        \u001B[0m| 00:26 Iteration:  100 / 2000 [  5%]  (Warmup)\u001B[A\u001B[A\n",
      "\n",
      "\n",
      "chain 1 |\u001B[33m██▎       \u001B[0m| 00:32 Iteration:  300 / 2000 [ 15%]  (Warmup)\u001B[A\u001B[A\u001B[A\n",
      "\n",
      "\n",
      "chain 4 |\u001B[33m███▏      \u001B[0m| 00:39 Iteration:  500 / 2000 [ 25%]  (Warmup)\u001B[A\u001B[A\u001B[A\n",
      "chain 1 |\u001B[33m██▋       \u001B[0m| 00:44 Iteration:  400 / 2000 [ 20%]  (Warmup)\u001B[A\n",
      "\n",
      "chain 1 |\u001B[33m███▏      \u001B[0m| 00:51 Iteration:  500 / 2000 [ 25%]  (Warmup)\u001B[A\u001B[A\n",
      "\n",
      "\n",
      "chain 1 |\u001B[33m███▋      \u001B[0m| 00:58 Iteration:  600 / 2000 [ 30%]  (Warmup)\u001B[A\u001B[A\u001B[A\n",
      "\n",
      "\n",
      "chain 4 |\u001B[33m████      \u001B[0m| 01:05 Iteration:  700 / 2000 [ 35%]  (Warmup)\u001B[A\u001B[A\u001B[A\n",
      "chain 1 |\u001B[33m████      \u001B[0m| 01:09 Iteration:  700 / 2000 [ 35%]  (Warmup)\u001B[A\n",
      "\n",
      "chain 1 |\u001B[33m████▌     \u001B[0m| 01:16 Iteration:  800 / 2000 [ 40%]  (Warmup)\u001B[A\u001B[A\n",
      "\n",
      "chain 3 |\u001B[33m██▋       \u001B[0m| 01:21 Iteration:  400 / 2000 [ 20%]  (Warmup)\u001B[A\u001B[A\n",
      "chain 1 |\u001B[33m█████     \u001B[0m| 01:22 Iteration:  900 / 2000 [ 45%]  (Warmup)\u001B[A\n",
      "\n",
      "chain 1 |\u001B[34m█████▉    \u001B[0m| 01:29 Iteration: 1001 / 2000 [ 50%]  (Sampling)A\u001B[A\n",
      "\n",
      "\n",
      "chain 4 |\u001B[33m████▌     \u001B[0m| 01:29 Iteration:  800 / 2000 [ 40%]  (Warmup)\u001B[A\u001B[A\u001B[A\n",
      "\n",
      "chain 3 |\u001B[33m███▋      \u001B[0m| 01:33 Iteration:  600 / 2000 [ 30%]  (Warmup)\u001B[A\u001B[A\n",
      "chain 1 |\u001B[34m██████▎   \u001B[0m| 01:35 Iteration: 1100 / 2000 [ 55%]  (Sampling)A\n",
      "\n",
      "chain 1 |\u001B[34m██████▊   \u001B[0m| 01:42 Iteration: 1200 / 2000 [ 60%]  (Sampling)A\u001B[A\n",
      "\n",
      "chain 3 |\u001B[33m████▌     \u001B[0m| 01:47 Iteration:  800 / 2000 [ 40%]  (Warmup)\u001B[A\u001B[A\n",
      "chain 1 |\u001B[34m███████▎  \u001B[0m| 01:49 Iteration: 1300 / 2000 [ 65%]  (Sampling)A\n",
      "\n",
      "chain 3 |\u001B[33m█████     \u001B[0m| 01:53 Iteration:  900 / 2000 [ 45%]  (Warmup)\u001B[A\u001B[A\n",
      "chain 2 |\u001B[33m████▌     \u001B[0m| 01:54 Iteration:  800 / 2000 [ 40%]  (Warmup)\u001B[A\n",
      "\n",
      "\n",
      "chain 4 |\u001B[33m█████     \u001B[0m| 01:55 Iteration:  900 / 2000 [ 45%]  (Warmup)\u001B[A\u001B[A\u001B[A\n",
      "\n",
      "\n",
      "chain 1 |\u001B[34m███████▋  \u001B[0m| 01:56 Iteration: 1400 / 2000 [ 70%]  (Sampling)A\u001B[A\u001B[A\n",
      "\n",
      "chain 3 |\u001B[34m█████▉    \u001B[0m| 02:00 Iteration: 1001 / 2000 [ 50%]  (Sampling)\u001B[A\u001B[A\n",
      "chain 1 |\u001B[34m████████▏ \u001B[0m| 02:03 Iteration: 1500 / 2000 [ 75%]  (Sampling)A\n",
      "\n",
      "chain 3 |\u001B[34m██████▎   \u001B[0m| 02:07 Iteration: 1100 / 2000 [ 55%]  (Sampling)\u001B[A\u001B[A\n",
      "chain 1 |\u001B[34m████████▋ \u001B[0m| 02:10 Iteration: 1600 / 2000 [ 80%]  (Sampling)\u001B[A\n",
      "\n",
      "chain 3 |\u001B[34m██████▊   \u001B[0m| 02:13 Iteration: 1200 / 2000 [ 60%]  (Sampling)\u001B[A\u001B[A\n",
      "chain 1 |\u001B[34m█████████ \u001B[0m| 02:17 Iteration: 1700 / 2000 [ 85%]  (Sampling)\u001B[A\n",
      "\n",
      "chain 3 |\u001B[34m███████▎  \u001B[0m| 02:20 Iteration: 1300 / 2000 [ 65%]  (Sampling)\u001B[A\u001B[A\n",
      "chain 2 |\u001B[34m██████▊   \u001B[0m| 02:20 Iteration: 1200 / 2000 [ 60%]  (Sampling)\u001B[A\n",
      "\n",
      "\n",
      "chain 1 |\u001B[34m█████████▌\u001B[0m| 02:23 Iteration: 1800 / 2000 [ 90%]  (Sampling)\u001B[A\u001B[A\u001B[A\n",
      "\n",
      "chain 3 |\u001B[34m███████▋  \u001B[0m| 02:26 Iteration: 1400 / 2000 [ 70%]  (Sampling)\u001B[A\u001B[A\n",
      "chain 1 |\u001B[34m██████████\u001B[0m| 02:30 Iteration: 1900 / 2000 [ 95%]  (Sampling)\u001B[A\n",
      "\n",
      "chain 3 |\u001B[34m████████▏ \u001B[0m| 02:32 Iteration: 1500 / 2000 [ 75%]  (Sampling)\u001B[A\u001B[A\n",
      "chain 2 |\u001B[34m███████▋  \u001B[0m| 02:33 Iteration: 1400 / 2000 [ 70%]  (Sampling)\u001B[A\n",
      "\n",
      "chain 3 |\u001B[34m████████▋ \u001B[0m| 02:37 Iteration: 1600 / 2000 [ 80%]  (Sampling)\u001B[A\u001B[A\n",
      "chain 2 |\u001B[34m████████▏ \u001B[0m| 02:38 Iteration: 1500 / 2000 [ 75%]  (Sampling)\u001B[A\n",
      "\n",
      "chain 3 |\u001B[34m█████████ \u001B[0m| 02:40 Iteration: 1700 / 2000 [ 85%]  (Sampling)\u001B[A\u001B[A\n",
      "chain 2 |\u001B[34m████████▋ \u001B[0m| 02:44 Iteration: 1600 / 2000 [ 80%]  (Sampling)\u001B[A\n",
      "\n",
      "chain 3 |\u001B[34m█████████▌\u001B[0m| 02:44 Iteration: 1800 / 2000 [ 90%]  (Sampling)\u001B[A\u001B[A\n",
      "\n",
      "\n",
      "chain 4 |\u001B[34m██████▎   \u001B[0m| 02:46 Iteration: 1100 / 2000 [ 55%]  (Sampling)\u001B[A\u001B[A\u001B[A\n",
      "\n",
      "chain 3 |\u001B[34m██████████\u001B[0m| 02:48 Iteration: 1900 / 2000 [ 95%]  (Sampling)\u001B[A\u001B[A\n",
      "chain 2 |\u001B[34m█████████ \u001B[0m| 02:49 Iteration: 1700 / 2000 [ 85%]  (Sampling)\u001B[A\n",
      "chain 2 |\u001B[34m█████████▌\u001B[0m| 02:53 Iteration: 1800 / 2000 [ 90%]  (Sampling)\u001B[A\n",
      "chain 2 |\u001B[34m██████████\u001B[0m| 02:56 Iteration: 1900 / 2000 [ 95%]  (Sampling)\u001B[A\n",
      "\n",
      "\n",
      "chain 4 |\u001B[34m██████▊   \u001B[0m| 03:01 Iteration: 1200 / 2000 [ 60%]  (Sampling)\u001B[A\u001B[A\u001B[A\n",
      "\n",
      "\n",
      "chain 4 |\u001B[34m███████▎  \u001B[0m| 03:14 Iteration: 1300 / 2000 [ 65%]  (Sampling)\u001B[A\u001B[A\u001B[A\n",
      "\n",
      "\n",
      "chain 4 |\u001B[34m███████▋  \u001B[0m| 03:28 Iteration: 1400 / 2000 [ 70%]  (Sampling)\u001B[A\u001B[A\u001B[A\n",
      "\n",
      "\n",
      "chain 4 |\u001B[34m████████▏ \u001B[0m| 03:41 Iteration: 1500 / 2000 [ 75%]  (Sampling)\u001B[A\u001B[A\u001B[A\n",
      "\n",
      "\n",
      "chain 4 |\u001B[34m████████▋ \u001B[0m| 03:54 Iteration: 1600 / 2000 [ 80%]  (Sampling)\u001B[A\u001B[A\u001B[A\n",
      "\n",
      "\n",
      "chain 4 |\u001B[34m█████████ \u001B[0m| 04:08 Iteration: 1700 / 2000 [ 85%]  (Sampling)\u001B[A\u001B[A\u001B[A\n",
      "\n",
      "\n",
      "chain 4 |\u001B[34m█████████▌\u001B[0m| 04:21 Iteration: 1800 / 2000 [ 90%]  (Sampling)\u001B[A\u001B[A\u001B[A\n",
      "\n",
      "\n",
      "chain 1 |\u001B[34m██████████\u001B[0m| 04:35 Sampling completed                       \u001B[A\u001B[A\u001B[A\n",
      "chain 2 |\u001B[34m██████████\u001B[0m| 04:35 Sampling completed                       \n",
      "chain 3 |\u001B[34m██████████\u001B[0m| 04:35 Sampling completed                       \n",
      "chain 4 |\u001B[34m██████████\u001B[0m| 04:35 Sampling completed                       "
     ]
    },
    {
     "name": "stdout",
     "output_type": "stream",
     "text": [
      "                                                                                                                                                                                                                                                                                                                                "
     ]
    },
    {
     "name": "stderr",
     "output_type": "stream",
     "text": [
      "\n",
      "INFO:cmdstanpy:CmdStan done processing.\n"
     ]
    },
    {
     "name": "stdout",
     "output_type": "stream",
     "text": [
      "\n"
     ]
    }
   ],
   "source": [
    "fit_lap = model_lap.sample(data=data_for_inference,seed=seed,adapt_delta=0.99,max_treedepth=12)"
   ],
   "metadata": {
    "collapsed": false,
    "pycharm": {
     "name": "#%%\n"
    }
   }
  },
  {
   "cell_type": "code",
   "execution_count": 71,
   "outputs": [
    {
     "name": "stdout",
     "output_type": "stream",
     "text": [
      "Processing csv files: /tmp/tmpi6dtn17k/model3-20220403125646_1.csv, /tmp/tmpi6dtn17k/model3-20220403125646_2.csv, /tmp/tmpi6dtn17k/model3-20220403125646_3.csv, /tmp/tmpi6dtn17k/model3-20220403125646_4.csv\n",
      "\n",
      "Checking sampler transitions treedepth.\n",
      "1000 of 4000 (25.00%) transitions hit the maximum treedepth limit of 12, or 2^12 leapfrog steps.\n",
      "Trajectories that are prematurely terminated due to this limit will result in slow exploration.\n",
      "For optimal performance, increase this limit.\n",
      "\n",
      "Checking sampler transitions for divergences.\n",
      "No divergent transitions found.\n",
      "\n",
      "Checking E-BFMI - sampler transitions HMC potential energy.\n",
      "The E-BFMI, 0.02, is below the nominal threshold of 0.30 which suggests that HMC may have trouble exploring the target distribution.\n",
      "If possible, try to reparameterize the model.\n",
      "\n",
      "Effective sample size satisfactory.\n",
      "\n",
      "The following parameters had split R-hat greater than 1.05:\n",
      "  sigma\n",
      "Such high values indicate incomplete mixing and biased estimation.\n",
      "You should consider regularizating your model with additional prior information or a more effective parameterization.\n",
      "\n",
      "Processing complete.\n",
      "\n"
     ]
    }
   ],
   "source": [
    "print(fit_lap.diagnose())"
   ],
   "metadata": {
    "collapsed": false,
    "pycharm": {
     "name": "#%%\n"
    }
   }
  },
  {
   "cell_type": "code",
   "execution_count": 72,
   "outputs": [
    {
     "data": {
      "text/plain": "<Figure size 504x288 with 1 Axes>",
      "image/png": "[encoded data removed]"
     },
     "metadata": {
      "needs_background": "light"
     },
     "output_type": "display_data"
    }
   ],
   "source": [
    "fit_beta = fit_lap.stan_variable('beta')\n",
    "x_list = [i for i in range (len(fit_beta))]\n",
    "max_height = []\n",
    "min_height = []\n",
    "\n",
    "five_quantile = []\n",
    "twofive_quantile = []\n",
    "fifty_quantile = []\n",
    "sevenFive_quantile = []\n",
    "nineFive_qantile = []\n",
    "for vector in fit_beta:\n",
    "    five_quantile.append(np.percentile(vector,5))\n",
    "    twofive_quantile.append(np.percentile(vector,25))\n",
    "    fifty_quantile.append(np.percentile(vector,50))\n",
    "    sevenFive_quantile.append(np.percentile(vector,75))\n",
    "    nineFive_qantile.append(np.percentile(vector,95))\n",
    "    max_height.append(np.max(vector))\n",
    "    min_height.append(np.min(vector))\n",
    "\n",
    "fig, axes = plt.subplots(1,1,figsize=(7,4))\n",
    "plt.scatter(x_list, max_height, color = 'm')\n",
    "plt.scatter(x_list, min_height, color = 'k')\n",
    "plt.scatter(x_list, five_quantile, color = 'r')\n",
    "plt.scatter(x_list, twofive_quantile, color = 'g')\n",
    "plt.scatter(x_list, fifty_quantile,  color = 'y')\n",
    "plt.scatter(x_list, sevenFive_quantile, color = 'b')\n",
    "plt.scatter(x_list, nineFive_qantile,  color = 'c')\n",
    "plt.legend(['max','min','5%','25%','50%','75%','95%'])\n",
    "plt.grid()"
   ],
   "metadata": {
    "collapsed": false,
    "pycharm": {
     "name": "#%%\n"
    }
   }
  },
  {
   "cell_type": "code",
   "execution_count": 73,
   "outputs": [
    {
     "data": {
      "text/plain": "<Figure size 504x288 with 1 Axes>",
      "image/png": "[encoded data removed]"
     },
     "metadata": {
      "needs_background": "light"
     },
     "output_type": "display_data"
    }
   ],
   "source": [
    "result = fit_beta - beta_s\n",
    "max_height = []\n",
    "min_height = []\n",
    "\n",
    "five_quantile = []\n",
    "twofive_quantile = []\n",
    "fifty_quantile = []\n",
    "sevenFive_quantile = []\n",
    "nineFive_qantile = []\n",
    "for vector in result:\n",
    "    five_quantile.append(np.percentile(vector,5))\n",
    "    twofive_quantile.append(np.percentile(vector,25))\n",
    "    fifty_quantile.append(np.percentile(vector,50))\n",
    "    sevenFive_quantile.append(np.percentile(vector,75))\n",
    "    nineFive_qantile.append(np.percentile(vector,95))\n",
    "    max_height.append(np.max(vector))\n",
    "    min_height.append(np.min(vector))\n",
    "\n",
    "fig, axes = plt.subplots(1,1,figsize=(7,4))\n",
    "plt.scatter(x_list, max_height, color = 'm')\n",
    "plt.scatter(x_list, min_height, color = 'k')\n",
    "plt.scatter(x_list, five_quantile, color = 'r')\n",
    "plt.scatter(x_list, twofive_quantile, color = 'g')\n",
    "plt.scatter(x_list, fifty_quantile,  color = 'y')\n",
    "plt.scatter(x_list, sevenFive_quantile, color = 'b')\n",
    "plt.scatter(x_list, nineFive_qantile,  color = 'c')\n",
    "plt.legend(['max','min','5%','25%','50%','75%','95%'])\n",
    "plt.grid()"
   ],
   "metadata": {
    "collapsed": false,
    "pycharm": {
     "name": "#%%\n"
    }
   }
  }
 ],
 "metadata": {
  "kernelspec": {
   "display_name": "Python 3",
   "language": "python",
   "name": "python3"
  },
  "language_info": {
   "codemirror_mode": {
    "name": "ipython",
    "version": 2
   },
   "file_extension": ".py",
   "mimetype": "text/x-python",
   "name": "python",
   "nbconvert_exporter": "python",
   "pygments_lexer": "ipython2",
   "version": "2.7.6"
  }
 },
 "nbformat": 4,
 "nbformat_minor": 0
}