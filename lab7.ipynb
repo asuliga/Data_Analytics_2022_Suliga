{
 "cells": [
  {
   "cell_type": "code",
   "execution_count": 45,
   "outputs": [],
   "source": [
    "from cmdstanpy import CmdStanModel\n",
    "import arviz as az\n",
    "import numpy as np"
   ],
   "metadata": {
    "collapsed": false,
    "pycharm": {
     "name": "#%%\n"
    }
   }
  },
  {
   "cell_type": "code",
   "execution_count": 6,
   "outputs": [],
   "source": [
    "#F - number of letters in first name L - number of letters in last name N = (L+F)*100\n",
    "F = 5\n",
    "L = 6\n",
    "N = (L+F)*100"
   ],
   "metadata": {
    "collapsed": false,
    "pycharm": {
     "name": "#%%\n"
    }
   }
  },
  {
   "cell_type": "code",
   "execution_count": 7,
   "outputs": [],
   "source": [
    "data=dict(N=N)"
   ],
   "metadata": {
    "collapsed": false,
    "pycharm": {
     "name": "#%%\n"
    }
   }
  },
  {
   "cell_type": "code",
   "execution_count": 8,
   "outputs": [
    {
     "name": "stderr",
     "output_type": "stream",
     "text": [
      "INFO:cmdstanpy:found newer exe file, not recompiling\n"
     ]
    }
   ],
   "source": [
    "data_generator_code1 = CmdStanModel(stan_file = 'code_1.stan')"
   ],
   "metadata": {
    "collapsed": false,
    "pycharm": {
     "name": "#%%\n"
    }
   }
  },
  {
   "cell_type": "code",
   "execution_count": 15,
   "outputs": [
    {
     "name": "stderr",
     "output_type": "stream",
     "text": [
      "INFO:cmdstanpy:CmdStan start processing\n",
      "chain 1 |\u001B[33m          \u001B[0m| 00:00 Status\n",
      "chain 2 |\u001B[33m          \u001B[0m| 00:00 Status\u001B[A\n",
      "\n",
      "chain 3 |\u001B[33m          \u001B[0m| 00:00 Status\u001B[A\u001B[A\n",
      "\n",
      "\n",
      "chain 4 |\u001B[33m          \u001B[0m| 00:00 Status\u001B[A\u001B[A\u001B[A\n",
      "\n",
      "chain 3 |\u001B[34m▍         \u001B[0m| 00:00 Status\u001B[A\u001B[A\n",
      "\n",
      "\n",
      "chain 4 |\u001B[34m▉         \u001B[0m| 00:00 Iteration:   1 / 1000 [  0%]  (Sampling)\u001B[A\u001B[A\u001B[A\n",
      "chain 1 |\u001B[34m▉         \u001B[0m| 00:00 Iteration:   1 / 1000 [  0%]  (Sampling)\u001B[A\n",
      "\n",
      "chain 3 |\u001B[34m▉         \u001B[0m| 00:00 Iteration:   1 / 1000 [  0%]  (Sampling)\u001B[A\u001B[A\n",
      "chain 2 |\u001B[34m█▎        \u001B[0m| 00:00 Iteration: 100 / 1000 [ 10%]  (Sampling)\u001B[A\n",
      "\n",
      "\n",
      "chain 1 |\u001B[34m█▎        \u001B[0m| 00:00 Iteration: 100 / 1000 [ 10%]  (Sampling)\u001B[A\u001B[A\u001B[A\n",
      "chain 2 |\u001B[34m█▊        \u001B[0m| 00:00 Iteration: 200 / 1000 [ 20%]  (Sampling)\u001B[A\n",
      "\n",
      "chain 3 |\u001B[34m█▎        \u001B[0m| 00:00 Iteration: 100 / 1000 [ 10%]  (Sampling)\u001B[A\u001B[A\n",
      "\n",
      "\n",
      "chain 4 |\u001B[34m██▎       \u001B[0m| 00:00 Iteration: 300 / 1000 [ 30%]  (Sampling)\u001B[A\u001B[A\u001B[A\n",
      "chain 1 |\u001B[34m█▊        \u001B[0m| 00:00 Iteration: 200 / 1000 [ 20%]  (Sampling)\u001B[A\n",
      "chain 2 |\u001B[34m██▋       \u001B[0m| 00:00 Iteration: 400 / 1000 [ 40%]  (Sampling)\u001B[A\n",
      "\n",
      "chain 3 |\u001B[34m█▊        \u001B[0m| 00:00 Iteration: 200 / 1000 [ 20%]  (Sampling)\u001B[A\u001B[A\n",
      "\n",
      "\n",
      "chain 4 |\u001B[34m██▋       \u001B[0m| 00:00 Iteration: 400 / 1000 [ 40%]  (Sampling)\u001B[A\u001B[A\u001B[A\n",
      "chain 2 |\u001B[34m███▏      \u001B[0m| 00:01 Iteration: 500 / 1000 [ 50%]  (Sampling)\u001B[A\n",
      "\n",
      "\n",
      "chain 1 |\u001B[34m██▎       \u001B[0m| 00:01 Iteration: 300 / 1000 [ 30%]  (Sampling)\u001B[A\u001B[A\u001B[A\n",
      "chain 2 |\u001B[34m███▋      \u001B[0m| 00:01 Iteration: 600 / 1000 [ 60%]  (Sampling)\u001B[A\n",
      "\n",
      "\n",
      "chain 4 |\u001B[34m███▋      \u001B[0m| 00:01 Iteration: 600 / 1000 [ 60%]  (Sampling)\u001B[A\u001B[A\u001B[A\n",
      "\n",
      "chain 3 |\u001B[34m██▎       \u001B[0m| 00:01 Iteration: 300 / 1000 [ 30%]  (Sampling)\u001B[A\u001B[A\n",
      "\n",
      "\n",
      "chain 4 |\u001B[34m████      \u001B[0m| 00:01 Iteration: 700 / 1000 [ 70%]  (Sampling)\u001B[A\u001B[A\u001B[A\n",
      "chain 1 |\u001B[34m██▋       \u001B[0m| 00:01 Iteration: 400 / 1000 [ 40%]  (Sampling)\u001B[A\n",
      "\n",
      "chain 3 |\u001B[34m██▋       \u001B[0m| 00:01 Iteration: 400 / 1000 [ 40%]  (Sampling)\u001B[A\u001B[A\n",
      "\n",
      "\n",
      "chain 4 |\u001B[34m████▌     \u001B[0m| 00:01 Iteration: 800 / 1000 [ 80%]  (Sampling)\u001B[A\u001B[A\u001B[A\n",
      "chain 2 |\u001B[34m████▌     \u001B[0m| 00:01 Iteration: 800 / 1000 [ 80%]  (Sampling)\u001B[A\n",
      "\n",
      "\n",
      "chain 1 |\u001B[34m███▏      \u001B[0m| 00:01 Iteration: 500 / 1000 [ 50%]  (Sampling)\u001B[A\u001B[A\u001B[A\n",
      "chain 2 |\u001B[34m█████     \u001B[0m| 00:01 Iteration: 900 / 1000 [ 90%]  (Sampling)\u001B[A\n",
      "\n",
      "chain 1 |\u001B[34m███▋      \u001B[0m| 00:01 Iteration: 600 / 1000 [ 60%]  (Sampling)\u001B[A\u001B[A\n",
      "\n",
      "chain 1 |\u001B[34m████      \u001B[0m| 00:01 Iteration: 700 / 1000 [ 70%]  (Sampling)\u001B[A\u001B[A\n",
      "\n",
      "chain 1 |\u001B[34m████▌     \u001B[0m| 00:02 Iteration: 800 / 1000 [ 80%]  (Sampling)\u001B[A\u001B[A\n",
      "\n",
      "chain 1 |\u001B[34m██████████\u001B[0m| 00:02 Sampling completed                      \u001B[A\u001B[A\n",
      "\n",
      "chain 2 |\u001B[34m██████████\u001B[0m| 00:02 Sampling completed                      \u001B[A\n",
      "chain 3 |\u001B[34m██████████\u001B[0m| 00:02 Sampling completed                      \n",
      "\n",
      "\n",
      "\n",
      "chain 4 |\u001B[34m██████████\u001B[0m| 00:02 Sampling completed                      \u001B[A\u001B[A\u001B[A"
     ]
    },
    {
     "name": "stdout",
     "output_type": "stream",
     "text": [
      "                                                                                                                                                                                                                                                                                                                                "
     ]
    },
    {
     "name": "stderr",
     "output_type": "stream",
     "text": [
      "\n",
      "INFO:cmdstanpy:CmdStan done processing.\n"
     ]
    },
    {
     "name": "stdout",
     "output_type": "stream",
     "text": [
      "\n"
     ]
    }
   ],
   "source": [
    "result_code1 = data_generator_code1.sample(data=data)"
   ],
   "metadata": {
    "collapsed": false,
    "pycharm": {
     "name": "#%%\n"
    }
   }
  },
  {
   "cell_type": "code",
   "execution_count": 16,
   "outputs": [
    {
     "name": "stderr",
     "output_type": "stream",
     "text": [
      "INFO:cmdstanpy:found newer exe file, not recompiling\n"
     ]
    }
   ],
   "source": [
    "data_generator_code2 = CmdStanModel(stan_file = 'code_2.stan')"
   ],
   "metadata": {
    "collapsed": false,
    "pycharm": {
     "name": "#%%\n"
    }
   }
  },
  {
   "cell_type": "code",
   "execution_count": 17,
   "outputs": [
    {
     "name": "stderr",
     "output_type": "stream",
     "text": [
      "INFO:cmdstanpy:CmdStan start processing\n",
      "chain 1 |\u001B[33m          \u001B[0m| 00:00 Status\n",
      "chain 2 |\u001B[33m          \u001B[0m| 00:00 Status\u001B[A\n",
      "\n",
      "chain 3 |\u001B[33m          \u001B[0m| 00:00 Status\u001B[A\u001B[A\n",
      "\n",
      "\n",
      "chain 1 |\u001B[34m▉         \u001B[0m| 00:00 Iteration:   1 / 1000 [  0%]  (Sampling)\n",
      "\n",
      "chain 3 |\u001B[34m▉         \u001B[0m| 00:00 Iteration:   1 / 1000 [  0%]  (Sampling)\u001B[A\u001B[A\n",
      "chain 2 |\u001B[34m▉         \u001B[0m| 00:00 Iteration:   1 / 1000 [  0%]  (Sampling)\u001B[A\n",
      "\n",
      "\n",
      "chain 1 |\u001B[34m█▎        \u001B[0m| 00:01 Iteration: 100 / 1000 [ 10%]  (Sampling)\u001B[A\u001B[A\u001B[A\n",
      "\n",
      "chain 3 |\u001B[34m█▎        \u001B[0m| 00:01 Iteration: 100 / 1000 [ 10%]  (Sampling)\u001B[A\u001B[A\n",
      "\n",
      "chain 1 |\u001B[34m█▊        \u001B[0m| 00:01 Iteration: 200 / 1000 [ 20%]  (Sampling)\u001B[A\u001B[A\n",
      "chain 2 |\u001B[34m█▎        \u001B[0m| 00:01 Iteration: 100 / 1000 [ 10%]  (Sampling)\u001B[A\n",
      "\n",
      "\n",
      "chain 1 |\u001B[34m██▎       \u001B[0m| 00:02 Iteration: 300 / 1000 [ 30%]  (Sampling)\u001B[A\u001B[A\u001B[A\n",
      "\n",
      "chain 3 |\u001B[34m██▎       \u001B[0m| 00:02 Iteration: 300 / 1000 [ 30%]  (Sampling)\u001B[A\u001B[A\n",
      "chain 2 |\u001B[34m█▊        \u001B[0m| 00:02 Iteration: 200 / 1000 [ 20%]  (Sampling)\u001B[A\n",
      "\n",
      "\n",
      "chain 4 |\u001B[34m█▊        \u001B[0m| 00:02 Iteration: 200 / 1000 [ 20%]  (Sampling)\u001B[A\u001B[A\u001B[A\n",
      "\n",
      "chain 1 |\u001B[34m██▋       \u001B[0m| 00:03 Iteration: 400 / 1000 [ 40%]  (Sampling)\u001B[A\u001B[A\n",
      "\n",
      "chain 3 |\u001B[34m███▏      \u001B[0m| 00:03 Iteration: 500 / 1000 [ 50%]  (Sampling)\u001B[A\u001B[A\n",
      "chain 2 |\u001B[34m██▎       \u001B[0m| 00:03 Iteration: 300 / 1000 [ 30%]  (Sampling)\u001B[A\n",
      "\n",
      "\n",
      "chain 4 |\u001B[34m██▎       \u001B[0m| 00:03 Iteration: 300 / 1000 [ 30%]  (Sampling)\u001B[A\u001B[A\u001B[A\n",
      "\n",
      "chain 1 |\u001B[34m███▏      \u001B[0m| 00:03 Iteration: 500 / 1000 [ 50%]  (Sampling)\u001B[A\u001B[A\n",
      "\n",
      "\n",
      "chain 4 |\u001B[34m██▋       \u001B[0m| 00:03 Iteration: 400 / 1000 [ 40%]  (Sampling)\u001B[A\u001B[A\u001B[A\n",
      "chain 2 |\u001B[34m██▋       \u001B[0m| 00:04 Iteration: 400 / 1000 [ 40%]  (Sampling)\u001B[A\n",
      "\n",
      "chain 1 |\u001B[34m███▋      \u001B[0m| 00:04 Iteration: 600 / 1000 [ 60%]  (Sampling)\u001B[A\u001B[A\n",
      "\n",
      "\n",
      "chain 4 |\u001B[34m███▏      \u001B[0m| 00:04 Iteration: 500 / 1000 [ 50%]  (Sampling)\u001B[A\u001B[A\u001B[A\n",
      "chain 1 |\u001B[34m████      \u001B[0m| 00:04 Iteration: 700 / 1000 [ 70%]  (Sampling)\u001B[A\n",
      "\n",
      "chain 3 |\u001B[34m████▌     \u001B[0m| 00:04 Iteration: 800 / 1000 [ 80%]  (Sampling)\u001B[A\u001B[A\n",
      "\n",
      "\n",
      "chain 1 |\u001B[34m████▌     \u001B[0m| 00:05 Iteration: 800 / 1000 [ 80%]  (Sampling)\u001B[A\u001B[A\u001B[A\n",
      "chain 2 |\u001B[34m███▋      \u001B[0m| 00:05 Iteration: 600 / 1000 [ 60%]  (Sampling)\u001B[A\n",
      "\n",
      "\n",
      "chain 1 |\u001B[34m█████     \u001B[0m| 00:05 Iteration: 900 / 1000 [ 90%]  (Sampling)\u001B[A\u001B[A\u001B[A\n",
      "\n",
      "chain 3 |\u001B[34m█████     \u001B[0m| 00:05 Iteration: 900 / 1000 [ 90%]  (Sampling)\u001B[A\u001B[A\n",
      "chain 2 |\u001B[34m████      \u001B[0m| 00:05 Iteration: 700 / 1000 [ 70%]  (Sampling)\u001B[A\n",
      "\n",
      "\n",
      "chain 4 |\u001B[34m████▌     \u001B[0m| 00:06 Iteration: 800 / 1000 [ 80%]  (Sampling)\u001B[A\u001B[A\u001B[A\n",
      "chain 2 |\u001B[34m████▌     \u001B[0m| 00:06 Iteration: 800 / 1000 [ 80%]  (Sampling)\u001B[A\n",
      "\n",
      "\n",
      "chain 4 |\u001B[34m█████     \u001B[0m| 00:06 Iteration: 900 / 1000 [ 90%]  (Sampling)\u001B[A\u001B[A\u001B[A\n",
      "chain 1 |\u001B[34m██████████\u001B[0m| 00:06 Sampling completed                      \u001B[A\n",
      "chain 2 |\u001B[34m██████████\u001B[0m| 00:06 Sampling completed                      \n",
      "\n",
      "\n",
      "chain 3 |\u001B[34m██████████\u001B[0m| 00:06 Sampling completed                      \u001B[A\u001B[A\n",
      "\n",
      "\n",
      "\n",
      "chain 4 |\u001B[34m██████████\u001B[0m| 00:06 Sampling completed                      \u001B[A\u001B[A\u001B[A"
     ]
    },
    {
     "name": "stdout",
     "output_type": "stream",
     "text": [
      "                                                                                                                                                                                                                                                                                                                                "
     ]
    },
    {
     "name": "stderr",
     "output_type": "stream",
     "text": [
      "\n",
      "INFO:cmdstanpy:CmdStan done processing.\n"
     ]
    },
    {
     "name": "stdout",
     "output_type": "stream",
     "text": [
      "\n"
     ]
    }
   ],
   "source": [
    "result_code2 = data_generator_code2.sample(data=data)"
   ],
   "metadata": {
    "collapsed": false,
    "pycharm": {
     "name": "#%%\n"
    }
   }
  },
  {
   "cell_type": "code",
   "execution_count": 77,
   "outputs": [
    {
     "name": "stdout",
     "output_type": "stream",
     "text": [
      "1100\n"
     ]
    }
   ],
   "source": [
    "X_matrix = result_code2.stan_variable('X')[0]\n",
    "print(len(X_matrix))"
   ],
   "metadata": {
    "collapsed": false,
    "pycharm": {
     "name": "#%%\n"
    }
   }
  },
  {
   "cell_type": "code",
   "execution_count": 20,
   "outputs": [
    {
     "name": "stdout",
     "output_type": "stream",
     "text": [
      "      lp__  accept_stat__  theta       y[1]      y[2]      y[3]      y[4]  \\\n",
      "0      0.0            0.0   0.01  -1.782750  1.979680  0.561230  0.495072   \n",
      "1      0.0            0.0   0.01 -10.056100 -1.769530 -2.160840 -0.510765   \n",
      "2      0.0            0.0   0.01   1.899310 -2.042250 -1.015540 -1.401440   \n",
      "3      0.0            0.0   0.01  -2.570830 -0.499384  0.958350 -1.024800   \n",
      "4      0.0            0.0   0.01   0.835030 -0.350989  0.597255  1.145320   \n",
      "...    ...            ...    ...        ...       ...       ...       ...   \n",
      "3995   0.0            0.0   0.01  -0.374658 -2.328870 -0.487261 -1.988530   \n",
      "3996   0.0            0.0   0.01   0.744234 -0.076082  0.826341  0.798837   \n",
      "3997   0.0            0.0   0.01   0.771509 -0.775138 -0.725111  0.344680   \n",
      "3998   0.0            0.0   0.01  -1.903100 -0.706071  0.214512 -0.676375   \n",
      "3999   0.0            0.0   0.01   0.094132 -1.593480 -0.778401  1.601870   \n",
      "\n",
      "          y[5]      y[6]      y[7]  ...   y[1091]   y[1092]   y[1093]  \\\n",
      "0     0.833583  0.361329 -0.247450  ...  0.223768 -0.793457 -0.602213   \n",
      "1     0.125946  0.297615  0.109755  ... -0.019874  0.788025 -1.181990   \n",
      "2    -0.476869  0.679717  1.576920  ...  0.454163 -0.372449  0.972894   \n",
      "3    -0.217425  0.198762 -1.049300  ... -0.316645  1.414450  1.317670   \n",
      "4    -0.300002  0.232733  0.618395  ...  0.013558 -0.616190  0.597739   \n",
      "...        ...       ...       ...  ...       ...       ...       ...   \n",
      "3995 -0.176854 -2.244830 -0.221282  ...  0.072406  0.464701  0.729019   \n",
      "3996  0.991979 -2.777340 -0.116695  ... -0.313257  0.156860  1.278740   \n",
      "3997  0.925616 -0.116506  0.453671  ... -2.210230 -1.505520 -0.322791   \n",
      "3998 -0.082173 -0.513377  0.840388  ...  0.129706 -0.451666  0.226623   \n",
      "3999  1.269520  1.219520 -0.060735  ...  0.307929 -0.621288 -1.638050   \n",
      "\n",
      "       y[1094]   y[1095]   y[1096]   y[1097]   y[1098]   y[1099]   y[1100]  \n",
      "0     0.065444 -0.161623 -0.953803 -1.916420  0.776497 -0.193220  0.781199  \n",
      "1     1.450360  0.476170  2.439350  0.051469 -0.917658  0.316603  0.621113  \n",
      "2    -0.930027  0.108521 -0.491870  0.455722  0.657001 -0.980328  0.369401  \n",
      "3    -0.061052 -1.079870 -0.558910 -0.888746  2.587040 -0.640767 -1.108250  \n",
      "4     0.107848 -1.795330  0.992970 -0.182115 -1.112590 -0.515076 -1.318430  \n",
      "...        ...       ...       ...       ...       ...       ...       ...  \n",
      "3995 -0.031961 -0.914269 -0.877159  0.510824  1.030530 -1.397890 -0.663988  \n",
      "3996 -0.448308 -0.200151 -0.816051  0.669833 -0.383773 -0.724161  2.536330  \n",
      "3997  0.554228 -0.838012 -0.157081  1.021440 -0.597830 -1.314570 -1.540100  \n",
      "3998 -1.091830  1.905750 -0.664150 -1.112250  0.822177 -0.018768  0.507799  \n",
      "3999 -0.678276  1.055670 -1.444550 -0.659095  0.987966  0.039163 -1.282390  \n",
      "\n",
      "[4000 rows x 1103 columns]\n"
     ]
    }
   ],
   "source": [
    "x_code1=result_code1.draws_pd()\n",
    "print(x_code1)"
   ],
   "metadata": {
    "collapsed": false,
    "pycharm": {
     "name": "#%%\n"
    }
   }
  },
  {
   "cell_type": "code",
   "execution_count": 25,
   "outputs": [
    {
     "name": "stdout",
     "output_type": "stream",
     "text": [
      "y[1]       0.120486\n",
      "y[2]       0.100612\n",
      "y[3]       0.115663\n",
      "y[4]       0.097870\n",
      "y[5]       0.075085\n",
      "             ...   \n",
      "y[1096]    0.113345\n",
      "y[1097]    0.100436\n",
      "y[1098]    0.099557\n",
      "y[1099]    0.054621\n",
      "y[1100]    0.124008\n",
      "Length: 1100, dtype: float64\n"
     ]
    }
   ],
   "source": [
    "y_code1=x_code1.iloc[:,3:]\n",
    "y_mean_code1=y_code1.mean()\n",
    "print(y_mean_code1)"
   ],
   "metadata": {
    "collapsed": false,
    "pycharm": {
     "name": "#%%\n"
    }
   }
  },
  {
   "cell_type": "code",
   "execution_count": 31,
   "outputs": [
    {
     "name": "stdout",
     "output_type": "stream",
     "text": [
      "      lp__  accept_stat__    X[1,1]    X[2,1]    X[3,1]    X[4,1]    X[5,1]  \\\n",
      "0      0.0            0.0 -1.850280 -0.318081 -1.246870 -0.294496 -0.495250   \n",
      "1      0.0            0.0 -0.989212 -0.714618  0.507873 -0.129637  1.623660   \n",
      "2      0.0            0.0  0.972074 -2.083110 -1.475280  0.135226  0.834730   \n",
      "3      0.0            0.0  0.065313 -0.527437  2.011630  0.339374 -1.227790   \n",
      "4      0.0            0.0 -0.327398  0.226516  0.755429 -0.023097  0.448057   \n",
      "...    ...            ...       ...       ...       ...       ...       ...   \n",
      "3995   0.0            0.0 -1.041460  1.950730  0.343806 -0.611856  0.334699   \n",
      "3996   0.0            0.0  0.468388 -1.859850  0.674529  0.233805  1.162450   \n",
      "3997   0.0            0.0 -1.058720  0.779476  0.206549  0.225360  0.146348   \n",
      "3998   0.0            0.0  2.083460 -1.081720 -0.329557 -1.528970 -1.019960   \n",
      "3999   0.0            0.0 -0.636073 -2.216110 -0.386981  0.496602 -0.346372   \n",
      "\n",
      "        X[6,1]    X[7,1]    X[8,1]  ...   y[1091]   y[1092]   y[1093]  \\\n",
      "0    -0.737720  0.415189  0.125481  ... -0.223352 -1.037970  2.486100   \n",
      "1     1.240300 -0.491173  0.720390  ... -0.939170  0.357918  0.819566   \n",
      "2     0.242680 -0.024480 -1.123200  ... -1.001530  0.375639  4.443260   \n",
      "3    -1.291140 -0.578640 -0.783552  ...  2.500850 -5.335620 -0.934668   \n",
      "4     0.423022 -0.552593  0.206214  ...  1.223290 -0.195141  1.315030   \n",
      "...        ...       ...       ...  ...       ...       ...       ...   \n",
      "3995  0.270808 -1.242710 -0.484873  ... -0.313975  2.805230 -2.288470   \n",
      "3996  1.026580 -0.164537  1.319750  ... -1.478470 -2.678710  1.938620   \n",
      "3997 -0.347610 -0.224647  0.029497  ...  3.460900 -1.201050  2.295160   \n",
      "3998  2.194160  0.400909  0.441010  ... -1.268950  1.324710  2.091210   \n",
      "3999 -0.950777  0.266072  0.088943  ... -4.136090 -4.993190  0.903778   \n",
      "\n",
      "       y[1094]   y[1095]   y[1096]   y[1097]   y[1098]   y[1099]   y[1100]  \n",
      "0    -3.237320 -1.045260 -0.708120  0.203667 -2.520640 -2.158930  4.329990  \n",
      "1    -2.165590  6.387230 -0.126946 -0.945269 -0.939744  3.339710  3.900190  \n",
      "2    -2.926510  2.291260 -0.419168 -0.718294 -0.420511  0.461541  0.252222  \n",
      "3     0.526818  1.468800 -2.868810  1.785960  3.434940 -1.704050  1.076780  \n",
      "4     2.390900 -1.745590 -0.418520  0.445853 -3.510120  3.123370  2.006100  \n",
      "...        ...       ...       ...       ...       ...       ...       ...  \n",
      "3995  2.930930 -2.043800 -1.201370 -1.601080 -2.114180  5.472740  0.403627  \n",
      "3996 -1.267370 -3.993490 -4.537430  1.158500  1.688030  0.409733  2.584280  \n",
      "3997 -0.455343 -3.762120  0.962722  5.716230 -1.250430  1.285150 -0.947756  \n",
      "3998 -1.875990  0.601386 -5.310390  2.293460  1.465560  3.490140 -0.652331  \n",
      "3999  1.678210  1.805700 -0.427552 -1.846400  3.691580 -2.839960  1.779610  \n",
      "\n",
      "[4000 rows x 4405 columns]\n"
     ]
    }
   ],
   "source": [
    "x_code2=result_code2.draws_pd()\n",
    "print(x_code2[:,:3])"
   ],
   "metadata": {
    "collapsed": false,
    "pycharm": {
     "name": "#%%\n"
    }
   }
  },
  {
   "cell_type": "code",
   "execution_count": 35,
   "outputs": [
    {
     "name": "stdout",
     "output_type": "stream",
     "text": [
      "          y[1]      y[2]      y[3]      y[4]      y[5]      y[6]      y[7]  \\\n",
      "0    -5.447360 -0.381318 -2.853540 -3.127850 -3.023500 -0.311763  1.548020   \n",
      "1    -2.899980 -0.711527  3.396700  0.487139  3.992880  1.754030  0.024005   \n",
      "2     4.949630 -2.965710 -5.097120  1.406930 -2.767630  1.358230 -0.684265   \n",
      "3     2.234150 -1.389110  3.868190  1.511130 -2.614970 -0.345437 -0.958365   \n",
      "4    -3.329690  3.250530  1.781160  0.213454  0.993367 -1.156350  0.385571   \n",
      "...        ...       ...       ...       ...       ...       ...       ...   \n",
      "3995 -2.338660  3.318010  2.532930  0.454822  0.534679  1.252190 -1.308770   \n",
      "3996  0.058132 -5.950720  0.696447  1.014020  3.801720  1.983990 -1.638920   \n",
      "3997 -1.639010  3.142860  0.899919  1.135060 -1.537630 -0.638299  1.707090   \n",
      "3998  2.770570 -2.976400 -3.373030 -5.283970 -0.253920  6.113130  1.103330   \n",
      "3999  0.007063 -3.537730 -0.110572  0.883746 -0.430481 -1.212840  0.636016   \n",
      "\n",
      "          y[8]      y[9]     y[10]  ...   y[1091]   y[1092]   y[1093]  \\\n",
      "0    -0.571979 -6.442160 -0.299764  ... -0.223352 -1.037970  2.486100   \n",
      "1     0.840870 -3.162710 -2.316610  ... -0.939170  0.357918  0.819566   \n",
      "2    -0.011419 -0.055135 -3.332640  ... -1.001530  0.375639  4.443260   \n",
      "3     1.167940 -0.631440 -4.122750  ...  2.500850 -5.335620 -0.934668   \n",
      "4     0.147652  1.671230  3.687350  ...  1.223290 -0.195141  1.315030   \n",
      "...        ...       ...       ...  ...       ...       ...       ...   \n",
      "3995 -2.765300 -0.516918  0.197623  ... -0.313975  2.805230 -2.288470   \n",
      "3996  4.150500 -3.549430 -0.196582  ... -1.478470 -2.678710  1.938620   \n",
      "3997  1.348240 -1.803220  2.900900  ...  3.460900 -1.201050  2.295160   \n",
      "3998  2.411430  2.867220 -1.292500  ... -1.268950  1.324710  2.091210   \n",
      "3999 -0.116356 -2.732180 -2.677790  ... -4.136090 -4.993190  0.903778   \n",
      "\n",
      "       y[1094]   y[1095]   y[1096]   y[1097]   y[1098]   y[1099]   y[1100]  \n",
      "0    -3.237320 -1.045260 -0.708120  0.203667 -2.520640 -2.158930  4.329990  \n",
      "1    -2.165590  6.387230 -0.126946 -0.945269 -0.939744  3.339710  3.900190  \n",
      "2    -2.926510  2.291260 -0.419168 -0.718294 -0.420511  0.461541  0.252222  \n",
      "3     0.526818  1.468800 -2.868810  1.785960  3.434940 -1.704050  1.076780  \n",
      "4     2.390900 -1.745590 -0.418520  0.445853 -3.510120  3.123370  2.006100  \n",
      "...        ...       ...       ...       ...       ...       ...       ...  \n",
      "3995  2.930930 -2.043800 -1.201370 -1.601080 -2.114180  5.472740  0.403627  \n",
      "3996 -1.267370 -3.993490 -4.537430  1.158500  1.688030  0.409733  2.584280  \n",
      "3997 -0.455343 -3.762120  0.962722  5.716230 -1.250430  1.285150 -0.947756  \n",
      "3998 -1.875990  0.601386 -5.310390  2.293460  1.465560  3.490140 -0.652331  \n",
      "3999  1.678210  1.805700 -0.427552 -1.846400  3.691580 -2.839960  1.779610  \n",
      "\n",
      "[4000 rows x 1100 columns]\n"
     ]
    }
   ],
   "source": [
    "y_code2=x_code2.iloc[:,-1100:]\n",
    "print(x_code2.iloc[:,-1100:])"
   ],
   "metadata": {
    "collapsed": false,
    "pycharm": {
     "name": "#%%\n"
    }
   }
  },
  {
   "cell_type": "code",
   "execution_count": 36,
   "outputs": [],
   "source": [
    "y_mean_code2=y_code2.mean(axis=0)"
   ],
   "metadata": {
    "collapsed": false,
    "pycharm": {
     "name": "#%%\n"
    }
   }
  },
  {
   "cell_type": "code",
   "execution_count": 37,
   "outputs": [
    {
     "name": "stdout",
     "output_type": "stream",
     "text": [
      "y[1]      -0.038368\n",
      "y[2]      -0.010072\n",
      "y[3]       0.030604\n",
      "y[4]       0.011647\n",
      "y[5]      -0.017388\n",
      "             ...   \n",
      "y[1096]    0.006318\n",
      "y[1097]    0.062285\n",
      "y[1098]    0.049706\n",
      "y[1099]    0.020721\n",
      "y[1100]    0.000182\n",
      "Length: 1100, dtype: float64\n"
     ]
    }
   ],
   "source": [
    "print(y_mean_code2)"
   ],
   "metadata": {
    "collapsed": false,
    "pycharm": {
     "name": "#%%\n"
    }
   }
  },
  {
   "cell_type": "markdown",
   "source": [
    "Excercise 2 - compare normal and student models for data from first file"
   ],
   "metadata": {
    "collapsed": false,
    "pycharm": {
     "name": "#%% md\n"
    }
   }
  },
  {
   "cell_type": "code",
   "execution_count": 42,
   "outputs": [
    {
     "name": "stderr",
     "output_type": "stream",
     "text": [
      "INFO:cmdstanpy:found newer exe file, not recompiling\n",
      "INFO:cmdstanpy:CmdStan start processing\n",
      "chain 1 |\u001B[33m          \u001B[0m| 00:00 Status\n",
      "chain 2 |\u001B[33m          \u001B[0m| 00:00 Status\u001B[A\n",
      "\n",
      "chain 3 |\u001B[33m          \u001B[0m| 00:00 Status\u001B[A\u001B[A\n",
      "\n",
      "\n",
      "chain 1 |\u001B[33m█▎        \u001B[0m| 00:00 Iteration:  100 / 2000 [  5%]  (Warmup)\n",
      "chain 2 |\u001B[33m█▊        \u001B[0m| 00:00 Iteration:  200 / 2000 [ 10%]  (Warmup)\u001B[A\n",
      "\n",
      "\n",
      "chain 4 |\u001B[33m████▌     \u001B[0m| 00:00 Iteration:  800 / 2000 [ 40%]  (Warmup)\u001B[A\u001B[A\u001B[A\n",
      "\n",
      "chain 3 |\u001B[33m█▎        \u001B[0m| 00:00 Iteration:  100 / 2000 [  5%]  (Warmup)\u001B[A\u001B[A\n",
      "\n",
      "chain 1 |\u001B[33m████      \u001B[0m| 00:00 Iteration:  700 / 2000 [ 35%]  (Warmup)\u001B[A\u001B[A\n",
      "chain 2 |\u001B[33m████▌     \u001B[0m| 00:00 Iteration:  800 / 2000 [ 40%]  (Warmup)\u001B[A\n",
      "\n",
      "chain 3 |\u001B[34m█████▉    \u001B[0m| 00:00 Iteration: 1001 / 2000 [ 50%]  (Sampling)\u001B[A\u001B[A\n",
      "chain 1 |\u001B[34m██████▎   \u001B[0m| 00:01 Iteration: 1100 / 2000 [ 55%]  (Sampling)\u001B[A\n",
      "chain 2 |\u001B[34m████████▏ \u001B[0m| 00:01 Iteration: 1500 / 2000 [ 75%]  (Sampling)\u001B[A\n",
      "\n",
      "chain 1 |\u001B[34m███████▋  \u001B[0m| 00:01 Iteration: 1400 / 2000 [ 70%]  (Sampling)\u001B[A\u001B[A\n",
      "chain 2 |\u001B[34m█████████ \u001B[0m| 00:02 Iteration: 1700 / 2000 [ 85%]  (Sampling)\u001B[A\n",
      "\n",
      "chain 3 |\u001B[34m████████▏ \u001B[0m| 00:02 Iteration: 1500 / 2000 [ 75%]  (Sampling)\u001B[A\u001B[A\n",
      "chain 1 |\u001B[34m████████▋ \u001B[0m| 00:02 Iteration: 1600 / 2000 [ 80%]  (Sampling)\u001B[A\n",
      "\n",
      "\n",
      "chain 4 |\u001B[34m█████████ \u001B[0m| 00:02 Iteration: 1700 / 2000 [ 85%]  (Sampling)\u001B[A\u001B[A\u001B[A\n",
      "\n",
      "chain 1 |\u001B[34m█████████▌\u001B[0m| 00:02 Iteration: 1800 / 2000 [ 90%]  (Sampling)\u001B[A\u001B[A\n",
      "\n",
      "chain 1 |\u001B[34m██████████\u001B[0m| 00:03 Iteration: 1900 / 2000 [ 95%]  (Sampling)\u001B[A\u001B[A\n",
      "\n",
      "chain 1 |\u001B[34m██████████\u001B[0m| 00:03 Sampling completed                       \u001B[A\u001B[A\n",
      "chain 2 |\u001B[34m██████████\u001B[0m| 00:03 Sampling completed                       \n",
      "chain 3 |\u001B[34m██████████\u001B[0m| 00:03 Sampling completed                       \n",
      "chain 4 |\u001B[34m██████████\u001B[0m| 00:03 Sampling completed                       "
     ]
    },
    {
     "name": "stdout",
     "output_type": "stream",
     "text": [
      "                                                                                                                                                                                                                                                                                                                                "
     ]
    },
    {
     "name": "stderr",
     "output_type": "stream",
     "text": [
      "\n",
      "INFO:cmdstanpy:CmdStan done processing.\n"
     ]
    },
    {
     "name": "stdout",
     "output_type": "stream",
     "text": [
      "\n"
     ]
    },
    {
     "name": "stderr",
     "output_type": "stream",
     "text": [
      "INFO:cmdstanpy:CmdStan start processing\n",
      "chain 1 |\u001B[33m          \u001B[0m| 00:00 Status\n",
      "chain 2 |\u001B[33m          \u001B[0m| 00:00 Status\u001B[A\n",
      "\n",
      "chain 3 |\u001B[33m          \u001B[0m| 00:00 Status\u001B[A\u001B[A\n",
      "\n",
      "\n",
      "chain 1 |\u001B[33m████▌     \u001B[0m| 00:00 Iteration:  800 / 2000 [ 40%]  (Warmup)\n",
      "chain 2 |\u001B[33m█▊        \u001B[0m| 00:00 Iteration:  200 / 2000 [ 10%]  (Warmup)\u001B[A\n",
      "\n",
      "\n",
      "chain 4 |\u001B[33m█▎        \u001B[0m| 00:00 Iteration:  100 / 2000 [  5%]  (Warmup)\u001B[A\u001B[A\u001B[A\n",
      "\n",
      "chain 3 |\u001B[33m█▊        \u001B[0m| 00:00 Iteration:  200 / 2000 [ 10%]  (Warmup)\u001B[A\u001B[A\n",
      "\n",
      "\n",
      "chain 4 |\u001B[33m█████     \u001B[0m| 00:00 Iteration:  900 / 2000 [ 45%]  (Warmup)\u001B[A\u001B[A\u001B[A\n",
      "chain 2 |\u001B[34m█████▉    \u001B[0m| 00:00 Iteration: 1001 / 2000 [ 50%]  (Sampling)\u001B[A\n",
      "\n",
      "chain 3 |\u001B[34m█████▉    \u001B[0m| 00:00 Iteration: 1001 / 2000 [ 50%]  (Sampling)\u001B[A\u001B[A\n",
      "\n",
      "\n",
      "chain 4 |\u001B[34m███████▋  \u001B[0m| 00:01 Iteration: 1400 / 2000 [ 70%]  (Sampling)\u001B[A\u001B[A\u001B[A\n",
      "\n",
      "chain 3 |\u001B[34m███████▎  \u001B[0m| 00:01 Iteration: 1300 / 2000 [ 65%]  (Sampling)\u001B[A\u001B[A\n",
      "chain 2 |\u001B[34m███████▎  \u001B[0m| 00:01 Iteration: 1300 / 2000 [ 65%]  (Sampling)\u001B[A\n",
      "\n",
      "chain 3 |\u001B[34m████████▏ \u001B[0m| 00:01 Iteration: 1500 / 2000 [ 75%]  (Sampling)\u001B[A\u001B[A\n",
      "chain 1 |\u001B[34m█████████ \u001B[0m| 00:02 Iteration: 1700 / 2000 [ 85%]  (Sampling)\u001B[A\n",
      "\n",
      "chain 3 |\u001B[34m█████████ \u001B[0m| 00:02 Iteration: 1700 / 2000 [ 85%]  (Sampling)\u001B[A\u001B[A\n",
      "\n",
      "\n",
      "chain 4 |\u001B[34m█████████▌\u001B[0m| 00:02 Iteration: 1800 / 2000 [ 90%]  (Sampling)\u001B[A\u001B[A\u001B[A\n",
      "chain 2 |\u001B[34m█████████ \u001B[0m| 00:02 Iteration: 1700 / 2000 [ 85%]  (Sampling)\u001B[A\n",
      "chain 2 |\u001B[34m█████████▌\u001B[0m| 00:02 Iteration: 1800 / 2000 [ 90%]  (Sampling)\u001B[A\n",
      "\n",
      "chain 3 |\u001B[34m█████████▌\u001B[0m| 00:02 Iteration: 1800 / 2000 [ 90%]  (Sampling)\u001B[A\u001B[A\n",
      "\n",
      "chain 3 |\u001B[34m██████████\u001B[0m| 00:02 Iteration: 1900 / 2000 [ 95%]  (Sampling)\u001B[A\u001B[A\n",
      "chain 1 |\u001B[34m██████████\u001B[0m| 00:02 Sampling completed                       \u001B[A\n",
      "chain 2 |\u001B[34m██████████\u001B[0m| 00:02 Sampling completed                       \n",
      "chain 3 |\u001B[34m██████████\u001B[0m| 00:02 Sampling completed                       \n",
      "chain 4 |\u001B[34m██████████\u001B[0m| 00:02 Sampling completed                       "
     ]
    },
    {
     "name": "stdout",
     "output_type": "stream",
     "text": [
      "                                                                                                                                                                                                                                                                                                                                "
     ]
    },
    {
     "name": "stderr",
     "output_type": "stream",
     "text": [
      "\n",
      "INFO:cmdstanpy:CmdStan done processing.\n"
     ]
    },
    {
     "name": "stdout",
     "output_type": "stream",
     "text": [
      "\n"
     ]
    }
   ],
   "source": [
    "model_code3 = CmdStanModel(stan_file='code_3.stan')\n",
    "data_model3_v1 = dict(N=N,\n",
    "                 y=y_mean_code1)\n",
    "result_model3_v1 = model_code3.sample(data=data_model3_v1)\n",
    "\n",
    "data_model3_v2 = dict(N=N,\n",
    "                 y=y_mean_code2)\n",
    "result_model3_v2 = model_code3.sample(data=data_model3_v2)"
   ],
   "metadata": {
    "collapsed": false,
    "pycharm": {
     "name": "#%%\n"
    }
   }
  },
  {
   "cell_type": "code",
   "execution_count": 43,
   "outputs": [
    {
     "name": "stderr",
     "output_type": "stream",
     "text": [
      "INFO:cmdstanpy:found newer exe file, not recompiling\n",
      "INFO:cmdstanpy:CmdStan start processing\n",
      "chain 1 |\u001B[33m          \u001B[0m| 00:00 Status\n",
      "chain 2 |\u001B[33m          \u001B[0m| 00:00 Status\u001B[A\n",
      "\n",
      "chain 3 |\u001B[33m          \u001B[0m| 00:00 Status\u001B[A\u001B[A\n",
      "\n",
      "\n",
      "chain 4 |\u001B[33m          \u001B[0m| 00:00 Status\u001B[A\u001B[A\u001B[A\n",
      "chain 1 |\u001B[33m▉         \u001B[0m| 00:00 Iteration:    1 / 2000 [  0%]  (Warmup)\n",
      "\n",
      "chain 1 |\u001B[33m█▊        \u001B[0m| 00:00 Iteration:  200 / 2000 [ 10%]  (Warmup)\u001B[A\u001B[A\n",
      "\n",
      "chain 1 |\u001B[33m██▋       \u001B[0m| 00:00 Iteration:  400 / 2000 [ 20%]  (Warmup)\u001B[A\u001B[A\n",
      "\n",
      "chain 3 |\u001B[33m██▎       \u001B[0m| 00:00 Iteration:  300 / 2000 [ 15%]  (Warmup)\u001B[A\u001B[A\n",
      "\n",
      "chain 1 |\u001B[33m███▋      \u001B[0m| 00:00 Iteration:  600 / 2000 [ 30%]  (Warmup)\u001B[A\u001B[A\n",
      "\n",
      "chain 1 |\u001B[33m█████     \u001B[0m| 00:00 Iteration:  900 / 2000 [ 45%]  (Warmup)\u001B[A\u001B[A\n",
      "\n",
      "chain 3 |\u001B[33m█████     \u001B[0m| 00:00 Iteration:  900 / 2000 [ 45%]  (Warmup)\u001B[A\u001B[A\n",
      "\n",
      "\n",
      "chain 4 |\u001B[33m▉         \u001B[0m| 00:00 Iteration:    1 / 2000 [  0%]  (Warmup)\u001B[A\u001B[A\u001B[A\n",
      "\n",
      "chain 3 |\u001B[34m█████▉    \u001B[0m| 00:01 Iteration: 1001 / 2000 [ 50%]  (Sampling)\u001B[A\u001B[A\n",
      "chain 1 |\u001B[34m█████▉    \u001B[0m| 00:01 Iteration: 1001 / 2000 [ 50%]  (Sampling)A\n",
      "\n",
      "\n",
      "chain 4 |\u001B[33m█▎        \u001B[0m| 00:01 Iteration:  100 / 2000 [  5%]  (Warmup)\u001B[A\u001B[A\u001B[A\n",
      "\n",
      "\n",
      "chain 4 |\u001B[33m██▎       \u001B[0m| 00:01 Iteration:  300 / 2000 [ 15%]  (Warmup)\u001B[A\u001B[A\u001B[A\n",
      "chain 2 |\u001B[33m█▎        \u001B[0m| 00:01 Iteration:  100 / 2000 [  5%]  (Warmup)\u001B[A\n",
      "\n",
      "\n",
      "chain 4 |\u001B[33m███▏      \u001B[0m| 00:01 Iteration:  500 / 2000 [ 25%]  (Warmup)\u001B[A\u001B[A\u001B[A\n",
      "\n",
      "\n",
      "chain 4 |\u001B[33m████      \u001B[0m| 00:01 Iteration:  700 / 2000 [ 35%]  (Warmup)\u001B[A\u001B[A\u001B[A\n",
      "chain 2 |\u001B[33m██▎       \u001B[0m| 00:01 Iteration:  300 / 2000 [ 15%]  (Warmup)\u001B[A\n",
      "\n",
      "\n",
      "chain 4 |\u001B[33m█████     \u001B[0m| 00:01 Iteration:  900 / 2000 [ 45%]  (Warmup)\u001B[A\u001B[A\u001B[A\n",
      "chain 2 |\u001B[33m███▏      \u001B[0m| 00:01 Iteration:  500 / 2000 [ 25%]  (Warmup)\u001B[A\n",
      "chain 2 |\u001B[33m████▌     \u001B[0m| 00:01 Iteration:  800 / 2000 [ 40%]  (Warmup)\u001B[A\n",
      "\n",
      "chain 1 |\u001B[34m██████▊   \u001B[0m| 00:02 Iteration: 1200 / 2000 [ 60%]  (Sampling)\u001B[A\u001B[A\n",
      "\n",
      "\n",
      "chain 4 |\u001B[34m█████▉    \u001B[0m| 00:02 Iteration: 1001 / 2000 [ 50%]  (Sampling)\u001B[A\u001B[A\u001B[A\n",
      "chain 1 |\u001B[34m███████▎  \u001B[0m| 00:02 Iteration: 1300 / 2000 [ 65%]  (Sampling)\u001B[A\n",
      "\n",
      "chain 1 |\u001B[34m███████▋  \u001B[0m| 00:02 Iteration: 1400 / 2000 [ 70%]  (Sampling)\u001B[A\u001B[A\n",
      "chain 2 |\u001B[34m██████▊   \u001B[0m| 00:02 Iteration: 1200 / 2000 [ 60%]  (Sampling)\u001B[A\n",
      "\n",
      "chain 3 |\u001B[34m████████▏ \u001B[0m| 00:02 Iteration: 1500 / 2000 [ 75%]  (Sampling)\u001B[A\u001B[A\n",
      "\n",
      "\n",
      "chain 1 |\u001B[34m████████▏ \u001B[0m| 00:02 Iteration: 1500 / 2000 [ 75%]  (Sampling)\u001B[A\u001B[A\u001B[A\n",
      "\n",
      "chain 1 |\u001B[34m████████▋ \u001B[0m| 00:03 Iteration: 1600 / 2000 [ 80%]  (Sampling)\u001B[A\u001B[A\n",
      "\n",
      "\n",
      "chain 4 |\u001B[34m███████▎  \u001B[0m| 00:03 Iteration: 1300 / 2000 [ 65%]  (Sampling)\u001B[A\u001B[A\u001B[A\n",
      "chain 1 |\u001B[34m█████████ \u001B[0m| 00:03 Iteration: 1700 / 2000 [ 85%]  (Sampling)\u001B[A\n",
      "\n",
      "chain 1 |\u001B[34m█████████▌\u001B[0m| 00:03 Iteration: 1800 / 2000 [ 90%]  (Sampling)\u001B[A\u001B[A\n",
      "\n",
      "\n",
      "chain 4 |\u001B[34m███████▋  \u001B[0m| 00:03 Iteration: 1400 / 2000 [ 70%]  (Sampling)\u001B[A\u001B[A\u001B[A\n",
      "chain 2 |\u001B[34m███████▋  \u001B[0m| 00:03 Iteration: 1400 / 2000 [ 70%]  (Sampling)\u001B[A\n",
      "\n",
      "chain 1 |\u001B[34m██████████\u001B[0m| 00:04 Iteration: 1900 / 2000 [ 95%]  (Sampling)\u001B[A\u001B[A\n",
      "\n",
      "\n",
      "chain 4 |\u001B[34m████████▏ \u001B[0m| 00:04 Iteration: 1500 / 2000 [ 75%]  (Sampling)\u001B[A\u001B[A\u001B[A\n",
      "chain 2 |\u001B[34m████████▏ \u001B[0m| 00:04 Iteration: 1500 / 2000 [ 75%]  (Sampling)\u001B[A\n",
      "\n",
      "chain 3 |\u001B[34m██████████\u001B[0m| 00:04 Iteration: 1900 / 2000 [ 95%]  (Sampling)\u001B[A\u001B[A\n",
      "\n",
      "\n",
      "chain 4 |\u001B[34m████████▋ \u001B[0m| 00:04 Iteration: 1600 / 2000 [ 80%]  (Sampling)\u001B[A\u001B[A\u001B[A\n",
      "chain 2 |\u001B[34m████████▋ \u001B[0m| 00:04 Iteration: 1600 / 2000 [ 80%]  (Sampling)\u001B[A\n",
      "\n",
      "\n",
      "chain 4 |\u001B[34m█████████ \u001B[0m| 00:04 Iteration: 1700 / 2000 [ 85%]  (Sampling)\u001B[A\u001B[A\u001B[A\n",
      "chain 2 |\u001B[34m█████████ \u001B[0m| 00:04 Iteration: 1700 / 2000 [ 85%]  (Sampling)\u001B[A\n",
      "\n",
      "\n",
      "chain 4 |\u001B[34m█████████▌\u001B[0m| 00:05 Iteration: 1800 / 2000 [ 90%]  (Sampling)\u001B[A\u001B[A\u001B[A\n",
      "chain 2 |\u001B[34m█████████▌\u001B[0m| 00:05 Iteration: 1800 / 2000 [ 90%]  (Sampling)\u001B[A\n",
      "\n",
      "\n",
      "chain 4 |\u001B[34m██████████\u001B[0m| 00:05 Iteration: 1900 / 2000 [ 95%]  (Sampling)\u001B[A\u001B[A\u001B[A\n",
      "chain 1 |\u001B[34m██████████\u001B[0m| 00:05 Sampling completed                       \u001B[A\n",
      "chain 2 |\u001B[34m██████████\u001B[0m| 00:05 Sampling completed                       \n",
      "chain 3 |\u001B[34m██████████\u001B[0m| 00:05 Sampling completed                       \n",
      "chain 4 |\u001B[34m██████████\u001B[0m| 00:05 Sampling completed                       "
     ]
    },
    {
     "name": "stdout",
     "output_type": "stream",
     "text": [
      "                                                                                                                                                                                                                                                                                                                                "
     ]
    },
    {
     "name": "stderr",
     "output_type": "stream",
     "text": [
      "\n",
      "INFO:cmdstanpy:CmdStan done processing.\n"
     ]
    },
    {
     "name": "stdout",
     "output_type": "stream",
     "text": [
      "\n"
     ]
    },
    {
     "name": "stderr",
     "output_type": "stream",
     "text": [
      "INFO:cmdstanpy:CmdStan start processing\n",
      "chain 1 |\u001B[33m          \u001B[0m| 00:00 Status\n",
      "chain 2 |\u001B[33m          \u001B[0m| 00:00 Status\u001B[A\n",
      "\n",
      "chain 3 |\u001B[33m          \u001B[0m| 00:00 Status\u001B[A\u001B[A\n",
      "\n",
      "\n",
      "chain 4 |\u001B[33m          \u001B[0m| 00:00 Status\u001B[A\u001B[A\u001B[A\n",
      "chain 2 |\u001B[33m█▎        \u001B[0m| 00:00 Iteration:  100 / 2000 [  5%]  (Warmup)\u001B[A\n",
      "\n",
      "chain 3 |\u001B[33m▉         \u001B[0m| 00:00 Iteration:    1 / 2000 [  0%]  (Warmup)\u001B[A\u001B[A\n",
      "chain 2 |\u001B[33m██▋       \u001B[0m| 00:00 Iteration:  400 / 2000 [ 20%]  (Warmup)\u001B[A\n",
      "\n",
      "\n",
      "chain 4 |\u001B[33m▉         \u001B[0m| 00:00 Iteration:    1 / 2000 [  0%]  (Warmup)\u001B[A\u001B[A\u001B[A\n",
      "\n",
      "chain 3 |\u001B[33m█▎        \u001B[0m| 00:00 Iteration:  100 / 2000 [  5%]  (Warmup)\u001B[A\u001B[A\n",
      "chain 2 |\u001B[33m████      \u001B[0m| 00:00 Iteration:  700 / 2000 [ 35%]  (Warmup)\u001B[A\n",
      "\n",
      "\n",
      "chain 4 |\u001B[33m█▎        \u001B[0m| 00:00 Iteration:  100 / 2000 [  5%]  (Warmup)\u001B[A\u001B[A\u001B[A\n",
      "\n",
      "chain 3 |\u001B[33m█▊        \u001B[0m| 00:00 Iteration:  200 / 2000 [ 10%]  (Warmup)\u001B[A\u001B[A\n",
      "chain 2 |\u001B[34m█████▍    \u001B[0m| 00:00 Iteration: 1000 / 2000 [ 50%]  (Warmup)\u001B[A\n",
      "\n",
      "\n",
      "chain 4 |\u001B[33m██▎       \u001B[0m| 00:00 Iteration:  300 / 2000 [ 15%]  (Warmup)\u001B[A\u001B[A\u001B[A\n",
      "\n",
      "chain 3 |\u001B[33m██▋       \u001B[0m| 00:00 Iteration:  400 / 2000 [ 20%]  (Warmup)\u001B[A\u001B[A\n",
      "\n",
      "chain 3 |\u001B[33m████      \u001B[0m| 00:00 Iteration:  700 / 2000 [ 35%]  (Warmup)\u001B[A\u001B[A\n",
      "\n",
      "\n",
      "chain 1 |\u001B[33m▉         \u001B[0m| 00:00 Iteration:    1 / 2000 [  0%]  (Warmup)\u001B[A\u001B[A\u001B[A\n",
      "\n",
      "\n",
      "chain 1 |\u001B[33m██▋       \u001B[0m| 00:01 Iteration:  400 / 2000 [ 20%]  (Warmup)\u001B[A\u001B[A\u001B[A\n",
      "\n",
      "chain 1 |\u001B[33m████▌     \u001B[0m| 00:01 Iteration:  800 / 2000 [ 40%]  (Warmup)g)\u001B[A\u001B[A\n",
      "\n",
      "\n",
      "chain 1 |\u001B[34m█████▉    \u001B[0m| 00:01 Iteration: 1001 / 2000 [ 50%]  (Sampling)\u001B[A\u001B[A\u001B[A\n",
      "\n",
      "chain 3 |\u001B[34m██████▊   \u001B[0m| 00:01 Iteration: 1200 / 2000 [ 60%]  (Sampling)\u001B[A\u001B[A\n",
      "chain 2 |\u001B[34m██████▊   \u001B[0m| 00:01 Iteration: 1200 / 2000 [ 60%]  (Sampling)\u001B[A\n",
      "\n",
      "\n",
      "chain 1 |\u001B[34m██████▊   \u001B[0m| 00:02 Iteration: 1200 / 2000 [ 60%]  (Sampling)\u001B[A\u001B[A\u001B[A\n",
      "\n",
      "chain 3 |\u001B[34m███████▋  \u001B[0m| 00:02 Iteration: 1400 / 2000 [ 70%]  (Sampling)\u001B[A\u001B[A\n",
      "\n",
      "\n",
      "chain 1 |\u001B[34m███████▋  \u001B[0m| 00:03 Iteration: 1400 / 2000 [ 70%]  (Sampling)\u001B[A\u001B[A\u001B[A\n",
      "chain 2 |\u001B[34m███████▋  \u001B[0m| 00:03 Iteration: 1400 / 2000 [ 70%]  (Sampling)\u001B[A\n",
      "\n",
      "\n",
      "chain 1 |\u001B[34m████████▏ \u001B[0m| 00:03 Iteration: 1500 / 2000 [ 75%]  (Sampling)\u001B[A\u001B[A\u001B[A\n",
      "\n",
      "chain 3 |\u001B[34m████████▏ \u001B[0m| 00:03 Iteration: 1500 / 2000 [ 75%]  (Sampling)\u001B[A\u001B[A\n",
      "\n",
      "\n",
      "chain 4 |\u001B[34m████████▋ \u001B[0m| 00:03 Iteration: 1600 / 2000 [ 80%]  (Sampling)\u001B[A\u001B[A\u001B[A\n",
      "\n",
      "chain 1 |\u001B[34m████████▋ \u001B[0m| 00:03 Iteration: 1600 / 2000 [ 80%]  (Sampling)\u001B[A\u001B[A\n",
      "\n",
      "\n",
      "chain 4 |\u001B[34m█████████ \u001B[0m| 00:04 Iteration: 1700 / 2000 [ 85%]  (Sampling)\u001B[A\u001B[A\u001B[A\n",
      "\n",
      "chain 3 |\u001B[34m█████████ \u001B[0m| 00:04 Iteration: 1700 / 2000 [ 85%]  (Sampling)\u001B[A\u001B[A\n",
      "chain 1 |\u001B[34m█████████ \u001B[0m| 00:04 Iteration: 1700 / 2000 [ 85%]  (Sampling)\u001B[A\n",
      "\n",
      "chain 3 |\u001B[34m█████████▌\u001B[0m| 00:04 Iteration: 1800 / 2000 [ 90%]  (Sampling)\u001B[A\u001B[A\n",
      "\n",
      "\n",
      "chain 4 |\u001B[34m█████████▌\u001B[0m| 00:04 Iteration: 1800 / 2000 [ 90%]  (Sampling)\u001B[A\u001B[A\u001B[A\n",
      "chain 1 |\u001B[34m█████████▌\u001B[0m| 00:04 Iteration: 1800 / 2000 [ 90%]  (Sampling)\u001B[A\n",
      "\n",
      "chain 3 |\u001B[34m██████████\u001B[0m| 00:04 Iteration: 1900 / 2000 [ 95%]  (Sampling)\u001B[A\u001B[A\n",
      "\n",
      "\n",
      "chain 1 |\u001B[34m██████████\u001B[0m| 00:04 Iteration: 1900 / 2000 [ 95%]  (Sampling)\u001B[A\u001B[A\u001B[A\n",
      "chain 2 |\u001B[34m█████████▌\u001B[0m| 00:04 Iteration: 1800 / 2000 [ 90%]  (Sampling)\u001B[A\n",
      "chain 1 |\u001B[34m██████████\u001B[0m| 00:05 Sampling completed                       \u001B[A\n",
      "chain 2 |\u001B[34m██████████\u001B[0m| 00:05 Sampling completed                       \n",
      "chain 3 |\u001B[34m██████████\u001B[0m| 00:05 Sampling completed                       \n",
      "chain 4 |\u001B[34m██████████\u001B[0m| 00:05 Sampling completed                       "
     ]
    },
    {
     "name": "stdout",
     "output_type": "stream",
     "text": [
      "                                                                                                                                                                                                                                                                                                                                "
     ]
    },
    {
     "name": "stderr",
     "output_type": "stream",
     "text": [
      "\n",
      "INFO:cmdstanpy:CmdStan done processing.\n"
     ]
    },
    {
     "name": "stdout",
     "output_type": "stream",
     "text": [
      "\n"
     ]
    }
   ],
   "source": [
    "model_code4 = CmdStanModel(stan_file='code_4.stan')\n",
    "data_model4_v1 = dict(N=N,\n",
    "                 y=y_mean_code1)\n",
    "result_model4_v1 = model_code4.sample(data=data_model4_v1)\n",
    "\n",
    "data_model4_v2 = dict(N=N,\n",
    "                 y=y_mean_code2)\n",
    "result_model4_v2 = model_code4.sample(data=data_model4_v2)"
   ],
   "metadata": {
    "collapsed": false,
    "pycharm": {
     "name": "#%%\n"
    }
   }
  },
  {
   "cell_type": "markdown",
   "source": [
    "Compare model3"
   ],
   "metadata": {
    "collapsed": false,
    "pycharm": {
     "name": "#%% md\n"
    }
   }
  },
  {
   "cell_type": "code",
   "execution_count": 46,
   "outputs": [
    {
     "data": {
      "text/plain": "Computed from 4000 by 1100 log-likelihood matrix\n\n         Estimate       SE\nelpd_loo  2447.75    24.23\np_loo        1.97        -"
     },
     "execution_count": 46,
     "metadata": {},
     "output_type": "execute_result"
    }
   ],
   "source": [
    "az.loo(result_model3_v1)"
   ],
   "metadata": {
    "collapsed": false,
    "pycharm": {
     "name": "#%%\n"
    }
   }
  },
  {
   "cell_type": "code",
   "execution_count": 48,
   "outputs": [
    {
     "data": {
      "text/plain": "Computed from 4000 by 1100 log-likelihood matrix\n\n         Estimate       SE\nelpd_loo  1999.98    22.29\np_loo        1.96        -"
     },
     "execution_count": 48,
     "metadata": {},
     "output_type": "execute_result"
    }
   ],
   "source": [
    "az.loo(result_model3_v2)"
   ],
   "metadata": {
    "collapsed": false,
    "pycharm": {
     "name": "#%%\n"
    }
   }
  },
  {
   "cell_type": "code",
   "execution_count": 49,
   "outputs": [
    {
     "data": {
      "text/plain": "Computed from 4000 by 1100 log-likelihood matrix\n\n          Estimate       SE\nelpd_waic  2447.75    24.23\np_waic        1.97        -"
     },
     "execution_count": 49,
     "metadata": {},
     "output_type": "execute_result"
    }
   ],
   "source": [
    "az.waic(result_model3_v1)"
   ],
   "metadata": {
    "collapsed": false,
    "pycharm": {
     "name": "#%%\n"
    }
   }
  },
  {
   "cell_type": "code",
   "execution_count": 50,
   "outputs": [
    {
     "data": {
      "text/plain": "Computed from 4000 by 1100 log-likelihood matrix\n\n          Estimate       SE\nelpd_waic  1999.98    22.29\np_waic        1.96        -"
     },
     "execution_count": 50,
     "metadata": {},
     "output_type": "execute_result"
    }
   ],
   "source": [
    "az.waic(result_model3_v2)"
   ],
   "metadata": {
    "collapsed": false,
    "pycharm": {
     "name": "#%%\n"
    }
   }
  },
  {
   "cell_type": "markdown",
   "source": [
    "Compare model4"
   ],
   "metadata": {
    "collapsed": false,
    "pycharm": {
     "name": "#%% md\n"
    }
   }
  },
  {
   "cell_type": "code",
   "execution_count": 51,
   "outputs": [
    {
     "data": {
      "text/plain": "Computed from 4000 by 1100 log-likelihood matrix\n\n         Estimate       SE\nelpd_loo  2447.55    24.30\np_loo        2.21        -"
     },
     "execution_count": 51,
     "metadata": {},
     "output_type": "execute_result"
    }
   ],
   "source": [
    "az.loo(result_model4_v1)"
   ],
   "metadata": {
    "collapsed": false,
    "pycharm": {
     "name": "#%%\n"
    }
   }
  },
  {
   "cell_type": "code",
   "execution_count": 52,
   "outputs": [
    {
     "data": {
      "text/plain": "Computed from 4000 by 1100 log-likelihood matrix\n\n         Estimate       SE\nelpd_loo  1998.11    22.48\np_loo        1.95        -"
     },
     "execution_count": 52,
     "metadata": {},
     "output_type": "execute_result"
    }
   ],
   "source": [
    "az.loo(result_model4_v2)"
   ],
   "metadata": {
    "collapsed": false,
    "pycharm": {
     "name": "#%%\n"
    }
   }
  },
  {
   "cell_type": "code",
   "execution_count": 53,
   "outputs": [
    {
     "data": {
      "text/plain": "Computed from 4000 by 1100 log-likelihood matrix\n\n          Estimate       SE\nelpd_waic  2447.55    24.30\np_waic        2.21        -"
     },
     "execution_count": 53,
     "metadata": {},
     "output_type": "execute_result"
    }
   ],
   "source": [
    "az.waic(result_model4_v1)"
   ],
   "metadata": {
    "collapsed": false,
    "pycharm": {
     "name": "#%%\n"
    }
   }
  },
  {
   "cell_type": "code",
   "execution_count": 54,
   "outputs": [
    {
     "data": {
      "text/plain": "Computed from 4000 by 1100 log-likelihood matrix\n\n          Estimate       SE\nelpd_waic  1998.11    22.48\np_waic        1.95        -"
     },
     "execution_count": 54,
     "metadata": {},
     "output_type": "execute_result"
    }
   ],
   "source": [
    "az.waic(result_model4_v2)"
   ],
   "metadata": {
    "collapsed": false,
    "pycharm": {
     "name": "#%%\n"
    }
   }
  },
  {
   "cell_type": "markdown",
   "source": [
    "Compare"
   ],
   "metadata": {
    "collapsed": false,
    "pycharm": {
     "name": "#%% md\n"
    }
   }
  },
  {
   "cell_type": "code",
   "execution_count": 55,
   "outputs": [],
   "source": [
    "res_model3_v1=az.from_cmdstanpy(result_model3_v1)\n",
    "res_model3_v2=az.from_cmdstanpy(result_model3_v2)"
   ],
   "metadata": {
    "collapsed": false,
    "pycharm": {
     "name": "#%%\n"
    }
   }
  },
  {
   "cell_type": "code",
   "execution_count": 56,
   "outputs": [
    {
     "name": "stderr",
     "output_type": "stream",
     "text": [
      "/home/agata/PycharmProjects/test1/venv/lib/python3.9/site-packages/arviz/stats/stats.py:248: FutureWarning: The frame.append method is deprecated and will be removed from pandas in a future version. Use pandas.concat instead.\n",
      "  ics = ics.append([ic_func(dataset, pointwise=True, scale=scale, var_name=var_name)])\n"
     ]
    },
    {
     "name": "stdout",
     "output_type": "stream",
     "text": [
      "   rank          loo     p_loo       d_loo    weight         se        dse  \\\n",
      "1     0  2447.748473  1.965231    0.000000  0.944839  24.230126   0.000000   \n",
      "2     1  1999.984260  1.955569  447.764213  0.055161  22.292209  32.354415   \n",
      "\n",
      "   warning loo_scale  \n",
      "1    False       log  \n",
      "2    False       log  \n"
     ]
    },
    {
     "name": "stderr",
     "output_type": "stream",
     "text": [
      "/home/agata/PycharmProjects/test1/venv/lib/python3.9/site-packages/arviz/stats/stats.py:248: FutureWarning: The frame.append method is deprecated and will be removed from pandas in a future version. Use pandas.concat instead.\n",
      "  ics = ics.append([ic_func(dataset, pointwise=True, scale=scale, var_name=var_name)])\n"
     ]
    }
   ],
   "source": [
    "compare_model3=az.compare({\"1\":res_model3_v1,\"2\":res_model3_v2})\n",
    "print(compare_model3)"
   ],
   "metadata": {
    "collapsed": false,
    "pycharm": {
     "name": "#%%\n"
    }
   }
  },
  {
   "cell_type": "code",
   "execution_count": 59,
   "outputs": [
    {
     "data": {
      "text/plain": "<AxesSubplot:xlabel='Log'>"
     },
     "execution_count": 59,
     "metadata": {},
     "output_type": "execute_result"
    },
    {
     "data": {
      "text/plain": "<Figure size 432x144 with 1 Axes>",
      "image/png": "[encoded data removed]"
     },
     "metadata": {
      "needs_background": "light"
     },
     "output_type": "display_data"
    }
   ],
   "source": [
    "az.plot_compare(compare_model3)"
   ],
   "metadata": {
    "collapsed": false,
    "pycharm": {
     "name": "#%%\n"
    }
   }
  },
  {
   "cell_type": "code",
   "execution_count": 57,
   "outputs": [],
   "source": [
    "res_model4_v1=az.from_cmdstanpy(result_model4_v1)\n",
    "res_model4_v2=az.from_cmdstanpy(result_model4_v2)"
   ],
   "metadata": {
    "collapsed": false,
    "pycharm": {
     "name": "#%%\n"
    }
   }
  },
  {
   "cell_type": "code",
   "execution_count": 58,
   "outputs": [
    {
     "name": "stderr",
     "output_type": "stream",
     "text": [
      "/home/agata/PycharmProjects/test1/venv/lib/python3.9/site-packages/arviz/stats/stats.py:248: FutureWarning: The frame.append method is deprecated and will be removed from pandas in a future version. Use pandas.concat instead.\n",
      "  ics = ics.append([ic_func(dataset, pointwise=True, scale=scale, var_name=var_name)])\n"
     ]
    },
    {
     "name": "stdout",
     "output_type": "stream",
     "text": [
      "   rank          loo     p_loo       d_loo    weight         se        dse  \\\n",
      "1     0  2447.547640  2.208321    0.000000  0.940413  24.304691   0.000000   \n",
      "2     1  1998.109119  1.950256  449.438521  0.059587  22.478715  32.575757   \n",
      "\n",
      "   warning loo_scale  \n",
      "1    False       log  \n",
      "2    False       log  \n"
     ]
    },
    {
     "name": "stderr",
     "output_type": "stream",
     "text": [
      "/home/agata/PycharmProjects/test1/venv/lib/python3.9/site-packages/arviz/stats/stats.py:248: FutureWarning: The frame.append method is deprecated and will be removed from pandas in a future version. Use pandas.concat instead.\n",
      "  ics = ics.append([ic_func(dataset, pointwise=True, scale=scale, var_name=var_name)])\n"
     ]
    }
   ],
   "source": [
    "compare_model4=az.compare({\"1\":res_model4_v1,\"2\":res_model4_v2})\n",
    "print(compare_model4)"
   ],
   "metadata": {
    "collapsed": false,
    "pycharm": {
     "name": "#%%\n"
    }
   }
  },
  {
   "cell_type": "code",
   "execution_count": 60,
   "outputs": [
    {
     "data": {
      "text/plain": "<AxesSubplot:xlabel='Log'>"
     },
     "execution_count": 60,
     "metadata": {},
     "output_type": "execute_result"
    },
    {
     "data": {
      "text/plain": "<Figure size 432x144 with 1 Axes>",
      "image/png": "[encoded data removed]"
     },
     "metadata": {
      "needs_background": "light"
     },
     "output_type": "display_data"
    }
   ],
   "source": [
    "az.plot_compare(compare_model4)"
   ],
   "metadata": {
    "collapsed": false,
    "pycharm": {
     "name": "#%%\n"
    }
   }
  },
  {
   "cell_type": "markdown",
   "source": [
    "Excercise 3 - compare models with different numbers of predictors"
   ],
   "metadata": {
    "collapsed": false,
    "pycharm": {
     "name": "#%% md\n"
    }
   }
  },
  {
   "cell_type": "code",
   "execution_count": 61,
   "outputs": [
    {
     "name": "stderr",
     "output_type": "stream",
     "text": [
      "INFO:cmdstanpy:compiling stan file /home/agata/PycharmProjects/test1/lab7/code_5.stan to exe file /home/agata/PycharmProjects/test1/lab7/code_5\n",
      "INFO:cmdstanpy:compiled model executable: /home/agata/PycharmProjects/test1/lab7/code_5\n"
     ]
    }
   ],
   "source": [
    "model5=CmdStanModel(stan_file='code_5.stan')"
   ],
   "metadata": {
    "collapsed": false,
    "pycharm": {
     "name": "#%%\n"
    }
   }
  },
  {
   "cell_type": "markdown",
   "source": [
    "Predictor K=1"
   ],
   "metadata": {
    "collapsed": false,
    "pycharm": {
     "name": "#%% md\n"
    }
   }
  },
  {
   "cell_type": "code",
   "execution_count": 92,
   "outputs": [
    {
     "name": "stderr",
     "output_type": "stream",
     "text": [
      "INFO:cmdstanpy:CmdStan start processing\n",
      "chain 1 |\u001B[33m          \u001B[0m| 00:00 Status\n",
      "chain 2 |\u001B[33m          \u001B[0m| 00:00 Status\u001B[A\n",
      "\n",
      "chain 3 |\u001B[33m          \u001B[0m| 00:00 Status\u001B[A\u001B[A\n",
      "\n",
      "\n",
      "chain 4 |\u001B[33m          \u001B[0m| 00:00 Status\u001B[A\u001B[A\u001B[A\n",
      "chain 1 |\u001B[33m█▎        \u001B[0m| 00:00 Iteration:  100 / 2000 [  5%]  (Warmup)\u001B[A\n",
      "\n",
      "\n",
      "chain 4 |\u001B[33m█▎        \u001B[0m| 00:00 Iteration:  100 / 2000 [  5%]  (Warmup)\u001B[A\u001B[A\u001B[A\n",
      "\n",
      "chain 1 |\u001B[33m██▋       \u001B[0m| 00:00 Iteration:  400 / 2000 [ 20%]  (Warmup)\u001B[A\u001B[A\n",
      "\n",
      "\n",
      "chain 4 |\u001B[33m███▏      \u001B[0m| 00:00 Iteration:  500 / 2000 [ 25%]  (Warmup)\u001B[A\u001B[A\u001B[A\n",
      "chain 1 |\u001B[33m████      \u001B[0m| 00:00 Iteration:  700 / 2000 [ 35%]  (Warmup)\u001B[A\n",
      "\n",
      "chain 3 |\u001B[33m██▎       \u001B[0m| 00:00 Iteration:  300 / 2000 [ 15%]  (Warmup)\u001B[A\u001B[A\n",
      "chain 2 |\u001B[33m██▋       \u001B[0m| 00:00 Iteration:  400 / 2000 [ 20%]  (Warmup)\u001B[A\n",
      "\n",
      "chain 3 |\u001B[33m███▋      \u001B[0m| 00:00 Iteration:  600 / 2000 [ 30%]  (Warmup)\u001B[A\u001B[A\n",
      "chain 2 |\u001B[33m████      \u001B[0m| 00:00 Iteration:  700 / 2000 [ 35%]  (Warmup)\u001B[A\n",
      "\n",
      "\n",
      "chain 1 |\u001B[34m█████▉    \u001B[0m| 00:00 Iteration: 1001 / 2000 [ 50%]  (Sampling)\u001B[A\u001B[A\u001B[A\n",
      "\n",
      "chain 3 |\u001B[34m█████▉    \u001B[0m| 00:00 Iteration: 1001 / 2000 [ 50%]  (Sampling)\u001B[A\u001B[A\n",
      "chain 2 |\u001B[34m█████▉    \u001B[0m| 00:01 Iteration: 1001 / 2000 [ 50%]  (Sampling)\u001B[A\n",
      "\n",
      "\n",
      "chain 1 |\u001B[34m██████▊   \u001B[0m| 00:01 Iteration: 1200 / 2000 [ 60%]  (Sampling)\u001B[A\u001B[A\u001B[A\n",
      "\n",
      "chain 3 |\u001B[34m██████▊   \u001B[0m| 00:01 Iteration: 1200 / 2000 [ 60%]  (Sampling)\u001B[A\u001B[A\n",
      "chain 1 |\u001B[34m███████▋  \u001B[0m| 00:02 Iteration: 1400 / 2000 [ 70%]  (Sampling)\u001B[A\n",
      "\n",
      "\n",
      "chain 4 |\u001B[34m████████▏ \u001B[0m| 00:02 Iteration: 1500 / 2000 [ 75%]  (Sampling)\u001B[A\u001B[A\u001B[A\n",
      "\n",
      "chain 1 |\u001B[34m████████▏ \u001B[0m| 00:02 Iteration: 1500 / 2000 [ 75%]  (Sampling)\u001B[A\u001B[A\n",
      "chain 2 |\u001B[34m███████▋  \u001B[0m| 00:02 Iteration: 1400 / 2000 [ 70%]  (Sampling)\u001B[A\n",
      "\n",
      "chain 1 |\u001B[34m████████▋ \u001B[0m| 00:03 Iteration: 1600 / 2000 [ 80%]  (Sampling)\u001B[A\u001B[A\n",
      "chain 2 |\u001B[34m████████▏ \u001B[0m| 00:03 Iteration: 1500 / 2000 [ 75%]  (Sampling)\u001B[A\n",
      "\n",
      "chain 3 |\u001B[34m████████▋ \u001B[0m| 00:03 Iteration: 1600 / 2000 [ 80%]  (Sampling)\u001B[A\u001B[A\n",
      "\n",
      "\n",
      "chain 1 |\u001B[34m█████████ \u001B[0m| 00:03 Iteration: 1700 / 2000 [ 85%]  (Sampling)\u001B[A\u001B[A\u001B[A\n",
      "chain 2 |\u001B[34m████████▋ \u001B[0m| 00:03 Iteration: 1600 / 2000 [ 80%]  (Sampling)\u001B[A\n",
      "\n",
      "chain 1 |\u001B[34m█████████▌\u001B[0m| 00:03 Iteration: 1800 / 2000 [ 90%]  (Sampling)\u001B[A\u001B[A\n",
      "\n",
      "\n",
      "chain 4 |\u001B[34m█████████▌\u001B[0m| 00:03 Iteration: 1800 / 2000 [ 90%]  (Sampling)\u001B[A\u001B[A\u001B[A\n",
      "chain 2 |\u001B[34m█████████ \u001B[0m| 00:04 Iteration: 1700 / 2000 [ 85%]  (Sampling)\u001B[A\n",
      "\n",
      "chain 3 |\u001B[34m█████████▌\u001B[0m| 00:04 Iteration: 1800 / 2000 [ 90%]  (Sampling)\u001B[A\u001B[A\n",
      "\n",
      "\n",
      "chain 1 |\u001B[34m██████████\u001B[0m| 00:04 Iteration: 1900 / 2000 [ 95%]  (Sampling)\u001B[A\u001B[A\u001B[A\n",
      "chain 2 |\u001B[34m█████████▌\u001B[0m| 00:04 Iteration: 1800 / 2000 [ 90%]  (Sampling)\u001B[A\n",
      "\n",
      "chain 3 |\u001B[34m██████████\u001B[0m| 00:04 Iteration: 1900 / 2000 [ 95%]  (Sampling)\u001B[A\u001B[A\n",
      "chain 1 |\u001B[34m██████████\u001B[0m| 00:04 Sampling completed                       \u001B[A\n",
      "chain 2 |\u001B[34m██████████\u001B[0m| 00:04 Sampling completed                       \n",
      "chain 3 |\u001B[34m██████████\u001B[0m| 00:04 Sampling completed                       \n",
      "chain 4 |\u001B[34m██████████\u001B[0m| 00:04 Sampling completed                       "
     ]
    },
    {
     "name": "stdout",
     "output_type": "stream",
     "text": [
      "                                                                                                                                                                                                                                                                                                                                "
     ]
    },
    {
     "name": "stderr",
     "output_type": "stream",
     "text": [
      "\n",
      "INFO:cmdstanpy:CmdStan done processing.\n"
     ]
    },
    {
     "name": "stdout",
     "output_type": "stream",
     "text": [
      "\n"
     ]
    }
   ],
   "source": [
    "nxm=[]\n",
    "for i in X_matrix[:,0]:\n",
    "    nxm.append([i])\n",
    "\n",
    "data5_K1=dict(N=N,K=1,y=np.array(y_mean_code2),X=nxm)\n",
    "result_K1= model5.sample(data=data5_K1)"
   ],
   "metadata": {
    "collapsed": false,
    "pycharm": {
     "name": "#%%\n"
    }
   }
  },
  {
   "cell_type": "markdown",
   "source": [
    "Predictor K=2"
   ],
   "metadata": {
    "collapsed": false,
    "pycharm": {
     "name": "#%% md\n"
    }
   }
  },
  {
   "cell_type": "code",
   "execution_count": 89,
   "outputs": [
    {
     "name": "stderr",
     "output_type": "stream",
     "text": [
      "INFO:cmdstanpy:CmdStan start processing\n",
      "chain 1 |\u001B[33m          \u001B[0m| 00:00 Status\n",
      "chain 2 |\u001B[33m          \u001B[0m| 00:00 Status\u001B[A\n",
      "\n",
      "chain 3 |\u001B[33m          \u001B[0m| 00:00 Status\u001B[A\u001B[A\n",
      "\n",
      "\n",
      "chain 4 |\u001B[33m          \u001B[0m| 00:00 Status\u001B[A\u001B[A\u001B[A\n",
      "\n",
      "chain 3 |\u001B[33m▉         \u001B[0m| 00:00 Iteration:    1 / 2000 [  0%]  (Warmup)\u001B[A\u001B[A\n",
      "chain 1 |\u001B[33m▉         \u001B[0m| 00:00 Iteration:    1 / 2000 [  0%]  (Warmup)\u001B[A\n",
      "\n",
      "\n",
      "chain 4 |\u001B[33m▉         \u001B[0m| 00:00 Iteration:    1 / 2000 [  0%]  (Warmup)\u001B[A\u001B[A\u001B[A\n",
      "\n",
      "chain 1 |\u001B[33m█▊        \u001B[0m| 00:00 Iteration:  200 / 2000 [ 10%]  (Warmup)\u001B[A\u001B[A\n",
      "chain 2 |\u001B[33m██▋       \u001B[0m| 00:00 Iteration:  400 / 2000 [ 20%]  (Warmup)\u001B[A\n",
      "\n",
      "chain 3 |\u001B[33m███▋      \u001B[0m| 00:00 Iteration:  600 / 2000 [ 30%]  (Warmup)\u001B[A\u001B[A\n",
      "\n",
      "\n",
      "chain 4 |\u001B[33m█▊        \u001B[0m| 00:00 Iteration:  200 / 2000 [ 10%]  (Warmup)\u001B[A\u001B[A\u001B[A\n",
      "chain 1 |\u001B[33m███▏      \u001B[0m| 00:00 Iteration:  500 / 2000 [ 25%]  (Warmup)\u001B[A\n",
      "\n",
      "chain 3 |\u001B[33m█████     \u001B[0m| 00:00 Iteration:  900 / 2000 [ 45%]  (Warmup)\u001B[A\u001B[A\n",
      "\n",
      "\n",
      "chain 1 |\u001B[33m████      \u001B[0m| 00:00 Iteration:  700 / 2000 [ 35%]  (Warmup)\u001B[A\u001B[A\u001B[A\n",
      "\n",
      "\n",
      "chain 4 |\u001B[33m████▌     \u001B[0m| 00:00 Iteration:  800 / 2000 [ 40%]  (Warmup)\u001B[A\u001B[A\u001B[A\n",
      "chain 1 |\u001B[34m█████▉    \u001B[0m| 00:00 Iteration: 1001 / 2000 [ 50%]  (Sampling)\u001B[A\n",
      "\n",
      "\n",
      "chain 4 |\u001B[34m█████▉    \u001B[0m| 00:01 Iteration: 1001 / 2000 [ 50%]  (Sampling)\u001B[A\u001B[A\u001B[A\n",
      "\n",
      "chain 1 |\u001B[34m██████▊   \u001B[0m| 00:01 Iteration: 1200 / 2000 [ 60%]  (Sampling)\u001B[A\u001B[A\n",
      "chain 2 |\u001B[34m██████▊   \u001B[0m| 00:01 Iteration: 1200 / 2000 [ 60%]  (Sampling)\u001B[A\n",
      "\n",
      "\n",
      "chain 4 |\u001B[34m██████▊   \u001B[0m| 00:01 Iteration: 1200 / 2000 [ 60%]  (Sampling)\u001B[A\u001B[A\u001B[A\n",
      "\n",
      "chain 1 |\u001B[34m███████▋  \u001B[0m| 00:02 Iteration: 1400 / 2000 [ 70%]  (Sampling)\u001B[A\u001B[A\n",
      "chain 2 |\u001B[34m███████▋  \u001B[0m| 00:02 Iteration: 1400 / 2000 [ 70%]  (Sampling)\u001B[A\n",
      "\n",
      "\n",
      "chain 1 |\u001B[34m████████▏ \u001B[0m| 00:02 Iteration: 1500 / 2000 [ 75%]  (Sampling)\u001B[A\u001B[A\u001B[A\n",
      "chain 2 |\u001B[34m████████▏ \u001B[0m| 00:02 Iteration: 1500 / 2000 [ 75%]  (Sampling)\u001B[A\n",
      "\n",
      "chain 1 |\u001B[34m████████▋ \u001B[0m| 00:03 Iteration: 1600 / 2000 [ 80%]  (Sampling)\u001B[A\u001B[A\n",
      "\n",
      "\n",
      "chain 4 |\u001B[34m████████▏ \u001B[0m| 00:03 Iteration: 1500 / 2000 [ 75%]  (Sampling)\u001B[A\u001B[A\u001B[A\n",
      "chain 2 |\u001B[34m████████▋ \u001B[0m| 00:03 Iteration: 1600 / 2000 [ 80%]  (Sampling)\u001B[A\n",
      "\n",
      "chain 1 |\u001B[34m█████████ \u001B[0m| 00:03 Iteration: 1700 / 2000 [ 85%]  (Sampling)\u001B[A\u001B[A\n",
      "\n",
      "\n",
      "chain 4 |\u001B[34m████████▋ \u001B[0m| 00:03 Iteration: 1600 / 2000 [ 80%]  (Sampling)\u001B[A\u001B[A\u001B[A\n",
      "chain 2 |\u001B[34m█████████ \u001B[0m| 00:03 Iteration: 1700 / 2000 [ 85%]  (Sampling)\u001B[A\n",
      "\n",
      "\n",
      "chain 1 |\u001B[34m█████████▌\u001B[0m| 00:03 Iteration: 1800 / 2000 [ 90%]  (Sampling)\u001B[A\u001B[A\u001B[A\n",
      "\n",
      "chain 3 |\u001B[34m█████████ \u001B[0m| 00:04 Iteration: 1700 / 2000 [ 85%]  (Sampling)\u001B[A\u001B[A\n",
      "\n",
      "\n",
      "chain 4 |\u001B[34m█████████▌\u001B[0m| 00:04 Iteration: 1800 / 2000 [ 90%]  (Sampling)\u001B[A\u001B[A\u001B[A\n",
      "chain 2 |\u001B[34m█████████▌\u001B[0m| 00:04 Iteration: 1800 / 2000 [ 90%]  (Sampling)\u001B[A\n",
      "\n",
      "chain 1 |\u001B[34m██████████\u001B[0m| 00:04 Iteration: 1900 / 2000 [ 95%]  (Sampling)\u001B[A\u001B[A\n",
      "\n",
      "\n",
      "chain 4 |\u001B[34m██████████\u001B[0m| 00:04 Iteration: 1900 / 2000 [ 95%]  (Sampling)\u001B[A\u001B[A\u001B[A\n",
      "chain 2 |\u001B[34m██████████\u001B[0m| 00:04 Iteration: 1900 / 2000 [ 95%]  (Sampling)\u001B[A\n",
      "\n",
      "chain 1 |\u001B[34m██████████\u001B[0m| 00:04 Sampling completed                       \u001B[A\u001B[A\n",
      "chain 2 |\u001B[34m██████████\u001B[0m| 00:04 Sampling completed                       \n",
      "chain 3 |\u001B[34m██████████\u001B[0m| 00:04 Sampling completed                       \n",
      "chain 4 |\u001B[34m██████████\u001B[0m| 00:04 Sampling completed                       "
     ]
    },
    {
     "name": "stdout",
     "output_type": "stream",
     "text": [
      "                                                                                                                                                                                                                                                                                                                                "
     ]
    },
    {
     "name": "stderr",
     "output_type": "stream",
     "text": [
      "\n",
      "INFO:cmdstanpy:CmdStan done processing.\n"
     ]
    },
    {
     "name": "stdout",
     "output_type": "stream",
     "text": [
      "\n"
     ]
    }
   ],
   "source": [
    "nxm=[]\n",
    "matrix_tmp = X_matrix[:,0:2]\n",
    "for i in matrix_tmp:\n",
    "    vect = []\n",
    "    for j in i:\n",
    "        vect.append(j)\n",
    "    nxm.append(vect)\n",
    "\n",
    "data5_K2=dict(N=N,K=2,y=np.array(y_mean_code2),X=nxm)\n",
    "result_K2= model5.sample(data=data5_K2)"
   ],
   "metadata": {
    "collapsed": false,
    "pycharm": {
     "name": "#%%\n"
    }
   }
  },
  {
   "cell_type": "markdown",
   "source": [
    "Predictor K = 3"
   ],
   "metadata": {
    "collapsed": false,
    "pycharm": {
     "name": "#%% md\n"
    }
   }
  },
  {
   "cell_type": "code",
   "execution_count": 88,
   "outputs": [
    {
     "name": "stderr",
     "output_type": "stream",
     "text": [
      "INFO:cmdstanpy:CmdStan start processing\n"
     ]
    },
    {
     "name": "stdout",
     "output_type": "stream",
     "text": [
      "3\n"
     ]
    },
    {
     "name": "stderr",
     "output_type": "stream",
     "text": [
      "chain 1 |\u001B[33m          \u001B[0m| 00:00 Status\n",
      "chain 2 |\u001B[33m          \u001B[0m| 00:00 Status\u001B[A\n",
      "\n",
      "chain 3 |\u001B[33m          \u001B[0m| 00:00 Status\u001B[A\u001B[A\n",
      "\n",
      "\n",
      "chain 4 |\u001B[33m          \u001B[0m| 00:00 Status\u001B[A\u001B[A\u001B[A\n",
      "chain 2 |\u001B[33m█▎        \u001B[0m| 00:00 Iteration:  100 / 2000 [  5%]  (Warmup)\u001B[A\n",
      "\n",
      "\n",
      "chain 4 |\u001B[33m▉         \u001B[0m| 00:00 Iteration:    1 / 2000 [  0%]  (Warmup)\u001B[A\u001B[A\u001B[A\n",
      "\n",
      "chain 1 |\u001B[33m█▎        \u001B[0m| 00:00 Iteration:  100 / 2000 [  5%]  (Warmup)\n",
      "\n",
      "\n",
      "chain 1 |\u001B[33m██▋       \u001B[0m| 00:00 Iteration:  400 / 2000 [ 20%]  (Warmup)\u001B[A\u001B[A\u001B[A\n",
      "\n",
      "chain 3 |\u001B[33m█▎        \u001B[0m| 00:00 Iteration:  100 / 2000 [  5%]  (Warmup)\u001B[A\u001B[A\n",
      "\n",
      "\n",
      "chain 4 |\u001B[33m████      \u001B[0m| 00:00 Iteration:  700 / 2000 [ 35%]  (Warmup)\u001B[A\u001B[A\u001B[A\n",
      "chain 1 |\u001B[33m████▌     \u001B[0m| 00:00 Iteration:  800 / 2000 [ 40%]  (Warmup)\u001B[A\n",
      "\n",
      "chain 3 |\u001B[33m█▊        \u001B[0m| 00:00 Iteration:  200 / 2000 [ 10%]  (Warmup)\u001B[A\u001B[A\n",
      "chain 2 |\u001B[33m███▋      \u001B[0m| 00:00 Iteration:  600 / 2000 [ 30%]  (Warmup)\u001B[A\n",
      "\n",
      "chain 3 |\u001B[33m███▏      \u001B[0m| 00:00 Iteration:  500 / 2000 [ 25%]  (Warmup)\u001B[A\u001B[A\n",
      "chain 2 |\u001B[33m█████     \u001B[0m| 00:00 Iteration:  900 / 2000 [ 45%]  (Warmup)\u001B[A\n",
      "\n",
      "chain 3 |\u001B[33m████▌     \u001B[0m| 00:00 Iteration:  800 / 2000 [ 40%]  (Warmup)\u001B[A\u001B[A\n",
      "\n",
      "\n",
      "chain 1 |\u001B[34m█████▉    \u001B[0m| 00:00 Iteration: 1001 / 2000 [ 50%]  (Sampling)\u001B[A\u001B[A\u001B[A\n",
      "\n",
      "chain 3 |\u001B[34m█████▉    \u001B[0m| 00:01 Iteration: 1001 / 2000 [ 50%]  (Sampling)\u001B[A\u001B[A\n",
      "chain 2 |\u001B[34m██████▎   \u001B[0m| 00:01 Iteration: 1100 / 2000 [ 55%]  (Sampling)\u001B[A\n",
      "\n",
      "chain 1 |\u001B[34m██████▊   \u001B[0m| 00:01 Iteration: 1200 / 2000 [ 60%]  (Sampling)\u001B[A\u001B[A\n",
      "\n",
      "\n",
      "chain 4 |\u001B[34m███████▎  \u001B[0m| 00:01 Iteration: 1300 / 2000 [ 65%]  (Sampling)\u001B[A\u001B[A\u001B[A\n",
      "chain 2 |\u001B[34m███████▎  \u001B[0m| 00:02 Iteration: 1300 / 2000 [ 65%]  (Sampling)\u001B[A\n",
      "\n",
      "chain 1 |\u001B[34m███████▋  \u001B[0m| 00:02 Iteration: 1400 / 2000 [ 70%]  (Sampling)\u001B[A\u001B[A\n",
      "\n",
      "\n",
      "chain 4 |\u001B[34m████████▏ \u001B[0m| 00:02 Iteration: 1500 / 2000 [ 75%]  (Sampling)\u001B[A\u001B[A\u001B[A\n",
      "\n",
      "chain 1 |\u001B[34m████████▏ \u001B[0m| 00:03 Iteration: 1500 / 2000 [ 75%]  (Sampling)\u001B[A\u001B[A\n",
      "chain 2 |\u001B[34m████████▏ \u001B[0m| 00:03 Iteration: 1500 / 2000 [ 75%]  (Sampling)\u001B[A\n",
      "\n",
      "\n",
      "chain 4 |\u001B[34m████████▋ \u001B[0m| 00:03 Iteration: 1600 / 2000 [ 80%]  (Sampling)\u001B[A\u001B[A\u001B[A\n",
      "\n",
      "chain 3 |\u001B[34m████████▋ \u001B[0m| 00:03 Iteration: 1600 / 2000 [ 80%]  (Sampling)\u001B[A\u001B[A\n",
      "chain 1 |\u001B[34m████████▋ \u001B[0m| 00:03 Iteration: 1600 / 2000 [ 80%]  (Sampling)\u001B[A\n",
      "\n",
      "\n",
      "chain 4 |\u001B[34m█████████ \u001B[0m| 00:03 Iteration: 1700 / 2000 [ 85%]  (Sampling)\u001B[A\u001B[A\u001B[A\n",
      "chain 2 |\u001B[34m█████████ \u001B[0m| 00:03 Iteration: 1700 / 2000 [ 85%]  (Sampling)\u001B[A\n",
      "\n",
      "chain 1 |\u001B[34m█████████ \u001B[0m| 00:04 Iteration: 1700 / 2000 [ 85%]  (Sampling)\u001B[A\u001B[A\n",
      "\n",
      "\n",
      "chain 4 |\u001B[34m█████████▌\u001B[0m| 00:04 Iteration: 1800 / 2000 [ 90%]  (Sampling)\u001B[A\u001B[A\u001B[A\n",
      "chain 2 |\u001B[34m█████████▌\u001B[0m| 00:04 Iteration: 1800 / 2000 [ 90%]  (Sampling)\u001B[A\n",
      "\n",
      "chain 1 |\u001B[34m█████████▌\u001B[0m| 00:04 Iteration: 1800 / 2000 [ 90%]  (Sampling)\u001B[A\u001B[A\n",
      "\n",
      "\n",
      "chain 4 |\u001B[34m██████████\u001B[0m| 00:04 Iteration: 1900 / 2000 [ 95%]  (Sampling)\u001B[A\u001B[A\u001B[A\n",
      "chain 2 |\u001B[34m██████████\u001B[0m| 00:04 Iteration: 1900 / 2000 [ 95%]  (Sampling)\u001B[A\n",
      "\n",
      "chain 1 |\u001B[34m██████████\u001B[0m| 00:04 Sampling completed                       \u001B[A\u001B[A\n",
      "chain 2 |\u001B[34m██████████\u001B[0m| 00:04 Sampling completed                       \n",
      "chain 3 |\u001B[34m██████████\u001B[0m| 00:04 Sampling completed                       \n",
      "chain 4 |\u001B[34m██████████\u001B[0m| 00:04 Sampling completed                       "
     ]
    },
    {
     "name": "stdout",
     "output_type": "stream",
     "text": [
      "                                                                                                                                                                                                                                                                                                                                "
     ]
    },
    {
     "name": "stderr",
     "output_type": "stream",
     "text": [
      "\n",
      "INFO:cmdstanpy:CmdStan done processing.\n"
     ]
    },
    {
     "name": "stdout",
     "output_type": "stream",
     "text": [
      "\n"
     ]
    }
   ],
   "source": [
    "nxm=[]\n",
    "matrix_tmp = X_matrix[:,0:3]\n",
    "for i in matrix_tmp:\n",
    "    vect = []\n",
    "    for j in i:\n",
    "        vect.append(j)\n",
    "    nxm.append(vect)\n",
    "\n",
    "print(len(matrix_tmp[0]))\n",
    "\n",
    "data5_K3=dict(N=N,K=3,y=np.array(y_mean_code2),X=nxm)\n",
    "result_K3= model5.sample(data=data5_K3)"
   ],
   "metadata": {
    "collapsed": false,
    "pycharm": {
     "name": "#%%\n"
    }
   }
  },
  {
   "cell_type": "code",
   "execution_count": 95,
   "outputs": [
    {
     "data": {
      "text/plain": "Computed from 4000 by 1100 log-likelihood matrix\n\n         Estimate       SE\nelpd_loo  2000.03    22.18\np_loo        1.86        -"
     },
     "execution_count": 95,
     "metadata": {},
     "output_type": "execute_result"
    }
   ],
   "source": [
    "az.loo(result_K1)"
   ],
   "metadata": {
    "collapsed": false,
    "pycharm": {
     "name": "#%%\n"
    }
   }
  },
  {
   "cell_type": "code",
   "execution_count": 90,
   "outputs": [
    {
     "data": {
      "text/plain": "Computed from 4000 by 1100 log-likelihood matrix\n\n         Estimate       SE\nelpd_loo  1999.09    22.12\np_loo        2.87        -"
     },
     "execution_count": 90,
     "metadata": {},
     "output_type": "execute_result"
    }
   ],
   "source": [
    "az.loo(result_K2)"
   ],
   "metadata": {
    "collapsed": false,
    "pycharm": {
     "name": "#%%\n"
    }
   }
  },
  {
   "cell_type": "code",
   "execution_count": 96,
   "outputs": [
    {
     "data": {
      "text/plain": "Computed from 4000 by 1100 log-likelihood matrix\n\n         Estimate       SE\nelpd_loo  2000.76    22.37\np_loo        3.89        -"
     },
     "execution_count": 96,
     "metadata": {},
     "output_type": "execute_result"
    }
   ],
   "source": [
    "az.loo(result_K3)"
   ],
   "metadata": {
    "collapsed": false,
    "pycharm": {
     "name": "#%%\n"
    }
   }
  },
  {
   "cell_type": "code",
   "execution_count": 97,
   "outputs": [
    {
     "data": {
      "text/plain": "Computed from 4000 by 1100 log-likelihood matrix\n\n          Estimate       SE\nelpd_waic  2000.03    22.18\np_waic        1.86        -"
     },
     "execution_count": 97,
     "metadata": {},
     "output_type": "execute_result"
    }
   ],
   "source": [
    "az.waic(result_K1)"
   ],
   "metadata": {
    "collapsed": false,
    "pycharm": {
     "name": "#%%\n"
    }
   }
  },
  {
   "cell_type": "code",
   "execution_count": 98,
   "outputs": [
    {
     "data": {
      "text/plain": "Computed from 4000 by 1100 log-likelihood matrix\n\n          Estimate       SE\nelpd_waic  1999.09    22.12\np_waic        2.87        -"
     },
     "execution_count": 98,
     "metadata": {},
     "output_type": "execute_result"
    }
   ],
   "source": [
    "az.waic(result_K2)"
   ],
   "metadata": {
    "collapsed": false,
    "pycharm": {
     "name": "#%%\n"
    }
   }
  },
  {
   "cell_type": "code",
   "execution_count": 99,
   "outputs": [
    {
     "data": {
      "text/plain": "Computed from 4000 by 1100 log-likelihood matrix\n\n          Estimate       SE\nelpd_waic  2000.76    22.37\np_waic        3.89        -"
     },
     "execution_count": 99,
     "metadata": {},
     "output_type": "execute_result"
    }
   ],
   "source": [
    "az.waic(result_K3)"
   ],
   "metadata": {
    "collapsed": false,
    "pycharm": {
     "name": "#%%\n"
    }
   }
  },
  {
   "cell_type": "code",
   "execution_count": 101,
   "outputs": [
    {
     "name": "stderr",
     "output_type": "stream",
     "text": [
      "/home/agata/PycharmProjects/test1/venv/lib/python3.9/site-packages/arviz/stats/stats.py:248: FutureWarning: The frame.append method is deprecated and will be removed from pandas in a future version. Use pandas.concat instead.\n",
      "  ics = ics.append([ic_func(dataset, pointwise=True, scale=scale, var_name=var_name)])\n",
      "/home/agata/PycharmProjects/test1/venv/lib/python3.9/site-packages/arviz/stats/stats.py:248: FutureWarning: The frame.append method is deprecated and will be removed from pandas in a future version. Use pandas.concat instead.\n",
      "  ics = ics.append([ic_func(dataset, pointwise=True, scale=scale, var_name=var_name)])\n",
      "/home/agata/PycharmProjects/test1/venv/lib/python3.9/site-packages/arviz/stats/stats.py:248: FutureWarning: The frame.append method is deprecated and will be removed from pandas in a future version. Use pandas.concat instead.\n",
      "  ics = ics.append([ic_func(dataset, pointwise=True, scale=scale, var_name=var_name)])\n"
     ]
    },
    {
     "data": {
      "text/plain": "   rank          loo     p_loo     d_loo    weight         se       dse  \\\n3     0  2000.760892  3.886271  0.000000  0.631033  22.365381  0.000000   \n1     1  2000.030671  1.863674  0.730221  0.368967  22.178642  2.365531   \n2     2  1999.087564  2.872391  1.673328  0.000000  22.117456  2.338191   \n\n   warning loo_scale  \n3    False       log  \n1    False       log  \n2    False       log  ",
      "text/html": "<div>\n<style scoped>\n    .dataframe tbody tr th:only-of-type {\n        vertical-align: middle;\n    }\n\n    .dataframe tbody tr th {\n        vertical-align: top;\n    }\n\n    .dataframe thead th {\n        text-align: right;\n    }\n</style>\n<table border=\"1\" class=\"dataframe\">\n  <thead>\n    <tr style=\"text-align: right;\">\n      <th></th>\n      <th>rank</th>\n      <th>loo</th>\n      <th>p_loo</th>\n      <th>d_loo</th>\n      <th>weight</th>\n      <th>se</th>\n      <th>dse</th>\n      <th>warning</th>\n      <th>loo_scale</th>\n    </tr>\n  </thead>\n  <tbody>\n    <tr>\n      <th>3</th>\n      <td>0</td>\n      <td>2000.760892</td>\n      <td>3.886271</td>\n      <td>0.000000</td>\n      <td>0.631033</td>\n      <td>22.365381</td>\n      <td>0.000000</td>\n      <td>False</td>\n      <td>log</td>\n    </tr>\n    <tr>\n      <th>1</th>\n      <td>1</td>\n      <td>2000.030671</td>\n      <td>1.863674</td>\n      <td>0.730221</td>\n      <td>0.368967</td>\n      <td>22.178642</td>\n      <td>2.365531</td>\n      <td>False</td>\n      <td>log</td>\n    </tr>\n    <tr>\n      <th>2</th>\n      <td>2</td>\n      <td>1999.087564</td>\n      <td>2.872391</td>\n      <td>1.673328</td>\n      <td>0.000000</td>\n      <td>22.117456</td>\n      <td>2.338191</td>\n      <td>False</td>\n      <td>log</td>\n    </tr>\n  </tbody>\n</table>\n</div>"
     },
     "execution_count": 101,
     "metadata": {},
     "output_type": "execute_result"
    }
   ],
   "source": [
    "compare_model5_K1=az.from_cmdstanpy(result_K1)\n",
    "compare_model5_K2=az.from_cmdstanpy(result_K2)\n",
    "compare_model5_K3=az.from_cmdstanpy(result_K3)\n",
    "\n",
    "compare_result_model5=az.compare({\"1\":compare_model5_K1,\"2\":compare_model5_K2, \"3\":compare_model5_K3})\n",
    "compare_result_model5"
   ],
   "metadata": {
    "collapsed": false,
    "pycharm": {
     "name": "#%%\n"
    }
   }
  },
  {
   "cell_type": "code",
   "execution_count": 102,
   "outputs": [
    {
     "data": {
      "text/plain": "<AxesSubplot:xlabel='Log'>"
     },
     "execution_count": 102,
     "metadata": {},
     "output_type": "execute_result"
    },
    {
     "data": {
      "text/plain": "<Figure size 432x216 with 1 Axes>",
      "image/png": "[encoded data removed]"
     },
     "metadata": {
      "needs_background": "light"
     },
     "output_type": "display_data"
    }
   ],
   "source": [
    "az.plot_compare(compare_result_model5)"
   ],
   "metadata": {
    "collapsed": false,
    "pycharm": {
     "name": "#%%\n"
    }
   }
  }
 ],
 "metadata": {
  "kernelspec": {
   "display_name": "Python 3",
   "language": "python",
   "name": "python3"
  },
  "language_info": {
   "codemirror_mode": {
    "name": "ipython",
    "version": 2
   },
   "file_extension": ".py",
   "mimetype": "text/x-python",
   "name": "python",
   "nbconvert_exporter": "python",
   "pygments_lexer": "ipython2",
   "version": "2.7.6"
  }
 },
 "nbformat": 4,
 "nbformat_minor": 0
}